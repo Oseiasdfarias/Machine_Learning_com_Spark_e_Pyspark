{
 "cells": [
  {
   "attachments": {},
   "cell_type": "markdown",
   "id": "c64e677e",
   "metadata": {},
   "source": [
    "#  Regressão Linear com Spark usando PySpark\n",
    "\n",
    "A **regressão linear** é um algoritmo de **aprendizado de máquina supervisionado** que utiliza dados históricos para estimar o valor de algo, permitindo a previsão de eventos futuros. Existem dois tipos principais de regressão linear: simples e múltipla. A **regressão linear simples** é usada quando há apenas uma variável independente (X) para prever um resultado, enquanto a **regressão linear múltipla** é utilizada quando várias variáveis independentes (X) são necessárias para fazer a previsão.\n",
    "\n",
    "![image.png](https://miro.medium.com/v2/resize:fit:1400/format:webp/1*kYeEvedeSMcI2ppvLSDaKw.png)\n",
    "\n",
    "\n",
    "### Inicializando o PySpark"
   ]
  },
  {
   "cell_type": "code",
   "execution_count": 2,
   "id": "3ecfeb6e",
   "metadata": {},
   "outputs": [],
   "source": [
    "import findspark\n",
    "import pyspark\n",
    "from pyspark.sql import SparkSession\n",
    "\n",
    "# Faz a Interafce entre o Spark e o Jupyter Notebook\n",
    "findspark.init()\n",
    "\n",
    "# Inicializando uma Sessão no Spark\n",
    "spark = SparkSession.builder.appName(\"regresaolinear\").getOrCreate()"
   ]
  },
  {
   "cell_type": "code",
   "execution_count": null,
   "id": "513e5e76",
   "metadata": {},
   "outputs": [],
   "source": []
  },
  {
   "cell_type": "markdown",
   "id": "d09d23be",
   "metadata": {},
   "source": [
    "## Hiper Parâmetros\n",
    "\n",
    "> + **loss**: função de perda. squaredError, huber. (padrão: squaredError)\n",
    "> + **maxIter**: número máximo de interações. (padrão 100)\n",
    "> + **standardization**: define se os dados devem ser padronizados antes de criar o modelo. (padrão true)\n"
   ]
  },
  {
   "cell_type": "markdown",
   "id": "c2dcc5fc",
   "metadata": {},
   "source": [
    "---\n",
    "\n",
    "# Aplicando Regressão Linear Multipla no DataSet Carros\n",
    "\n"
   ]
  },
  {
   "cell_type": "markdown",
   "id": "85f45af4",
   "metadata": {},
   "source": [
    "## Carregando o Cunjunto de Dados Carros"
   ]
  },
  {
   "cell_type": "code",
   "execution_count": 4,
   "id": "a673a559",
   "metadata": {},
   "outputs": [
    {
     "name": "stderr",
     "output_type": "stream",
     "text": [
      "\r",
      "[Stage 0:>                                                          (0 + 1) / 1]\r",
      "\r",
      "                                                                                \r"
     ]
    },
    {
     "name": "stdout",
     "output_type": "stream",
     "text": [
      "Quantidade de Registros do Dataset: 32\n",
      "+-------+---------+-----------+---------------+----+-----+---------+-----------+-------+-----------+---+\n",
      "|Consumo|Cilindros|Cilindradas|RelEixoTraseiro|Peso|Tempo|TipoMotor|Transmissao|Marchas|Carburadors| HP|\n",
      "+-------+---------+-----------+---------------+----+-----+---------+-----------+-------+-----------+---+\n",
      "|     21|        6|        160|             39| 262| 1646|        0|          1|      4|          4|110|\n",
      "|     21|        6|        160|             39|2875| 1702|        0|          1|      4|          4|110|\n",
      "|    228|        4|        108|            385| 232| 1861|        1|          1|      4|          1| 93|\n",
      "|    214|        6|        258|            308|3215| 1944|        1|          0|      3|          1|110|\n",
      "|    187|        8|        360|            315| 344| 1702|        0|          0|      3|          2|175|\n",
      "+-------+---------+-----------+---------------+----+-----+---------+-----------+-------+-----------+---+\n",
      "only showing top 5 rows\n",
      "\n"
     ]
    }
   ],
   "source": [
    "carros_data = spark.read.csv(\"../Material_do_Curso/Carros.csv\",\n",
    "                             header=True, inferSchema=True, sep=\";\")\n",
    "print(f\"Quantidade de Registros do Dataset: {carros_data.count()}\")\n",
    "carros_data.show(5)"
   ]
  },
  {
   "cell_type": "markdown",
   "id": "4a006167",
   "metadata": {},
   "source": [
    "### Escolha das Variáveis Independentes e Dependente para treinamento do Modelo\n",
    "\n",
    "Para esse exemplo, as variáveis dependentes serão os atritutos  **Consumo | Cilindros | Cilindradas |** e a variável Dependente será o Atributo **| HP |**\n",
    "\n",
    "ou seja, vamos usar as variáveis independentes para prever a dependente, para isso, vamos treinar o modelo com os dados do dataset."
   ]
  },
  {
   "cell_type": "markdown",
   "id": "b3925284",
   "metadata": {},
   "source": [
    "### Importação do Módulo do PySpark Para o Pré-Processamento dos Dados"
   ]
  },
  {
   "cell_type": "code",
   "execution_count": 9,
   "id": "5bfe6db4",
   "metadata": {},
   "outputs": [],
   "source": [
    "from pyspark.ml.feature import RFormula"
   ]
  },
  {
   "cell_type": "code",
   "execution_count": 10,
   "id": "fba2d42f",
   "metadata": {},
   "outputs": [
    {
     "name": "stdout",
     "output_type": "stream",
     "text": [
      "+-----------------+----------+\n",
      "|independentes    |dependente|\n",
      "+-----------------+----------+\n",
      "|[21.0,6.0,160.0] |110.0     |\n",
      "|[21.0,6.0,160.0] |110.0     |\n",
      "|[228.0,4.0,108.0]|93.0      |\n",
      "|[214.0,6.0,258.0]|110.0     |\n",
      "|[187.0,8.0,360.0]|175.0     |\n",
      "+-----------------+----------+\n",
      "only showing top 5 rows\n",
      "\n"
     ]
    }
   ],
   "source": [
    "# Colocando os dados no Formato de dataframe do Spark usando o RFormula\n",
    "rformula = RFormula(formula=\"HP ~ Consumo + Cilindros + Cilindradas\",\n",
    "                    featuresCol=\"independentes\", labelCol=\"dependente\")\n",
    "carros_rf = rformula.fit(carros_data).transform(carros_data)\n",
    "carros_rf.select(\"independentes\", \"dependente\").show(5, truncate=False)"
   ]
  },
  {
   "cell_type": "markdown",
   "id": "59a115d5",
   "metadata": {},
   "source": [
    "### Separando os Dados de Treino e Teste\n",
    "\n",
    "O Conjunto de dados serão separados entre treino e teste, sendo que **80%** será para treinar o modelo e **20%** para testar o modelo."
   ]
  },
  {
   "cell_type": "code",
   "execution_count": 13,
   "id": "e8ad20c8",
   "metadata": {
    "scrolled": true
   },
   "outputs": [
    {
     "name": "stdout",
     "output_type": "stream",
     "text": [
      "Quantidade de Dados de Treino: 22\n",
      "Quantidade de Dados de Teste: 10\n"
     ]
    }
   ],
   "source": [
    "carros_train, carros_test = carros_rf.randomSplit([0.8, 0.2])\n",
    "print(f\"Quantidade de Dados de Treino: {carros_train.count()}\")\n",
    "print(f\"Quantidade de Dados de Teste: {carros_test.count()}\")"
   ]
  },
  {
   "cell_type": "markdown",
   "id": "7f6b5bf6",
   "metadata": {},
   "source": [
    "---\n",
    "\n",
    "### Importação do Módulo do PySpark Para Criação do Modelo de Regressão Linear "
   ]
  },
  {
   "cell_type": "markdown",
   "id": "7ab65918",
   "metadata": {},
   "source": [
    "from pyspark.ml.regression import LinearRegression"
   ]
  },
  {
   "cell_type": "markdown",
   "id": "01232e6e",
   "metadata": {},
   "source": [
    "#### Instanciando Objeto e criando o Modelo"
   ]
  },
  {
   "cell_type": "code",
   "execution_count": 17,
   "id": "96d8cdae",
   "metadata": {},
   "outputs": [
    {
     "name": "stdout",
     "output_type": "stream",
     "text": [
      "23/03/03 14:21:50 WARN Instrumentation: [700ade16] regParam is zero, which might cause numerical instability and overfitting.\n"
     ]
    }
   ],
   "source": [
    "# Instanciando o objeto LinearRegression\n",
    "obj_rl = LinearRegression(featuresCol=\"independentes\", labelCol=\"dependente\",\n",
    "                            maxIter=1000, loss=\"squaredError\", standardization=True)\n",
    "\n",
    "# Criando o Modelo\n",
    "model_rl = obj_rl.fit(carros_train)"
   ]
  },
  {
   "cell_type": "markdown",
   "id": "8b952849",
   "metadata": {},
   "source": [
    "#### Realizando Presição com o Modelo Criado"
   ]
  },
  {
   "cell_type": "code",
   "execution_count": 18,
   "id": "53e70eb2",
   "metadata": {},
   "outputs": [
    {
     "name": "stdout",
     "output_type": "stream",
     "text": [
      "+----------+------------------+\n",
      "|dependente|        prediction|\n",
      "+----------+------------------+\n",
      "|     110.0| 179.3068775387569|\n",
      "|     205.0|220.86660273378368|\n",
      "|     245.0|215.69067166446587|\n",
      "|     180.0|  192.771953940586|\n",
      "|     150.0|211.28883717047472|\n",
      "|     180.0|188.33045377257704|\n",
      "|     109.0| 77.23039291089471|\n",
      "|     113.0| 51.68078231350861|\n",
      "|      66.0| 48.73800627384352|\n",
      "|      65.0| 46.16202464863044|\n",
      "+----------+------------------+\n",
      "\n"
     ]
    }
   ],
   "source": [
    "previsao = model_rl.transform(carros_test)\n",
    "previsao.select(\"dependente\", \"prediction\").show()"
   ]
  },
  {
   "cell_type": "markdown",
   "id": "ab43d4c4",
   "metadata": {},
   "source": [
    "### Avaliando o Modelo"
   ]
  },
  {
   "cell_type": "code",
   "execution_count": 19,
   "id": "6d63cf26",
   "metadata": {},
   "outputs": [],
   "source": [
    "from pyspark.ml.evaluation import RegressionEvaluator"
   ]
  },
  {
   "cell_type": "code",
   "execution_count": 20,
   "id": "341f26e8",
   "metadata": {
    "scrolled": true
   },
   "outputs": [
    {
     "name": "stdout",
     "output_type": "stream",
     "text": [
      "rmse: 39.14750317480117\n"
     ]
    },
    {
     "name": "stderr",
     "output_type": "stream",
     "text": [
      "\r",
      "[Stage 24:>                                                         (0 + 1) / 1]\r",
      "\r",
      "                                                                                \r"
     ]
    }
   ],
   "source": [
    "avaliar = RegressionEvaluator(predictionCol=\"prediction\", labelCol=\"dependente\",\n",
    "                              metricName=\"rmse\")\n",
    "rmse = avaliar.evaluate(previsao)\n",
    "print(f\"rmse: {rmse}\")"
   ]
  },
  {
   "cell_type": "markdown",
   "id": "2b0ff3ab",
   "metadata": {},
   "source": [
    "O **desvio quadrático médio** ou **erro quadrático médio** é uma medida frequentemente usada das diferenças entre os valores previstos por um modelo ou estimador e os valores observados. dessa forma, quanto menor for esse valor melhor o modelo.\n",
    "\n",
    "Para o modelo avaliado nesse exemplo, podemos observar que esse valor é relativamente grande, isso ocorre por conta do tamanho do conjunto de dados que é pequeno."
   ]
  }
 ],
 "metadata": {
  "kernelspec": {
   "display_name": "Python 3 (ipykernel)",
   "language": "python",
   "name": "python3"
  },
  "language_info": {
   "codemirror_mode": {
    "name": "ipython",
    "version": 3
   },
   "file_extension": ".py",
   "mimetype": "text/x-python",
   "name": "python",
   "nbconvert_exporter": "python",
   "pygments_lexer": "ipython3",
   "version": "3.10.8"
  }
 },
 "nbformat": 4,
 "nbformat_minor": 5
}
