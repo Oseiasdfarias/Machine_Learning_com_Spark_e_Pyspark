{
 "cells": [
  {
   "cell_type": "markdown",
   "id": "c64e677e",
   "metadata": {},
   "source": [
    "#  Regressão Linear com Spark usando PySpark\n",
    "\n",
    "A **regressão linear** é um algoritmo de **aprendizado de máquina supervisionado** que utiliza dados históricos para estimar o valor de algo, permitindo a previsão de eventos futuros. Existem dois tipos principais de regressão linear: simples e múltipla. A **regressão linear simples** é usada quando há apenas uma variável independente (X) para prever um resultado, enquanto a **regressão linear múltipla** é utilizada quando várias variáveis independentes (X) são necessárias para fazer a previsão.\n",
    "\n",
    "![image.png](rl.png)\n",
    "\n",
    "\n",
    "## Inicializando o PySpark"
   ]
  },
  {
   "cell_type": "code",
   "execution_count": 225,
   "id": "3ecfeb6e",
   "metadata": {},
   "outputs": [],
   "source": [
    "import findspark\n",
    "import pyspark\n",
    "from pyspark.sql import SparkSession\n",
    "\n",
    "# Faz a Interafce entre o Spark e o Jupyter Notebook\n",
    "findspark.init()\n",
    "\n",
    "# Inicializando uma Sessão no Spark\n",
    "spark = SparkSession.builder.appName(\"regresaolinear\").getOrCreate()"
   ]
  },
  {
   "cell_type": "markdown",
   "id": "d09d23be",
   "metadata": {},
   "source": [
    "### Hiper Parâmetros\n",
    "\n",
    "> + **loss**: função de perda. squaredError, huber. (padrão: squaredError)\n",
    "> + **maxIter**: número máximo de interações. (padrão 100)\n",
    "> + **standardization**: define se os dados devem ser padronizados antes de criar o modelo. (padrão true)\n"
   ]
  },
  {
   "cell_type": "markdown",
   "id": "c2dcc5fc",
   "metadata": {},
   "source": [
    "---\n",
    "\n",
    "## Aplicando Regressão Linear Multipla no DataSet Carros\n",
    "\n"
   ]
  },
  {
   "cell_type": "markdown",
   "id": "85f45af4",
   "metadata": {},
   "source": [
    "### Carregando o Cunjunto de Dados Carros"
   ]
  },
  {
   "cell_type": "code",
   "execution_count": 226,
   "id": "a673a559",
   "metadata": {},
   "outputs": [
    {
     "name": "stdout",
     "output_type": "stream",
     "text": [
      "Quantidade de Registros do Dataset: 32\n",
      "+-------+---------+-----------+---------------+----+-----+---------+-----------+-------+-----------+---+\n",
      "|Consumo|Cilindros|Cilindradas|RelEixoTraseiro|Peso|Tempo|TipoMotor|Transmissao|Marchas|Carburadors| HP|\n",
      "+-------+---------+-----------+---------------+----+-----+---------+-----------+-------+-----------+---+\n",
      "|     21|        6|        160|             39| 262| 1646|        0|          1|      4|          4|110|\n",
      "|     21|        6|        160|             39|2875| 1702|        0|          1|      4|          4|110|\n",
      "|    228|        4|        108|            385| 232| 1861|        1|          1|      4|          1| 93|\n",
      "|    214|        6|        258|            308|3215| 1944|        1|          0|      3|          1|110|\n",
      "|    187|        8|        360|            315| 344| 1702|        0|          0|      3|          2|175|\n",
      "+-------+---------+-----------+---------------+----+-----+---------+-----------+-------+-----------+---+\n",
      "only showing top 5 rows\n",
      "\n"
     ]
    }
   ],
   "source": [
    "carros_data = spark.read.csv(\"../Material_do_Curso/Carros.csv\",\n",
    "                             header=True, inferSchema=True, sep=\";\")\n",
    "print(f\"Quantidade de Registros do Dataset: {carros_data.count()}\")\n",
    "carros_data.show(5, truncate=True)"
   ]
  },
  {
   "cell_type": "markdown",
   "id": "4a006167",
   "metadata": {},
   "source": [
    "### Escolha das Variáveis Independentes e Dependente para treinamento do Modelo\n",
    "\n",
    "Para esse exemplo, as variáveis dependentes serão os atritutos  **Consumo | Cilindros | Cilindradas |** e a variável Dependente será o Atributo **| HP |**\n",
    "\n",
    "ou seja, vamos usar as variáveis independentes para prever a dependente, para isso, vamos treinar o modelo com os dados do dataset."
   ]
  },
  {
   "cell_type": "markdown",
   "id": "b3925284",
   "metadata": {},
   "source": [
    "### Importação do Módulo do PySpark Para o Pré-Processamento dos Dados"
   ]
  },
  {
   "cell_type": "code",
   "execution_count": 227,
   "id": "5bfe6db4",
   "metadata": {},
   "outputs": [],
   "source": [
    "from pyspark.ml.feature import RFormula"
   ]
  },
  {
   "cell_type": "code",
   "execution_count": 228,
   "id": "fba2d42f",
   "metadata": {},
   "outputs": [
    {
     "name": "stdout",
     "output_type": "stream",
     "text": [
      "+-----------------+----------+\n",
      "|independentes    |dependente|\n",
      "+-----------------+----------+\n",
      "|[21.0,6.0,160.0] |110.0     |\n",
      "|[21.0,6.0,160.0] |110.0     |\n",
      "|[228.0,4.0,108.0]|93.0      |\n",
      "|[214.0,6.0,258.0]|110.0     |\n",
      "|[187.0,8.0,360.0]|175.0     |\n",
      "+-----------------+----------+\n",
      "only showing top 5 rows\n",
      "\n"
     ]
    }
   ],
   "source": [
    "# Colocando os dados no Formato de dataframe do Spark usando o RFormula\n",
    "rformula = RFormula(formula=\"HP ~ Consumo + Cilindros + Cilindradas\",\n",
    "                    featuresCol=\"independentes\", labelCol=\"dependente\")\n",
    "carros_rf = rformula.fit(carros_data).transform(carros_data)\n",
    "carros_rf.select(\"independentes\", \"dependente\").show(5, truncate=False)"
   ]
  },
  {
   "cell_type": "markdown",
   "id": "59a115d5",
   "metadata": {},
   "source": [
    "### Separando os Dados entre conjunto de Treino e Teste\n",
    "\n",
    "O Conjunto de dados serão separados entre treino e teste, sendo que **80%** será para treinar o modelo e **20%** para testar o modelo."
   ]
  },
  {
   "cell_type": "code",
   "execution_count": 229,
   "id": "e8ad20c8",
   "metadata": {
    "scrolled": true
   },
   "outputs": [
    {
     "name": "stdout",
     "output_type": "stream",
     "text": [
      "Quantidade de Dados de Treino: 26\n",
      "Quantidade de Dados de Teste: 6\n"
     ]
    }
   ],
   "source": [
    "carros_train, carros_test = carros_rf.randomSplit([0.8, 0.2])\n",
    "print(f\"Quantidade de Dados de Treino: {carros_train.count()}\")\n",
    "print(f\"Quantidade de Dados de Teste: {carros_test.count()}\")"
   ]
  },
  {
   "cell_type": "markdown",
   "id": "7f6b5bf6",
   "metadata": {},
   "source": [
    "---\n",
    "\n",
    "### Importação do Módulo do PySpark Para Criação do Modelo de Regressão Linear "
   ]
  },
  {
   "cell_type": "code",
   "execution_count": 230,
   "id": "81b15be7",
   "metadata": {},
   "outputs": [],
   "source": [
    "from pyspark.ml.regression import LinearRegression"
   ]
  },
  {
   "cell_type": "markdown",
   "id": "01232e6e",
   "metadata": {},
   "source": [
    "#### Instanciando Objeto e criando o Modelo"
   ]
  },
  {
   "cell_type": "code",
   "execution_count": 231,
   "id": "96d8cdae",
   "metadata": {},
   "outputs": [
    {
     "name": "stdout",
     "output_type": "stream",
     "text": [
      "23/03/03 18:00:42 WARN Instrumentation: [e0eba5cc] regParam is zero, which might cause numerical instability and overfitting.\n"
     ]
    }
   ],
   "source": [
    "# Instanciando o objeto LinearRegression\n",
    "obj_rl = LinearRegression(featuresCol=\"independentes\",\n",
    "                          labelCol=\"dependente\",\n",
    "                          maxIter=1000, loss=\"squaredError\",\n",
    "                          standardization=True)\n",
    "\n",
    "# Criando o Modelo\n",
    "model_rl = obj_rl.fit(carros_train)"
   ]
  },
  {
   "cell_type": "markdown",
   "id": "8b952849",
   "metadata": {},
   "source": [
    "#### Realizando Presição com o Modelo Criado"
   ]
  },
  {
   "cell_type": "code",
   "execution_count": 232,
   "id": "53e70eb2",
   "metadata": {},
   "outputs": [
    {
     "name": "stdout",
     "output_type": "stream",
     "text": [
      "+----------+------------------+\n",
      "|dependente|        prediction|\n",
      "+----------+------------------+\n",
      "|     335.0|191.95873556163994|\n",
      "|     205.0| 192.3449203559623|\n",
      "|     245.0|193.13143666387072|\n",
      "|     180.0|185.43711542603546|\n",
      "|      93.0| 82.02138533880868|\n",
      "+----------+------------------+\n",
      "only showing top 5 rows\n",
      "\n"
     ]
    }
   ],
   "source": [
    "previsao_test = model_rl.transform(carros_test)\n",
    "previsao_test.select(\"dependente\", \"prediction\").show(5)"
   ]
  },
  {
   "cell_type": "markdown",
   "id": "ab43d4c4",
   "metadata": {},
   "source": [
    "### Avaliando o Modelo"
   ]
  },
  {
   "cell_type": "code",
   "execution_count": 233,
   "id": "6d63cf26",
   "metadata": {},
   "outputs": [],
   "source": [
    "from pyspark.ml.evaluation import RegressionEvaluator"
   ]
  },
  {
   "cell_type": "code",
   "execution_count": 234,
   "id": "341f26e8",
   "metadata": {
    "scrolled": true
   },
   "outputs": [
    {
     "name": "stdout",
     "output_type": "stream",
     "text": [
      "rmse: 48.90825381921658\n"
     ]
    }
   ],
   "source": [
    "avaliar = RegressionEvaluator(predictionCol=\"prediction\",\n",
    "                              labelCol=\"dependente\",\n",
    "                              metricName=\"rmse\")\n",
    "rmse = avaliar.evaluate(previsao)\n",
    "print(f\"rmse: {rmse}\")"
   ]
  },
  {
   "cell_type": "markdown",
   "id": "2b0ff3ab",
   "metadata": {},
   "source": [
    "O **desvio quadrático médio** ou **erro quadrático médio** é uma medida frequentemente usada das diferenças entre os valores previstos por um modelo ou estimador e os valores observados. dessa forma, quanto menor for esse valor melhor o modelo.\n",
    "\n",
    "Para o modelo avaliado nesse exemplo, podemos observar que esse valor é relativamente grande, isso ocorre por conta do tamanho do conjunto de dados que é pequeno."
   ]
  },
  {
   "cell_type": "markdown",
   "id": "064ed76a",
   "metadata": {},
   "source": [
    "---"
   ]
  },
  {
   "cell_type": "markdown",
   "id": "14d80524",
   "metadata": {},
   "source": [
    "## Visualização Gráfica dos Dados (Reais vs Previsão) do Conjunto de Treino"
   ]
  },
  {
   "cell_type": "code",
   "execution_count": 235,
   "id": "d4a9d509",
   "metadata": {},
   "outputs": [],
   "source": [
    "import matplotlib.pyplot as plt\n",
    "import numpy as np\n",
    "\n",
    "plt.style.use(\"ggplot\")"
   ]
  },
  {
   "cell_type": "code",
   "execution_count": 236,
   "id": "d55662bc",
   "metadata": {
    "scrolled": true
   },
   "outputs": [
    {
     "name": "stdout",
     "output_type": "stream",
     "text": [
      "+----------+------------------+-----------+\n",
      "|dependente|        prediction|Cilindradas|\n",
      "+----------+------------------+-----------+\n",
      "|     110.0|136.06328291055203|        160|\n",
      "|     110.0|136.06328291055203|        160|\n",
      "|      91.0| 76.24733856113257|       1203|\n",
      "|     215.0|192.38454678699574|        460|\n",
      "|     245.0|193.05762032607473|        350|\n",
      "+----------+------------------+-----------+\n",
      "only showing top 5 rows\n",
      "\n"
     ]
    }
   ],
   "source": [
    "previsao_train = model_rl.transform(carros_train)\n",
    "previsao_train.select(\"dependente\",\n",
    "                      \"prediction\",\n",
    "                      \"Cilindradas\").show(5)"
   ]
  },
  {
   "cell_type": "markdown",
   "id": "0eb53ff0",
   "metadata": {},
   "source": [
    "### Convertendo os Dados Para Array NumPy"
   ]
  },
  {
   "cell_type": "code",
   "execution_count": 237,
   "id": "73e11690",
   "metadata": {
    "scrolled": true
   },
   "outputs": [
    {
     "name": "stdout",
     "output_type": "stream",
     "text": [
      "+----------+------------------+-----------+\n",
      "|dependente|        prediction|Cilindradas|\n",
      "+----------+------------------+-----------+\n",
      "|     110.0|136.06328291055203|        160|\n",
      "|     110.0|136.06328291055203|        160|\n",
      "|      91.0| 76.24733856113257|       1203|\n",
      "|     215.0|192.38454678699574|        460|\n",
      "|     245.0|193.05762032607473|        350|\n",
      "+----------+------------------+-----------+\n",
      "only showing top 5 rows\n",
      "\n"
     ]
    },
    {
     "data": {
      "text/plain": [
       "(26, 3)"
      ]
     },
     "execution_count": 237,
     "metadata": {},
     "output_type": "execute_result"
    }
   ],
   "source": [
    "previsao_train_numpy = previsao_train.select(\"dependente\",\n",
    "                                             \"prediction\",\n",
    "                                             \"Cilindradas\")\n",
    "previsao_train_numpy.show(5)\n",
    "previsao_train_numpy = previsao_train_numpy.toPandas().to_numpy()\n",
    "\n",
    "previsao_train_numpy.shape"
   ]
  },
  {
   "cell_type": "markdown",
   "id": "a26a4ba3",
   "metadata": {},
   "source": [
    "### Plotagem dos Gráficos para Compar os Valores Reais com os Estimados pelo Modelo"
   ]
  },
  {
   "cell_type": "code",
   "execution_count": 238,
   "id": "c3b31057",
   "metadata": {},
   "outputs": [
    {
     "data": {
      "image/png": "[encoded data removed]",
      "text/plain": [
       "<Figure size 1000x500 with 1 Axes>"
      ]
     },
     "metadata": {},
     "output_type": "display_data"
    }
   ],
   "source": [
    "fig1, ax1 = plt.subplots(figsize=(10, 5))\n",
    "ax1.stem(previsao_train_numpy[:, 2], previsao_train_numpy[:, 0],\n",
    "         \"r\", markerfmt=\"ro\", label=\"Dados Reais\")\n",
    "ax1.stem(previsao_train_numpy[:, 2], previsao_train_numpy[:, 1],\n",
    "         \"g\", markerfmt=\"go\", label=\"Dados Estimado pelo Modelo\")\n",
    "plt.title(\"HP vs Cilindradas\")\n",
    "ax1.set_xlabel(\"Cilindradas\")\n",
    "ax1.set_ylabel(\"HP\")\n",
    "ax1.legend()\n",
    "plt.show()"
   ]
  },
  {
   "cell_type": "markdown",
   "id": "ebc9df48",
   "metadata": {},
   "source": [
    "---"
   ]
  },
  {
   "cell_type": "markdown",
   "id": "8148006a",
   "metadata": {},
   "source": [
    "## Visualização Gráfica dos Dados (Reais vs Previsão) do Conjunto de Testes"
   ]
  },
  {
   "cell_type": "markdown",
   "id": "192a9e05",
   "metadata": {},
   "source": [
    "### Convertendo os Dados Para Array NumPy"
   ]
  },
  {
   "cell_type": "code",
   "execution_count": 239,
   "id": "a627cd42",
   "metadata": {
    "scrolled": true
   },
   "outputs": [
    {
     "name": "stdout",
     "output_type": "stream",
     "text": [
      "+----------+------------------+-----------+\n",
      "|dependente|        prediction|Cilindradas|\n",
      "+----------+------------------+-----------+\n",
      "|     335.0|191.95873556163994|        301|\n",
      "|     205.0| 192.3449203559623|        472|\n",
      "|     245.0|193.13143666387072|        360|\n",
      "|     180.0|185.43711542603546|       2758|\n",
      "|      93.0| 82.02138533880868|        108|\n",
      "+----------+------------------+-----------+\n",
      "only showing top 5 rows\n",
      "\n"
     ]
    },
    {
     "data": {
      "text/plain": [
       "(6, 3)"
      ]
     },
     "execution_count": 239,
     "metadata": {},
     "output_type": "execute_result"
    }
   ],
   "source": [
    "previsao_test_numpy = previsao_test.select(\"dependente\",\n",
    "                                           \"prediction\",\n",
    "                                           \"Cilindradas\")\n",
    "previsao_test_numpy.show(5)\n",
    "previsao_test_numpy = previsao_test_numpy.toPandas().to_numpy()\n",
    "\n",
    "previsao_test_numpy.shape"
   ]
  },
  {
   "cell_type": "markdown",
   "id": "12d4a30c",
   "metadata": {},
   "source": [
    "### Plotagem dos Gráficos para Compar os Valores Reais com os Estimados pelo Modelo"
   ]
  },
  {
   "cell_type": "code",
   "execution_count": 240,
   "id": "e9572f8e",
   "metadata": {},
   "outputs": [
    {
     "data": {
      "image/png": "[encoded data removed]",
      "text/plain": [
       "<Figure size 1000x500 with 1 Axes>"
      ]
     },
     "metadata": {},
     "output_type": "display_data"
    }
   ],
   "source": [
    "fig2, ax2 = plt.subplots(figsize=(10, 5))\n",
    "ax2.stem(previsao_test_numpy[:, 2], previsao_test_numpy[:, 0],\n",
    "         \"r\", markerfmt=\"ro\", label=\"Dados Reais\")\n",
    "ax2.stem(previsao_test_numpy[:, 2], previsao_test_numpy[:, 1],\n",
    "         \"g\", markerfmt=\"go\", label=\"Dados Estimado pelo Modelo\")\n",
    "ax2.legend()\n",
    "plt.show()"
   ]
  }
 ],
 "metadata": {
  "kernelspec": {
   "display_name": "Python 3 (ipykernel)",
   "language": "python",
   "name": "python3"
  },
  "language_info": {
   "codemirror_mode": {
    "name": "ipython",
    "version": 3
   },
   "file_extension": ".py",
   "mimetype": "text/x-python",
   "name": "python",
   "nbconvert_exporter": "python",
   "pygments_lexer": "ipython3",
   "version": "3.10.8"
  }
 },
 "nbformat": 4,
 "nbformat_minor": 5
}
