{
 "cells": [
  {
   "cell_type": "markdown",
   "id": "c64e677e",
   "metadata": {},
   "source": [
    "#  Risco de Crédito Alemão (German Credit Risk)\n",
    "\n",
    "## Sobre o conjunto de dados\n",
    "O conjunto de dados original contém 1000 entradas com 20 atributos categoriais/simbólicos preparados pelo Prof. Hofmann. Neste conjunto de dados, cada entrada representa uma pessoa que recebe um crédito de um banco. Cada pessoa é classificada como risco de crédito bom ou ruim de acordo com o conjunto de atributos. O link para o conjunto de dados original pode ser encontrado abaixo.\n",
    "\n",
    "É quase impossível entender o conjunto de dados original devido ao seu complicado sistema de categorias e símbolos. Assim, escrevi um pequeno script Python para convertê-lo em um arquivo CSV legível. Várias colunas são simplesmente ignoradas porque, na minha opinião, ou não são importantes ou suas descrições são obscuras. Os atributos selecionados são:\n",
    "\n",
    "> + **Age** - (Idade) (numérico)\n",
    "> + **Sex** - (Sexo) (texto: masculino, feminino)\n",
    "> + **Job** - (Trabalho) (numérico: 0 - não qualificado e não residente, 1 - não qualificado e residente, 2 - > + qualificado, 3 - altamente qualificado)\n",
    "> + **Housing** - (Moradia) (texto: própria, alugada ou gratuita)\n",
    "> + **Saving accounts** - (Contas de poupança) (texto - pouco, moderado, bastante rico, rico)\n",
    "> + **Checking account**  - (Conta corrente) (numérica, em DM - Deutsch Mark)\n",
    "> + **Credit amount** - (Valor do crédito) (numérico, em DM)\n",
    "> + **Duration** - (Duração) (numérica, em mês)\n",
    "> + **Purpose** - (Objetivo) (texto: carro, móveis/equipamentos, rádio/TV, eletrodomésticos, consertos, educação, negócios, férias/outros)\n",
    "\n",
    "\n",
    "## Inicializando o PySpark"
   ]
  },
  {
   "cell_type": "code",
   "execution_count": 25,
   "id": "3ecfeb6e",
   "metadata": {},
   "outputs": [],
   "source": [
    "import findspark\n",
    "import pyspark\n",
    "from pyspark.sql import SparkSession\n",
    "\n",
    "# Faz a Interafce entre o Spark e o Jupyter Notebook\n",
    "findspark.init()\n",
    "\n",
    "# Inicializando uma Sessão no Spark\n",
    "spark = SparkSession.builder.appName(\"RandomForest\").getOrCreate()"
   ]
  },
  {
   "cell_type": "markdown",
   "id": "c2dcc5fc",
   "metadata": {},
   "source": [
    "---\n",
    "\n",
    "## Aplicando Regressão com RandomForest no DataSet Carros\n",
    "\n"
   ]
  },
  {
   "cell_type": "markdown",
   "id": "85f45af4",
   "metadata": {},
   "source": [
    "### Carregando o Cunjunto de Dados Carros"
   ]
  },
  {
   "cell_type": "code",
   "execution_count": 26,
   "id": "a673a559",
   "metadata": {},
   "outputs": [
    {
     "name": "stdout",
     "output_type": "stream",
     "text": [
      "Quantidade de Registros do Dataset: 1000\n",
      "+-----+---+------+---+-------+---------------+----------------+-------------+--------+-------------------+\n",
      "|index|Age|Sex   |Job|Housing|Saving_accounts|Checking_account|Credit_amount|Duration|Purpose            |\n",
      "+-----+---+------+---+-------+---------------+----------------+-------------+--------+-------------------+\n",
      "|0    |67 |male  |2  |own    |NA             |little          |1169         |6       |radio/TV           |\n",
      "|1    |22 |female|2  |own    |little         |moderate        |5951         |48      |radio/TV           |\n",
      "|2    |49 |male  |1  |own    |little         |NA              |2096         |12      |education          |\n",
      "|3    |45 |male  |2  |free   |little         |little          |7882         |42      |furniture/equipment|\n",
      "|4    |53 |male  |2  |free   |little         |little          |4870         |24      |car                |\n",
      "+-----+---+------+---+-------+---------------+----------------+-------------+--------+-------------------+\n",
      "only showing top 5 rows\n",
      "\n"
     ]
    }
   ],
   "source": [
    "german_data = spark.read.csv(\"german_credit_data.csv\",\n",
    "                             header=True, inferSchema=True, sep=\",\")\n",
    "print(f\"Quantidade de Registros do Dataset: {german_data.count()}\")\n",
    "german_data.show(5, truncate=False)"
   ]
  },
  {
   "cell_type": "code",
   "execution_count": 28,
   "id": "eda3048f",
   "metadata": {},
   "outputs": [
    {
     "name": "stdout",
     "output_type": "stream",
     "text": [
      "+---+------+---------------+----------------+-------------+\n",
      "|Age|Sex   |Saving_accounts|Checking_account|Credit_amount|\n",
      "+---+------+---------------+----------------+-------------+\n",
      "|67 |male  |NA             |little          |1169         |\n",
      "|22 |female|little         |moderate        |5951         |\n",
      "|49 |male  |little         |NA              |2096         |\n",
      "|45 |male  |little         |little          |7882         |\n",
      "|53 |male  |little         |little          |4870         |\n",
      "+---+------+---------------+----------------+-------------+\n",
      "only showing top 5 rows\n",
      "\n"
     ]
    }
   ],
   "source": [
    "german_data.select(\"Age\", \"Sex\", \"Saving_accounts\", \"Checking_account\", \"Credit_amount\").show(5, truncate=False)"
   ]
  },
  {
   "cell_type": "markdown",
   "id": "4a006167",
   "metadata": {},
   "source": [
    "### Escolha das Variáveis Independentes e Dependente para treinamento do Modelo\n",
    "\n",
    "Para esse exemplo, as variáveis dependentes serão os atritutos  **Consumo | Cilindros | Cilindradas |** e a variável Dependente será o Atributo **| HP |**\n",
    "\n",
    "ou seja, vamos usar as variáveis independentes para prever a dependente, para isso, vamos treinar o modelo com os dados do dataset."
   ]
  },
  {
   "cell_type": "markdown",
   "id": "b3925284",
   "metadata": {},
   "source": [
    "### Importação do Módulo do PySpark Para o Pré-Processamento dos Dados"
   ]
  },
  {
   "cell_type": "code",
   "execution_count": 21,
   "id": "5bfe6db4",
   "metadata": {},
   "outputs": [],
   "source": [
    "from pyspark.ml.feature import RFormula"
   ]
  },
  {
   "cell_type": "code",
   "execution_count": 66,
   "id": "fba2d42f",
   "metadata": {},
   "outputs": [
    {
     "name": "stdout",
     "output_type": "stream",
     "text": [
      "+--------------------------------+----------+\n",
      "|independentes                   |dependente|\n",
      "+--------------------------------+----------+\n",
      "|(9,[0,1,3,7],[67.0,1.0,1.0,1.0])|1169.0    |\n",
      "|(9,[0,2,8],[22.0,1.0,1.0])      |5951.0    |\n",
      "|(9,[0,1,2,6],[49.0,1.0,1.0,1.0])|2096.0    |\n",
      "|(9,[0,1,2,7],[45.0,1.0,1.0,1.0])|7882.0    |\n",
      "|(9,[0,1,2,7],[53.0,1.0,1.0,1.0])|4870.0    |\n",
      "+--------------------------------+----------+\n",
      "only showing top 5 rows\n",
      "\n"
     ]
    },
    {
     "name": "stderr",
     "output_type": "stream",
     "text": [
      "\r",
      "[Stage 225:>                                                        (0 + 1) / 1]\r",
      "\r",
      "                                                                                \r"
     ]
    }
   ],
   "source": [
    "# Colocando os dados no Formato de dataframe do Spark usando o RFormula\n",
    "rformula = RFormula(formula=\"Credit_amount ~ Age + Sex + Saving_accounts + Checking_account\",\n",
    "                    featuresCol=\"independentes\", labelCol=\"dependente\")\n",
    "\n",
    "german_data_rf = rformula.fit(german_data).transform(german_data)\n",
    "german_data_rf.select(\"independentes\", \"dependente\").show(5, truncate=False)"
   ]
  },
  {
   "cell_type": "code",
   "execution_count": 67,
   "id": "90fdfa30",
   "metadata": {},
   "outputs": [],
   "source": [
    "from pyspark.ml.feature import Normalizer"
   ]
  },
  {
   "cell_type": "code",
   "execution_count": 68,
   "id": "bd88d307",
   "metadata": {},
   "outputs": [],
   "source": [
    "# normalizador = Normalizer(inputCol=\"independentes\", outputCol=\"independentes_norm\", p=1.0)\n",
    "# german_data_norm = normalizador.transform(german_data_rf)\n",
    "# german_data_norm.select(\"independentes\", \"independentes_norm\", \"dependente\").show(5, truncate=True)\n",
    "german_data_norm = german_data_rf\n",
    "# normalizador1 = Normalizer(inputCol=\"dependente\", outputCol=\"dependente_norm\", p=1.0)\n",
    "# german_data_norm = normalizador1.transform(german_data_norm)\n",
    "# german_data_norm.select(\"independentes\", \"dependente_norm\", \"dependente\", \"independentes_norm\", \"dependente\").show(5, truncate=False)"
   ]
  },
  {
   "cell_type": "markdown",
   "id": "59a115d5",
   "metadata": {},
   "source": [
    "### Separando os Dados entre conjunto de Treino e Teste\n",
    "\n",
    "O Conjunto de dados serão separados entre treino e teste, sendo que **80%** será para treinar o modelo e **20%** para testar o modelo."
   ]
  },
  {
   "cell_type": "code",
   "execution_count": 69,
   "id": "e8ad20c8",
   "metadata": {
    "scrolled": false
   },
   "outputs": [
    {
     "name": "stdout",
     "output_type": "stream",
     "text": [
      "Quantidade de Dados de Treino: 821\n",
      "Quantidade de Dados de Teste: 179\n"
     ]
    }
   ],
   "source": [
    "german_data_train, german_data_test = german_data_norm.randomSplit([0.8, 0.2], seed=1)\n",
    "print(f\"Quantidade de Dados de Treino: {german_data_train.count()}\")\n",
    "print(f\"Quantidade de Dados de Teste: {german_data_test.count()}\")"
   ]
  },
  {
   "cell_type": "markdown",
   "id": "8665a5d8",
   "metadata": {},
   "source": [
    "# Criando o Modelo com Random Forest"
   ]
  },
  {
   "cell_type": "markdown",
   "id": "7f6b5bf6",
   "metadata": {},
   "source": [
    "---\n",
    "\n",
    "### Importação do Módulo do PySpark Para Criação do Modelo de Random Forest"
   ]
  },
  {
   "cell_type": "code",
   "execution_count": 70,
   "id": "81b15be7",
   "metadata": {},
   "outputs": [],
   "source": [
    "from pyspark.ml.regression import RandomForestRegressor"
   ]
  },
  {
   "cell_type": "markdown",
   "id": "01232e6e",
   "metadata": {},
   "source": [
    "#### Instanciando Objeto e criando o Modelo"
   ]
  },
  {
   "cell_type": "code",
   "execution_count": 72,
   "id": "96d8cdae",
   "metadata": {},
   "outputs": [
    {
     "name": "stderr",
     "output_type": "stream",
     "text": [
      "                                                                                \r"
     ]
    },
    {
     "name": "stdout",
     "output_type": "stream",
     "text": [
      "23/03/04 16:01:59 WARN DAGScheduler: Broadcasting large task binary with size 1198.1 KiB\n"
     ]
    },
    {
     "name": "stderr",
     "output_type": "stream",
     "text": [
      "                                                                                \r"
     ]
    },
    {
     "name": "stdout",
     "output_type": "stream",
     "text": [
      "23/03/04 16:02:03 WARN DAGScheduler: Broadcasting large task binary with size 2.3 MiB\n"
     ]
    },
    {
     "name": "stderr",
     "output_type": "stream",
     "text": [
      "[Stage 244:>                                                        (0 + 0) / 1]\r"
     ]
    },
    {
     "name": "stdout",
     "output_type": "stream",
     "text": [
      "23/03/04 16:02:09 WARN DAGScheduler: Broadcasting large task binary with size 4.2 MiB\n"
     ]
    },
    {
     "name": "stderr",
     "output_type": "stream",
     "text": [
      "\r",
      "[Stage 244:>                                                        (0 + 1) / 1]\r"
     ]
    },
    {
     "name": "stdout",
     "output_type": "stream",
     "text": [
      "23/03/04 16:02:11 WARN DAGScheduler: Broadcasting large task binary with size 1101.3 KiB\n"
     ]
    },
    {
     "name": "stderr",
     "output_type": "stream",
     "text": [
      "                                                                                \r"
     ]
    },
    {
     "name": "stdout",
     "output_type": "stream",
     "text": [
      "23/03/04 16:02:15 WARN DAGScheduler: Broadcasting large task binary with size 6.8 MiB\n"
     ]
    },
    {
     "name": "stderr",
     "output_type": "stream",
     "text": [
      "\r",
      "[Stage 246:>                                                        (0 + 0) / 1]\r",
      "\r",
      "[Stage 246:>                                                        (0 + 1) / 1]\r"
     ]
    },
    {
     "name": "stdout",
     "output_type": "stream",
     "text": [
      "23/03/04 16:02:19 WARN DAGScheduler: Broadcasting large task binary with size 1475.6 KiB\n"
     ]
    },
    {
     "name": "stderr",
     "output_type": "stream",
     "text": [
      "[Stage 248:>                                                        (0 + 0) / 1]\r"
     ]
    },
    {
     "name": "stdout",
     "output_type": "stream",
     "text": [
      "23/03/04 16:02:24 WARN DAGScheduler: Broadcasting large task binary with size 9.9 MiB\n"
     ]
    },
    {
     "name": "stderr",
     "output_type": "stream",
     "text": [
      "\r",
      "[Stage 248:>                                                        (0 + 1) / 1]\r"
     ]
    },
    {
     "name": "stdout",
     "output_type": "stream",
     "text": [
      "23/03/04 16:02:28 WARN DAGScheduler: Broadcasting large task binary with size 1681.7 KiB\n"
     ]
    },
    {
     "name": "stderr",
     "output_type": "stream",
     "text": [
      "[Stage 250:>                                                        (0 + 1) / 1]\r"
     ]
    },
    {
     "name": "stdout",
     "output_type": "stream",
     "text": [
      "23/03/04 16:02:31 WARN DAGScheduler: Broadcasting large task binary with size 13.1 MiB\n",
      "23/03/04 16:02:34 WARN DAGScheduler: Broadcasting large task binary with size 1660.2 KiB\n"
     ]
    },
    {
     "name": "stderr",
     "output_type": "stream",
     "text": [
      "[Stage 252:>                                                        (0 + 0) / 1]\r"
     ]
    },
    {
     "name": "stdout",
     "output_type": "stream",
     "text": [
      "23/03/04 16:02:38 WARN DAGScheduler: Broadcasting large task binary with size 15.7 MiB\n"
     ]
    },
    {
     "name": "stderr",
     "output_type": "stream",
     "text": [
      "\r",
      "[Stage 252:>                                                        (0 + 1) / 1]\r"
     ]
    },
    {
     "name": "stdout",
     "output_type": "stream",
     "text": [
      "23/03/04 16:02:41 WARN DAGScheduler: Broadcasting large task binary with size 1386.1 KiB\n"
     ]
    },
    {
     "name": "stderr",
     "output_type": "stream",
     "text": [
      "[Stage 254:>                                                        (0 + 0) / 1]\r"
     ]
    },
    {
     "name": "stdout",
     "output_type": "stream",
     "text": [
      "23/03/04 16:02:46 WARN DAGScheduler: Broadcasting large task binary with size 17.5 MiB\n"
     ]
    },
    {
     "name": "stderr",
     "output_type": "stream",
     "text": [
      "[Stage 256:>                                                        (0 + 0) / 1]\r"
     ]
    },
    {
     "name": "stdout",
     "output_type": "stream",
     "text": [
      "23/03/04 16:02:52 WARN DAGScheduler: Broadcasting large task binary with size 17.7 MiB\n"
     ]
    },
    {
     "name": "stderr",
     "output_type": "stream",
     "text": [
      "[Stage 258:>                                                        (0 + 0) / 1]\r"
     ]
    },
    {
     "name": "stdout",
     "output_type": "stream",
     "text": [
      "23/03/04 16:02:58 WARN DAGScheduler: Broadcasting large task binary with size 15.2 MiB\n"
     ]
    },
    {
     "name": "stderr",
     "output_type": "stream",
     "text": [
      "[Stage 260:>                                                        (0 + 1) / 1]\r"
     ]
    },
    {
     "name": "stdout",
     "output_type": "stream",
     "text": [
      "23/03/04 16:03:04 WARN DAGScheduler: Broadcasting large task binary with size 10.9 MiB\n"
     ]
    },
    {
     "name": "stderr",
     "output_type": "stream",
     "text": [
      "[Stage 262:>                                                        (0 + 0) / 1]\r"
     ]
    },
    {
     "name": "stdout",
     "output_type": "stream",
     "text": [
      "23/03/04 16:03:10 WARN DAGScheduler: Broadcasting large task binary with size 6.2 MiB\n"
     ]
    },
    {
     "name": "stderr",
     "output_type": "stream",
     "text": [
      "                                                                                \r"
     ]
    },
    {
     "name": "stdout",
     "output_type": "stream",
     "text": [
      "23/03/04 16:03:13 WARN DAGScheduler: Broadcasting large task binary with size 2.8 MiB\n"
     ]
    },
    {
     "name": "stderr",
     "output_type": "stream",
     "text": [
      "                                                                                \r"
     ]
    },
    {
     "name": "stdout",
     "output_type": "stream",
     "text": [
      "23/03/04 16:03:14 WARN DAGScheduler: Broadcasting large task binary with size 1212.7 KiB\n"
     ]
    }
   ],
   "source": [
    "# Instanciando o objeto LinearRegression\n",
    "obj_rfr = RandomForestRegressor(featuresCol=\"independentes\",\n",
    "                                labelCol=\"dependente\", maxDepth=20,\n",
    "                                numTrees=1000, seed=20)\n",
    "\n",
    "# Criando o Modelo\n",
    "model_rfr = obj_rfr.fit(german_data_train)"
   ]
  },
  {
   "cell_type": "markdown",
   "id": "8b952849",
   "metadata": {},
   "source": [
    "#### Realizando Presição com o Modelo Criado"
   ]
  },
  {
   "cell_type": "code",
   "execution_count": 74,
   "id": "53e70eb2",
   "metadata": {},
   "outputs": [
    {
     "name": "stdout",
     "output_type": "stream",
     "text": [
      "+----------+------------------+\n",
      "|dependente|        prediction|\n",
      "+----------+------------------+\n",
      "|    4870.0| 3755.578884881118|\n",
      "|    1199.0|3194.7144986291055|\n",
      "|    1403.0| 2750.393561243689|\n",
      "|    1282.0|2220.8457425704055|\n",
      "|    8072.0|3124.5151934679207|\n",
      "+----------+------------------+\n",
      "only showing top 5 rows\n",
      "\n"
     ]
    }
   ],
   "source": [
    "previsao_test = model_rfr.transform(german_data_test)\n",
    "previsao_test.select(\"dependente\", \"prediction\").show(5)"
   ]
  },
  {
   "cell_type": "markdown",
   "id": "ab43d4c4",
   "metadata": {},
   "source": [
    "### Avaliando o Modelo"
   ]
  },
  {
   "cell_type": "code",
   "execution_count": 75,
   "id": "6d63cf26",
   "metadata": {},
   "outputs": [],
   "source": [
    "from pyspark.ml.evaluation import RegressionEvaluator"
   ]
  },
  {
   "cell_type": "code",
   "execution_count": 77,
   "id": "341f26e8",
   "metadata": {
    "scrolled": true
   },
   "outputs": [
    {
     "name": "stderr",
     "output_type": "stream",
     "text": [
      "\r",
      "[Stage 275:>                                                        (0 + 1) / 1]\r"
     ]
    },
    {
     "name": "stdout",
     "output_type": "stream",
     "text": [
      "rmse: 2603.238539847055\n"
     ]
    },
    {
     "name": "stderr",
     "output_type": "stream",
     "text": [
      "\r",
      "                                                                                \r"
     ]
    }
   ],
   "source": [
    "avaliar = RegressionEvaluator(predictionCol=\"prediction\",\n",
    "                              labelCol=\"dependente\",\n",
    "                              metricName=\"rmse\")\n",
    "rmse = avaliar.evaluate(previsao_test)\n",
    "print(f\"rmse: {rmse}\")"
   ]
  },
  {
   "cell_type": "markdown",
   "id": "2b0ff3ab",
   "metadata": {},
   "source": [
    "O **desvio quadrático médio** ou **erro quadrático médio** é uma medida frequentemente usada das diferenças entre os valores previstos por um modelo ou estimador e os valores observados. dessa forma, quanto menor for esse valor melhor o modelo.\n",
    "\n",
    "Para o modelo avaliado nesse exemplo, podemos observar que esse valor é relativamente grande, isso ocorre por conta do tamanho do conjunto de dados que é pequeno."
   ]
  },
  {
   "cell_type": "markdown",
   "id": "064ed76a",
   "metadata": {},
   "source": [
    "---"
   ]
  },
  {
   "cell_type": "markdown",
   "id": "14d80524",
   "metadata": {},
   "source": [
    "## Visualização Gráfica dos Dados (Reais vs Previsão) do Conjunto de Treino"
   ]
  },
  {
   "cell_type": "code",
   "execution_count": 78,
   "id": "d4a9d509",
   "metadata": {},
   "outputs": [],
   "source": [
    "import matplotlib.pyplot as plt\n",
    "import numpy as np\n",
    "\n",
    "plt.style.use(\"ggplot\")"
   ]
  },
  {
   "cell_type": "code",
   "execution_count": 79,
   "id": "d55662bc",
   "metadata": {
    "scrolled": true
   },
   "outputs": [
    {
     "name": "stdout",
     "output_type": "stream",
     "text": [
      "+----------+------------------+---+\n",
      "|dependente|        prediction|Age|\n",
      "+----------+------------------+---+\n",
      "|    1169.0| 3630.540369034395| 67|\n",
      "|    5951.0|3229.4277808260085| 22|\n",
      "|    2096.0|2496.9372193247104| 49|\n",
      "|    7882.0|3990.1514257939393| 45|\n",
      "|    9055.0| 3932.646582801099| 35|\n",
      "+----------+------------------+---+\n",
      "only showing top 5 rows\n",
      "\n"
     ]
    }
   ],
   "source": [
    "previsao_train = model_rfr.transform(german_data_train)\n",
    "previsao_train.select(\"dependente\",\n",
    "                      \"prediction\",\n",
    "                      \"Age\").show(5)"
   ]
  },
  {
   "cell_type": "markdown",
   "id": "0eb53ff0",
   "metadata": {},
   "source": [
    "### Convertendo os Dados Para Array NumPy"
   ]
  },
  {
   "cell_type": "code",
   "execution_count": 80,
   "id": "73e11690",
   "metadata": {
    "scrolled": true
   },
   "outputs": [
    {
     "name": "stdout",
     "output_type": "stream",
     "text": [
      "+----------+------------------+---+\n",
      "|dependente|        prediction|Age|\n",
      "+----------+------------------+---+\n",
      "|    1169.0| 3630.540369034395| 67|\n",
      "|    5951.0|3229.4277808260085| 22|\n",
      "|    2096.0|2496.9372193247104| 49|\n",
      "|    7882.0|3990.1514257939393| 45|\n",
      "|    9055.0| 3932.646582801099| 35|\n",
      "+----------+------------------+---+\n",
      "only showing top 5 rows\n",
      "\n"
     ]
    },
    {
     "name": "stderr",
     "output_type": "stream",
     "text": [
      "                                                                                \r"
     ]
    },
    {
     "data": {
      "text/plain": [
       "(821, 3)"
      ]
     },
     "execution_count": 80,
     "metadata": {},
     "output_type": "execute_result"
    }
   ],
   "source": [
    "previsao_train_numpy = previsao_train.select(\"dependente\",\n",
    "                                             \"prediction\",\n",
    "                                             \"Age\")\n",
    "previsao_train_numpy.show(5)\n",
    "previsao_train_numpy = previsao_train_numpy.toPandas().to_numpy()\n",
    "\n",
    "previsao_train_numpy.shape"
   ]
  },
  {
   "cell_type": "markdown",
   "id": "a26a4ba3",
   "metadata": {},
   "source": [
    "### Plotagem dos Gráficos para Compar os Valores Reais com os Estimados pelo Modelo"
   ]
  },
  {
   "cell_type": "code",
   "execution_count": 84,
   "id": "c3b31057",
   "metadata": {},
   "outputs": [
    {
     "data": {
      "image/png": "[encoded data removed]",
      "text/plain": [
       "<Figure size 1000x500 with 1 Axes>"
      ]
     },
     "metadata": {},
     "output_type": "display_data"
    }
   ],
   "source": [
    "fig1, ax1 = plt.subplots(figsize=(10, 5))\n",
    "ax1.stem(previsao_train_numpy[:, 2], previsao_train_numpy[:, 0],\n",
    "         \"r\", markerfmt=\"ro\", label=\"Dados Reais\")\n",
    "ax1.stem(previsao_train_numpy[:, 2], previsao_train_numpy[:, 1],\n",
    "         \"g\", markerfmt=\"go\", label=\"Dados Estimado pelo Modelo\")\n",
    "plt.title(\"Credit amount vs Age\")\n",
    "ax1.set_xlabel(\"Age\")\n",
    "ax1.set_ylabel(\"Credit_amount\")\n",
    "ax1.legend()\n",
    "plt.show()"
   ]
  },
  {
   "cell_type": "markdown",
   "id": "ebc9df48",
   "metadata": {},
   "source": [
    "---"
   ]
  },
  {
   "cell_type": "markdown",
   "id": "8148006a",
   "metadata": {},
   "source": [
    "## Visualização Gráfica dos Dados (Reais vs Previsão) do Conjunto de Testes"
   ]
  },
  {
   "cell_type": "markdown",
   "id": "192a9e05",
   "metadata": {},
   "source": [
    "### Convertendo os Dados Para Array NumPy"
   ]
  },
  {
   "cell_type": "code",
   "execution_count": 85,
   "id": "a627cd42",
   "metadata": {
    "scrolled": true
   },
   "outputs": [
    {
     "name": "stdout",
     "output_type": "stream",
     "text": [
      "+----------+------------------+---+\n",
      "|dependente|        prediction|Age|\n",
      "+----------+------------------+---+\n",
      "|    4870.0| 3755.578884881118| 53|\n",
      "|    1199.0|3194.7144986291055| 60|\n",
      "|    1403.0| 2750.393561243689| 28|\n",
      "|    1282.0|2220.8457425704055| 32|\n",
      "|    8072.0|3124.5151934679207| 25|\n",
      "+----------+------------------+---+\n",
      "only showing top 5 rows\n",
      "\n"
     ]
    },
    {
     "data": {
      "text/plain": [
       "(179, 3)"
      ]
     },
     "execution_count": 85,
     "metadata": {},
     "output_type": "execute_result"
    }
   ],
   "source": [
    "previsao_test_numpy = previsao_test.select(\"dependente\",\n",
    "                                           \"prediction\",\n",
    "                                           \"Age\")\n",
    "previsao_test_numpy.show(5)\n",
    "previsao_test_numpy = previsao_test_numpy.toPandas().to_numpy()\n",
    "\n",
    "previsao_test_numpy.shape"
   ]
  },
  {
   "cell_type": "markdown",
   "id": "12d4a30c",
   "metadata": {},
   "source": [
    "### Plotagem dos Gráficos para Compar os Valores Reais com os Estimados pelo Modelo"
   ]
  },
  {
   "cell_type": "code",
   "execution_count": 88,
   "id": "e9572f8e",
   "metadata": {},
   "outputs": [
    {
     "data": {
      "image/png": "[encoded data removed]",
      "text/plain": [
       "<Figure size 1000x500 with 1 Axes>"
      ]
     },
     "metadata": {},
     "output_type": "display_data"
    }
   ],
   "source": [
    "fig2, ax2 = plt.subplots(figsize=(10, 5))\n",
    "ax2.stem(previsao_test_numpy[:, 2], previsao_test_numpy[:, 0],\n",
    "         \"r\", markerfmt=\"ro\", label=\"Dados Reais\")\n",
    "ax2.stem(previsao_test_numpy[:, 2], previsao_test_numpy[:, 1],\n",
    "         \"g\", markerfmt=\"go\", label=\"Dados Estimado pelo Modelo\")\n",
    "plt.title(\"Credit amount vs Age\")\n",
    "ax1.set_xlabel(\"Age\")\n",
    "ax1.set_ylabel(\"Credit_amount\")\n",
    "ax2.legend()\n",
    "plt.show()"
   ]
  },
  {
   "cell_type": "code",
   "execution_count": null,
   "id": "91f7f082",
   "metadata": {},
   "outputs": [],
   "source": []
  }
 ],
 "metadata": {
  "kernelspec": {
   "display_name": "Python 3 (ipykernel)",
   "language": "python",
   "name": "python3"
  },
  "language_info": {
   "codemirror_mode": {
    "name": "ipython",
    "version": 3
   },
   "file_extension": ".py",
   "mimetype": "text/x-python",
   "name": "python",
   "nbconvert_exporter": "python",
   "pygments_lexer": "ipython3",
   "version": "3.10.8"
  }
 },
 "nbformat": 4,
 "nbformat_minor": 5
}
