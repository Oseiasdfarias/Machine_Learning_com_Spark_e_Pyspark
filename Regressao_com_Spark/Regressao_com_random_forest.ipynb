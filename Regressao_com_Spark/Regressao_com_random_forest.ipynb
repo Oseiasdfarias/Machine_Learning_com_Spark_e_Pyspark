{
 "cells": [
  {
   "cell_type": "markdown",
   "id": "c64e677e",
   "metadata": {},
   "source": [
    "#  Regressão com RandomForest (Florestas Aleatórias)\n",
    "\n",
    "\n",
    "**Características:**\n",
    "\n",
    "> + Induz diversas árvores de decisão\n",
    "> + Executa a processo de classificação para cada árvore\n",
    "> + Executa um processo de votação para decisão da classe\n",
    "\n",
    "![](DECISION-TREE.jpg)\n",
    "\n",
    "\n",
    "## Inicializando o PySpark"
   ]
  },
  {
   "cell_type": "code",
   "execution_count": 42,
   "id": "3ecfeb6e",
   "metadata": {},
   "outputs": [],
   "source": [
    "import findspark\n",
    "import pyspark\n",
    "from pyspark.sql import SparkSession\n",
    "\n",
    "# Faz a Interafce entre o Spark e o Jupyter Notebook\n",
    "findspark.init()\n",
    "\n",
    "# Inicializando uma Sessão no Spark\n",
    "spark = SparkSession.builder.appName(\"RandomForest\").getOrCreate()"
   ]
  },
  {
   "cell_type": "markdown",
   "id": "c2dcc5fc",
   "metadata": {},
   "source": [
    "---\n",
    "\n",
    "## Aplicando Regressão com RandomForest no DataSet Carros\n",
    "\n"
   ]
  },
  {
   "cell_type": "markdown",
   "id": "85f45af4",
   "metadata": {},
   "source": [
    "### Carregando o Cunjunto de Dados Carros"
   ]
  },
  {
   "cell_type": "code",
   "execution_count": 43,
   "id": "a673a559",
   "metadata": {},
   "outputs": [
    {
     "name": "stdout",
     "output_type": "stream",
     "text": [
      "Quantidade de Registros do Dataset: 32\n",
      "+-------+---------+-----------+---------------+----+-----+---------+-----------+-------+-----------+---+\n",
      "|Consumo|Cilindros|Cilindradas|RelEixoTraseiro|Peso|Tempo|TipoMotor|Transmissao|Marchas|Carburadors| HP|\n",
      "+-------+---------+-----------+---------------+----+-----+---------+-----------+-------+-----------+---+\n",
      "|     21|        6|        160|             39| 262| 1646|        0|          1|      4|          4|110|\n",
      "|     21|        6|        160|             39|2875| 1702|        0|          1|      4|          4|110|\n",
      "|    228|        4|        108|            385| 232| 1861|        1|          1|      4|          1| 93|\n",
      "|    214|        6|        258|            308|3215| 1944|        1|          0|      3|          1|110|\n",
      "|    187|        8|        360|            315| 344| 1702|        0|          0|      3|          2|175|\n",
      "+-------+---------+-----------+---------------+----+-----+---------+-----------+-------+-----------+---+\n",
      "only showing top 5 rows\n",
      "\n"
     ]
    }
   ],
   "source": [
    "carros_data = spark.read.csv(\"../Material_do_Curso/Carros.csv\",\n",
    "                             header=True, inferSchema=True, sep=\";\")\n",
    "print(f\"Quantidade de Registros do Dataset: {carros_data.count()}\")\n",
    "carros_data.show(5, truncate=True)"
   ]
  },
  {
   "cell_type": "markdown",
   "id": "4a006167",
   "metadata": {},
   "source": [
    "### Escolha das Variáveis Independentes e Dependente para treinamento do Modelo\n",
    "\n",
    "Para esse exemplo, as variáveis dependentes serão os atritutos  **Consumo | Cilindros | Cilindradas |** e a variável Dependente será o Atributo **| HP |**\n",
    "\n",
    "ou seja, vamos usar as variáveis independentes para prever a dependente, para isso, vamos treinar o modelo com os dados do dataset."
   ]
  },
  {
   "cell_type": "markdown",
   "id": "b3925284",
   "metadata": {},
   "source": [
    "### Importação do Módulo do PySpark Para o Pré-Processamento dos Dados"
   ]
  },
  {
   "cell_type": "code",
   "execution_count": 44,
   "id": "5bfe6db4",
   "metadata": {},
   "outputs": [],
   "source": [
    "from pyspark.ml.feature import RFormula"
   ]
  },
  {
   "cell_type": "code",
   "execution_count": 45,
   "id": "fba2d42f",
   "metadata": {},
   "outputs": [
    {
     "name": "stdout",
     "output_type": "stream",
     "text": [
      "+-----------------+----------+\n",
      "|independentes    |dependente|\n",
      "+-----------------+----------+\n",
      "|[21.0,6.0,160.0] |110.0     |\n",
      "|[21.0,6.0,160.0] |110.0     |\n",
      "|[228.0,4.0,108.0]|93.0      |\n",
      "|[214.0,6.0,258.0]|110.0     |\n",
      "|[187.0,8.0,360.0]|175.0     |\n",
      "+-----------------+----------+\n",
      "only showing top 5 rows\n",
      "\n"
     ]
    }
   ],
   "source": [
    "# Colocando os dados no Formato de dataframe do Spark usando o RFormula\n",
    "rformula = RFormula(formula=\"HP ~ Consumo + Cilindros + Cilindradas\",\n",
    "                    featuresCol=\"independentes\", labelCol=\"dependente\")\n",
    "\n",
    "carros_rf = rformula.fit(carros_data).transform(carros_data)\n",
    "carros_rf.select(\"independentes\", \"dependente\").show(5, truncate=False)"
   ]
  },
  {
   "cell_type": "code",
   "execution_count": 46,
   "id": "90fdfa30",
   "metadata": {},
   "outputs": [],
   "source": [
    "from pyspark.ml.feature import Normalizer"
   ]
  },
  {
   "cell_type": "code",
   "execution_count": 47,
   "id": "bd88d307",
   "metadata": {},
   "outputs": [
    {
     "name": "stdout",
     "output_type": "stream",
     "text": [
      "+-----------------+-------------------------------------------------------------+----------+\n",
      "|independentes    |independentes_norm                                           |dependente|\n",
      "+-----------------+-------------------------------------------------------------+----------+\n",
      "|[21.0,6.0,160.0] |[0.11229946524064172,0.03208556149732621,0.8556149732620321] |110.0     |\n",
      "|[21.0,6.0,160.0] |[0.11229946524064172,0.03208556149732621,0.8556149732620321] |110.0     |\n",
      "|[228.0,4.0,108.0]|[0.6705882352941176,0.011764705882352941,0.3176470588235294] |93.0      |\n",
      "|[214.0,6.0,258.0]|[0.4476987447698745,0.012552301255230125,0.5397489539748954] |110.0     |\n",
      "|[187.0,8.0,360.0]|[0.33693693693693694,0.014414414414414415,0.6486486486486487]|175.0     |\n",
      "+-----------------+-------------------------------------------------------------+----------+\n",
      "only showing top 5 rows\n",
      "\n"
     ]
    }
   ],
   "source": [
    "normalizador = Normalizer(inputCol=\"independentes\", outputCol=\"independentes_norm\", p=1.0)\n",
    "carros_norm = normalizador.transform(carros_rf)\n",
    "carros_norm.select(\"independentes\", \"independentes_norm\", \"dependente\").show(5, truncate=False)"
   ]
  },
  {
   "cell_type": "markdown",
   "id": "59a115d5",
   "metadata": {},
   "source": [
    "### Separando os Dados entre conjunto de Treino e Teste\n",
    "\n",
    "O Conjunto de dados serão separados entre treino e teste, sendo que **80%** será para treinar o modelo e **20%** para testar o modelo."
   ]
  },
  {
   "cell_type": "code",
   "execution_count": 48,
   "id": "e8ad20c8",
   "metadata": {
    "scrolled": false
   },
   "outputs": [
    {
     "name": "stdout",
     "output_type": "stream",
     "text": [
      "Quantidade de Dados de Treino: 24\n"
     ]
    },
    {
     "name": "stderr",
     "output_type": "stream",
     "text": [
      "\r",
      "[Stage 188:>                                                        (0 + 1) / 1]\r"
     ]
    },
    {
     "name": "stdout",
     "output_type": "stream",
     "text": [
      "Quantidade de Dados de Teste: 8\n"
     ]
    },
    {
     "name": "stderr",
     "output_type": "stream",
     "text": [
      "\r",
      "                                                                                \r"
     ]
    }
   ],
   "source": [
    "carros_train, carros_test = carros_norm.randomSplit([0.7, 0.3], seed=1)\n",
    "print(f\"Quantidade de Dados de Treino: {carros_train.count()}\")\n",
    "print(f\"Quantidade de Dados de Teste: {carros_test.count()}\")"
   ]
  },
  {
   "cell_type": "markdown",
   "id": "8665a5d8",
   "metadata": {},
   "source": [
    "# Criando o Modelo com Random Forest"
   ]
  },
  {
   "cell_type": "markdown",
   "id": "7f6b5bf6",
   "metadata": {},
   "source": [
    "---\n",
    "\n",
    "### Importação do Módulo do PySpark Para Criação do Modelo de Random Forest"
   ]
  },
  {
   "cell_type": "code",
   "execution_count": 49,
   "id": "81b15be7",
   "metadata": {},
   "outputs": [],
   "source": [
    "from pyspark.ml.regression import RandomForestRegressor"
   ]
  },
  {
   "cell_type": "markdown",
   "id": "01232e6e",
   "metadata": {},
   "source": [
    "#### Instanciando Objeto e criando o Modelo"
   ]
  },
  {
   "cell_type": "code",
   "execution_count": 50,
   "id": "96d8cdae",
   "metadata": {},
   "outputs": [
    {
     "name": "stdout",
     "output_type": "stream",
     "text": [
      "23/03/04 14:00:09 WARN DecisionTreeMetadata: DecisionTree reducing maxBins from 32 to 24 (= number of training instances)\n"
     ]
    },
    {
     "name": "stderr",
     "output_type": "stream",
     "text": [
      "                                                                                \r"
     ]
    },
    {
     "name": "stdout",
     "output_type": "stream",
     "text": [
      "23/03/04 14:00:15 WARN DAGScheduler: Broadcasting large task binary with size 1239.6 KiB\n",
      "23/03/04 14:00:16 WARN DAGScheduler: Broadcasting large task binary with size 1111.1 KiB\n"
     ]
    },
    {
     "name": "stderr",
     "output_type": "stream",
     "text": [
      "                                                                                \r"
     ]
    }
   ],
   "source": [
    "# Instanciando o objeto LinearRegression\n",
    "obj_rfr = RandomForestRegressor(featuresCol=\"independentes_norm\",\n",
    "                                labelCol=\"dependente\", maxDepth=10,\n",
    "                                numTrees=500, seed=20)\n",
    "\n",
    "# Criando o Modelo\n",
    "model_rfr = obj_rfr.fit(carros_train)"
   ]
  },
  {
   "cell_type": "markdown",
   "id": "8b952849",
   "metadata": {},
   "source": [
    "#### Realizando Presição com o Modelo Criado"
   ]
  },
  {
   "cell_type": "code",
   "execution_count": 51,
   "id": "53e70eb2",
   "metadata": {},
   "outputs": [
    {
     "name": "stdout",
     "output_type": "stream",
     "text": [
      "+----------+----------+\n",
      "|dependente|prediction|\n",
      "+----------+----------+\n",
      "|     215.0|    175.44|\n",
      "|     205.0|    175.44|\n",
      "|     180.0|   158.596|\n",
      "|     180.0|   158.596|\n",
      "|     123.0|   125.568|\n",
      "+----------+----------+\n",
      "only showing top 5 rows\n",
      "\n"
     ]
    }
   ],
   "source": [
    "previsao_test = model_rfr.transform(carros_test)\n",
    "previsao_test.select(\"dependente\", \"prediction\").show(5)"
   ]
  },
  {
   "cell_type": "markdown",
   "id": "ab43d4c4",
   "metadata": {},
   "source": [
    "### Avaliando o Modelo"
   ]
  },
  {
   "cell_type": "code",
   "execution_count": 52,
   "id": "6d63cf26",
   "metadata": {},
   "outputs": [],
   "source": [
    "from pyspark.ml.evaluation import RegressionEvaluator"
   ]
  },
  {
   "cell_type": "code",
   "execution_count": 53,
   "id": "341f26e8",
   "metadata": {
    "scrolled": true
   },
   "outputs": [
    {
     "name": "stdout",
     "output_type": "stream",
     "text": [
      "rmse: 30.176117889170413\n"
     ]
    }
   ],
   "source": [
    "avaliar = RegressionEvaluator(predictionCol=\"prediction\",\n",
    "                              labelCol=\"dependente\",\n",
    "                              metricName=\"rmse\")\n",
    "rmse = avaliar.evaluate(previsao_test)\n",
    "print(f\"rmse: {rmse}\")"
   ]
  },
  {
   "cell_type": "markdown",
   "id": "2b0ff3ab",
   "metadata": {},
   "source": [
    "O **desvio quadrático médio** ou **erro quadrático médio** é uma medida frequentemente usada das diferenças entre os valores previstos por um modelo ou estimador e os valores observados. dessa forma, quanto menor for esse valor melhor o modelo.\n",
    "\n",
    "Para o modelo avaliado nesse exemplo, podemos observar que esse valor é relativamente grande, isso ocorre por conta do tamanho do conjunto de dados que é pequeno."
   ]
  },
  {
   "cell_type": "markdown",
   "id": "064ed76a",
   "metadata": {},
   "source": [
    "---"
   ]
  },
  {
   "cell_type": "markdown",
   "id": "14d80524",
   "metadata": {},
   "source": [
    "## Visualização Gráfica dos Dados (Reais vs Previsão) do Conjunto de Treino"
   ]
  },
  {
   "cell_type": "code",
   "execution_count": 54,
   "id": "d4a9d509",
   "metadata": {},
   "outputs": [],
   "source": [
    "import matplotlib.pyplot as plt\n",
    "import numpy as np\n",
    "\n",
    "plt.style.use(\"ggplot\")"
   ]
  },
  {
   "cell_type": "code",
   "execution_count": 55,
   "id": "d55662bc",
   "metadata": {
    "scrolled": true
   },
   "outputs": [
    {
     "name": "stdout",
     "output_type": "stream",
     "text": [
      "+----------+------------------+-----------+\n",
      "|dependente|        prediction|Cilindradas|\n",
      "+----------+------------------+-----------+\n",
      "|     335.0|           259.876|        301|\n",
      "|     110.0|            125.18|        160|\n",
      "|     110.0|            125.18|        160|\n",
      "|      91.0|           130.308|       1203|\n",
      "|     245.0|223.00383333333332|        350|\n",
      "+----------+------------------+-----------+\n",
      "only showing top 5 rows\n",
      "\n"
     ]
    }
   ],
   "source": [
    "previsao_train = model_rfr.transform(carros_train)\n",
    "previsao_train.select(\"dependente\",\n",
    "                      \"prediction\",\n",
    "                      \"Cilindradas\").show(5)"
   ]
  },
  {
   "cell_type": "markdown",
   "id": "0eb53ff0",
   "metadata": {},
   "source": [
    "### Convertendo os Dados Para Array NumPy"
   ]
  },
  {
   "cell_type": "code",
   "execution_count": 56,
   "id": "73e11690",
   "metadata": {
    "scrolled": true
   },
   "outputs": [
    {
     "name": "stdout",
     "output_type": "stream",
     "text": [
      "+----------+------------------+-----------+\n",
      "|dependente|        prediction|Cilindradas|\n",
      "+----------+------------------+-----------+\n",
      "|     335.0|           259.876|        301|\n",
      "|     110.0|            125.18|        160|\n",
      "|     110.0|            125.18|        160|\n",
      "|      91.0|           130.308|       1203|\n",
      "|     245.0|223.00383333333332|        350|\n",
      "+----------+------------------+-----------+\n",
      "only showing top 5 rows\n",
      "\n"
     ]
    },
    {
     "data": {
      "text/plain": [
       "(24, 3)"
      ]
     },
     "execution_count": 56,
     "metadata": {},
     "output_type": "execute_result"
    }
   ],
   "source": [
    "previsao_train_numpy = previsao_train.select(\"dependente\",\n",
    "                                             \"prediction\",\n",
    "                                             \"Cilindradas\")\n",
    "previsao_train_numpy.show(5)\n",
    "previsao_train_numpy = previsao_train_numpy.toPandas().to_numpy()\n",
    "\n",
    "previsao_train_numpy.shape"
   ]
  },
  {
   "cell_type": "markdown",
   "id": "a26a4ba3",
   "metadata": {},
   "source": [
    "### Plotagem dos Gráficos para Compar os Valores Reais com os Estimados pelo Modelo"
   ]
  },
  {
   "cell_type": "code",
   "execution_count": 57,
   "id": "c3b31057",
   "metadata": {},
   "outputs": [
    {
     "data": {
      "image/png": "[encoded data removed]",
      "text/plain": [
       "<Figure size 1000x500 with 1 Axes>"
      ]
     },
     "metadata": {},
     "output_type": "display_data"
    }
   ],
   "source": [
    "fig1, ax1 = plt.subplots(figsize=(10, 5))\n",
    "ax1.stem(previsao_train_numpy[:, 2], previsao_train_numpy[:, 0],\n",
    "         \"r\", markerfmt=\"ro\", label=\"Dados Reais\")\n",
    "ax1.stem(previsao_train_numpy[:, 2], previsao_train_numpy[:, 1],\n",
    "         \"g\", markerfmt=\"go\", label=\"Dados Estimado pelo Modelo\")\n",
    "plt.title(\"HP vs Cilindradas\")\n",
    "ax1.set_xlabel(\"Cilindradas\")\n",
    "ax1.set_ylabel(\"HP\")\n",
    "ax1.legend()\n",
    "plt.show()"
   ]
  },
  {
   "cell_type": "markdown",
   "id": "ebc9df48",
   "metadata": {},
   "source": [
    "---"
   ]
  },
  {
   "cell_type": "markdown",
   "id": "8148006a",
   "metadata": {},
   "source": [
    "## Visualização Gráfica dos Dados (Reais vs Previsão) do Conjunto de Testes"
   ]
  },
  {
   "cell_type": "markdown",
   "id": "192a9e05",
   "metadata": {},
   "source": [
    "### Convertendo os Dados Para Array NumPy"
   ]
  },
  {
   "cell_type": "code",
   "execution_count": 58,
   "id": "a627cd42",
   "metadata": {
    "scrolled": true
   },
   "outputs": [
    {
     "name": "stdout",
     "output_type": "stream",
     "text": [
      "+----------+----------+-----------+\n",
      "|dependente|prediction|Cilindradas|\n",
      "+----------+----------+-----------+\n",
      "|     215.0|    175.44|        460|\n",
      "|     205.0|    175.44|        472|\n",
      "|     180.0|   158.596|       2758|\n",
      "|     180.0|   158.596|       2758|\n",
      "|     123.0|   125.568|       1676|\n",
      "+----------+----------+-----------+\n",
      "only showing top 5 rows\n",
      "\n"
     ]
    },
    {
     "data": {
      "text/plain": [
       "(8, 3)"
      ]
     },
     "execution_count": 58,
     "metadata": {},
     "output_type": "execute_result"
    }
   ],
   "source": [
    "previsao_test_numpy = previsao_test.select(\"dependente\",\n",
    "                                           \"prediction\",\n",
    "                                           \"Cilindradas\")\n",
    "previsao_test_numpy.show(5)\n",
    "previsao_test_numpy = previsao_test_numpy.toPandas().to_numpy()\n",
    "\n",
    "previsao_test_numpy.shape"
   ]
  },
  {
   "cell_type": "markdown",
   "id": "12d4a30c",
   "metadata": {},
   "source": [
    "### Plotagem dos Gráficos para Compar os Valores Reais com os Estimados pelo Modelo"
   ]
  },
  {
   "cell_type": "code",
   "execution_count": 59,
   "id": "e9572f8e",
   "metadata": {},
   "outputs": [
    {
     "data": {
      "image/png": "[encoded data removed]",
      "text/plain": [
       "<Figure size 1000x500 with 1 Axes>"
      ]
     },
     "metadata": {},
     "output_type": "display_data"
    }
   ],
   "source": [
    "fig2, ax2 = plt.subplots(figsize=(10, 5))\n",
    "ax2.stem(previsao_test_numpy[:, 2], previsao_test_numpy[:, 0],\n",
    "         \"r\", markerfmt=\"ro\", label=\"Dados Reais\")\n",
    "ax2.stem(previsao_test_numpy[:, 2], previsao_test_numpy[:, 1],\n",
    "         \"g\", markerfmt=\"go\", label=\"Dados Estimado pelo Modelo\")\n",
    "ax2.legend()\n",
    "plt.show()"
   ]
  }
 ],
 "metadata": {
  "kernelspec": {
   "display_name": "Python 3 (ipykernel)",
   "language": "python",
   "name": "python3"
  },
  "language_info": {
   "codemirror_mode": {
    "name": "ipython",
    "version": 3
   },
   "file_extension": ".py",
   "mimetype": "text/x-python",
   "name": "python",
   "nbconvert_exporter": "python",
   "pygments_lexer": "ipython3",
   "version": "3.10.8"
  }
 },
 "nbformat": 4,
 "nbformat_minor": 5
}
