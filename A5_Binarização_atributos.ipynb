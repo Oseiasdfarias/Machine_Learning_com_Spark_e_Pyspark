{
 "cells": [
  {
   "cell_type": "markdown",
   "id": "d86e46b6",
   "metadata": {},
   "source": [
    "# Binarização de Atributos\n",
    "### Inicializando o PySpark"
   ]
  },
  {
   "cell_type": "code",
   "execution_count": 8,
   "id": "c19921db",
   "metadata": {},
   "outputs": [],
   "source": [
    "import findspark\n",
    "import pyspark\n",
    "from pyspark.sql import SparkSession\n",
    "\n",
    "# Faz a Interafce entre o Spark e o Jupyter Notebook\n",
    "findspark.init()\n",
    "\n",
    "# Inicializando uma Sessão no Spark\n",
    "spark = SparkSession.builder.appName(\"pca\").getOrCreate()"
   ]
  },
  {
   "cell_type": "code",
   "execution_count": 3,
   "id": "5bb69d89",
   "metadata": {},
   "outputs": [],
   "source": [
    "from pyspark.ml.feature import Binarizer\n",
    "from pyspark.ml.feature import VectorAssembler"
   ]
  },
  {
   "cell_type": "markdown",
   "id": "5f90f19d",
   "metadata": {},
   "source": [
    "### Carregando a Base de Dados usado nesta Aula"
   ]
  },
  {
   "cell_type": "code",
   "execution_count": 4,
   "id": "a78f3179",
   "metadata": {
    "scrolled": false
   },
   "outputs": [
    {
     "name": "stderr",
     "output_type": "stream",
     "text": [
      "                                                                                \r"
     ]
    },
    {
     "name": "stdout",
     "output_type": "stream",
     "text": [
      "+-----------+----------+-----------+----------+-----------+\n",
      "|sepallength|sepalwidth|petallength|petalwidth|      class|\n",
      "+-----------+----------+-----------+----------+-----------+\n",
      "|        5.1|       3.5|        1.4|       0.2|Iris-setosa|\n",
      "|        4.9|       3.0|        1.4|       0.2|Iris-setosa|\n",
      "|        4.7|       3.2|        1.3|       0.2|Iris-setosa|\n",
      "|        4.6|       3.1|        1.5|       0.2|Iris-setosa|\n",
      "|        5.0|       3.6|        1.4|       0.2|Iris-setosa|\n",
      "+-----------+----------+-----------+----------+-----------+\n",
      "only showing top 5 rows\n",
      "\n"
     ]
    }
   ],
   "source": [
    "iris = spark.read.csv(\"Material_do_Curso/iris.csv\", header=True, inferSchema=True)\n",
    "iris.show(5)"
   ]
  },
  {
   "cell_type": "markdown",
   "id": "5f7030c2",
   "metadata": {},
   "source": [
    "### Binarização\n",
    "Aplicando a Binarização na coluna ***sepallength*** do conjunto de dados ***Iris***"
   ]
  },
  {
   "cell_type": "code",
   "execution_count": 5,
   "id": "73101468",
   "metadata": {},
   "outputs": [],
   "source": [
    "binarizer = Binarizer(threshold=5, inputCol=\"sepallength\", outputCol=\"sepallength_bin\")"
   ]
  },
  {
   "cell_type": "code",
   "execution_count": 7,
   "id": "a1ede093",
   "metadata": {
    "scrolled": false
   },
   "outputs": [
    {
     "name": "stdout",
     "output_type": "stream",
     "text": [
      "+-----------+----------+-----------+----------+-----------+---------------+\n",
      "|sepallength|sepalwidth|petallength|petalwidth|      class|sepallength_bin|\n",
      "+-----------+----------+-----------+----------+-----------+---------------+\n",
      "|        5.1|       3.5|        1.4|       0.2|Iris-setosa|            1.0|\n",
      "|        4.9|       3.0|        1.4|       0.2|Iris-setosa|            0.0|\n",
      "|        4.7|       3.2|        1.3|       0.2|Iris-setosa|            0.0|\n",
      "|        4.6|       3.1|        1.5|       0.2|Iris-setosa|            0.0|\n",
      "|        5.0|       3.6|        1.4|       0.2|Iris-setosa|            0.0|\n",
      "|        5.4|       3.9|        1.7|       0.4|Iris-setosa|            1.0|\n",
      "|        4.6|       3.4|        1.4|       0.3|Iris-setosa|            0.0|\n",
      "|        5.0|       3.4|        1.5|       0.2|Iris-setosa|            0.0|\n",
      "|        4.4|       2.9|        1.4|       0.2|Iris-setosa|            0.0|\n",
      "|        4.9|       3.1|        1.5|       0.1|Iris-setosa|            0.0|\n",
      "|        5.4|       3.7|        1.5|       0.2|Iris-setosa|            1.0|\n",
      "|        4.8|       3.4|        1.6|       0.2|Iris-setosa|            0.0|\n",
      "|        4.8|       3.0|        1.4|       0.1|Iris-setosa|            0.0|\n",
      "|        4.3|       3.0|        1.1|       0.1|Iris-setosa|            0.0|\n",
      "|        5.8|       4.0|        1.2|       0.2|Iris-setosa|            1.0|\n",
      "|        5.7|       4.4|        1.5|       0.4|Iris-setosa|            1.0|\n",
      "|        5.4|       3.9|        1.3|       0.4|Iris-setosa|            1.0|\n",
      "|        5.1|       3.5|        1.4|       0.3|Iris-setosa|            1.0|\n",
      "|        5.7|       3.8|        1.7|       0.3|Iris-setosa|            1.0|\n",
      "|        5.1|       3.8|        1.5|       0.3|Iris-setosa|            1.0|\n",
      "+-----------+----------+-----------+----------+-----------+---------------+\n",
      "only showing top 20 rows\n",
      "\n"
     ]
    }
   ],
   "source": [
    "iris_sepallength_bin = binarizer.transform(iris)\n",
    "iris_sepallength_bin.show()"
   ]
  }
 ],
 "metadata": {
  "kernelspec": {
   "display_name": "Python 3 (ipykernel)",
   "language": "python",
   "name": "python3"
  },
  "language_info": {
   "codemirror_mode": {
    "name": "ipython",
    "version": 3
   },
   "file_extension": ".py",
   "mimetype": "text/x-python",
   "name": "python",
   "nbconvert_exporter": "python",
   "pygments_lexer": "ipython3",
   "version": "3.10.8"
  }
 },
 "nbformat": 4,
 "nbformat_minor": 5
}
