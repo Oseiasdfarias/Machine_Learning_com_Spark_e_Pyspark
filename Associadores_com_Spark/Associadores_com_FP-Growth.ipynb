{
 "cells": [
  {
   "cell_type": "markdown",
   "id": "c64e677e",
   "metadata": {},
   "source": [
    "<center> <h1 style=\"background-color:seagreen; color:white\" >Associadores com FP-Growth com Spark usando PySpark</h1></center>  \n",
    "\n",
    "**Conceitos**:\n",
    "\n",
    "> + Suporte: numero de transações que contem todos os itens da transação.\n",
    "> + Confiança: indica a proporção de vezes que, em uma transação contendo o elemento A, também tem B.\n",
    "> + Lift: o quanto aumenta a frequência de B com a ocorrência de A\n",
    "\n",
    "\n",
    " **Suporte**:\n",
    "> Não adianta os produtos aparecerem com\n",
    "frequência juntos, se raramente são comprados!\n",
    "\n",
    "**Confiança**:\n",
    "> Não adianta um produto ser muito comprado, se\n",
    "dificilmente eles aparecem juntos\n",
    "\n",
    "### FP-Grow\n",
    "\n",
    "FP-Grow induz árvores, e busca sobreposição destas árvores, onde os itens são\n",
    "frequentes.\n",
    "\n",
    "\n",
    "\n",
    "<img src=\"exemp.jpeg\" alt=\"Associadores com FP-Growth\" width=\"500\" height=\"300\">\n",
    "\n",
    "<center> <h2 style=\"background-color:DarkKhaki; color:white\" >Inicializando o PySpark</h2></center> "
   ]
  },
  {
   "cell_type": "code",
   "execution_count": 4,
   "id": "3ecfeb6e",
   "metadata": {},
   "outputs": [],
   "source": [
    "import findspark\n",
    "import pyspark\n",
    "from pyspark.sql import SparkSession\n",
    "\n",
    "# Faz a Interafce entre o Spark e o Jupyter Notebook\n",
    "findspark.init()\n",
    "\n",
    "# Inicializando uma Sessão no Spark\n",
    "spark = SparkSession.builder.appName(\"FP-Growth\").getOrCreate()"
   ]
  },
  {
   "cell_type": "markdown",
   "id": "d09d23be",
   "metadata": {},
   "source": [
    "<center> <h3 style=\"background-color:#ECF7AE; color:#3F403D\" >Hiper Parâmetros</h3></center> \n",
    "\n",
    "\n",
    "> + **minConfidence**: confiança minima para gerar regra. (padrão: 0.8)\n",
    "> + **minSupport**: suporte minímo para gerar a regra. (padrão: 0.3)\n",
    "\n",
    "\n"
   ]
  },
  {
   "cell_type": "markdown",
   "id": "c2dcc5fc",
   "metadata": {},
   "source": [
    "---\n",
    "\n",
    "<center> <h1 style=\"background-color:seagreen; color:white\" >Aplicando Associadores com FP-Growth no DataSet Íris</h1></center>\n",
    "\n"
   ]
  },
  {
   "cell_type": "markdown",
   "id": "85f45af4",
   "metadata": {},
   "source": [
    "<center> <h3 style=\"background-color:#ECF7AE; color:#3F403D\" >Carregando o Cunjunto de Dados Íris</h3></center> "
   ]
  },
  {
   "cell_type": "code",
   "execution_count": 12,
   "id": "a673a559",
   "metadata": {
    "scrolled": true
   },
   "outputs": [
    {
     "name": "stdout",
     "output_type": "stream",
     "text": [
      "+-------------------------+\n",
      "|transacoes               |\n",
      "+-------------------------+\n",
      "|[Cerveja, Pizza, Sorvete]|\n",
      "|[Pizza, Sorvete]         |\n",
      "|[Cerveja, Pizza]         |\n",
      "|[Cerveja, Pizza, Sorvete]|\n",
      "|[Cerveja, Pizza]         |\n",
      "|[Pizza]                  |\n",
      "+-------------------------+\n",
      "\n"
     ]
    }
   ],
   "source": [
    "from pyspark.sql.functions import split\n",
    "\n",
    "transacoes =  spark.read.text(\"../Material_do_Curso/Transacoes.txt\")\n",
    "transacoes = transacoes.select(split(\"value\", \"\\s+\").alias(\"transacoes\"))\n",
    "transacoes.show(truncate=False)"
   ]
  },
  {
   "cell_type": "markdown",
   "id": "7f6b5bf6",
   "metadata": {},
   "source": [
    "---\n",
    "\n",
    "\n",
    "<center> <h3 style=\"background-color:#ECF7AE; color:#3F403D\" > Importação do Módulo do PySpark Para Criação do Modelo de Associadores com FP-Growth</h3></center> \n"
   ]
  },
  {
   "cell_type": "code",
   "execution_count": 13,
   "id": "81b15be7",
   "metadata": {},
   "outputs": [],
   "source": [
    "from pyspark.ml.fpm import FPGrowth "
   ]
  },
  {
   "cell_type": "markdown",
   "id": "01232e6e",
   "metadata": {},
   "source": [
    "#### Instanciando Objeto e criando o Modelo"
   ]
  },
  {
   "cell_type": "code",
   "execution_count": 14,
   "id": "96d8cdae",
   "metadata": {
    "scrolled": true
   },
   "outputs": [
    {
     "name": "stderr",
     "output_type": "stream",
     "text": [
      "                                                                                \r"
     ]
    },
    {
     "name": "stdout",
     "output_type": "stream",
     "text": [
      "+----------------+----+\n",
      "|           items|freq|\n",
      "+----------------+----+\n",
      "|       [Sorvete]|   3|\n",
      "|[Sorvete, Pizza]|   3|\n",
      "|       [Cerveja]|   4|\n",
      "|[Cerveja, Pizza]|   4|\n",
      "|         [Pizza]|   6|\n",
      "+----------------+----+\n",
      "\n"
     ]
    }
   ],
   "source": [
    "# Instanciando o objeto FP-Growth\n",
    "obj_fp = FPGrowth(itemsCol=\"transacoes\", minSupport=0.5, minConfidence=0.5)\n",
    "\n",
    "# Criando o Modelo\n",
    "model_fp = obj_fp.fit(transacoes)\n",
    "model_fp.freqItemsets.show()"
   ]
  },
  {
   "cell_type": "markdown",
   "id": "779f1627",
   "metadata": {},
   "source": [
    "\n",
    "---\n",
    "\n",
    "<center> <h1 style=\"background-color:seagreen; color:white\" >Regras Criadas com suas Confianças e Suportes correspondentes</h1></center> \n",
    "<br>\n"
   ]
  },
  {
   "cell_type": "code",
   "execution_count": 17,
   "id": "e2ec5007",
   "metadata": {},
   "outputs": [
    {
     "name": "stdout",
     "output_type": "stream",
     "text": [
      "+----------+----------+------------------+----+------------------+\n",
      "|antecedent|consequent|        confidence|lift|           support|\n",
      "+----------+----------+------------------+----+------------------+\n",
      "| [Cerveja]|   [Pizza]|               1.0| 1.0|0.6666666666666666|\n",
      "| [Sorvete]|   [Pizza]|               1.0| 1.0|               0.5|\n",
      "|   [Pizza]| [Sorvete]|               0.5| 1.0|               0.5|\n",
      "|   [Pizza]| [Cerveja]|0.6666666666666666| 1.0|0.6666666666666666|\n",
      "+----------+----------+------------------+----+------------------+\n",
      "\n"
     ]
    }
   ],
   "source": [
    "model_fp.associationRules.show()"
   ]
  },
  {
   "cell_type": "markdown",
   "id": "d2ee7a6f",
   "metadata": {},
   "source": [
    "\n",
    "<center> <h3 style=\"background-color:#ECF7AE; color:#3F403D\" > Prevendo futuras compras baseado no que a pessoa comprou </h3></center> "
   ]
  },
  {
   "cell_type": "code",
   "execution_count": 18,
   "id": "7860b117",
   "metadata": {},
   "outputs": [
    {
     "name": "stderr",
     "output_type": "stream",
     "text": [
      "                                                                                \r"
     ]
    },
    {
     "name": "stdout",
     "output_type": "stream",
     "text": [
      "+-------------------------+------------------+\n",
      "|transacoes               |prediction        |\n",
      "+-------------------------+------------------+\n",
      "|[Cerveja, Pizza, Sorvete]|[]                |\n",
      "|[Pizza, Sorvete]         |[Cerveja]         |\n",
      "|[Cerveja, Pizza]         |[Sorvete]         |\n",
      "|[Cerveja, Pizza, Sorvete]|[]                |\n",
      "|[Cerveja, Pizza]         |[Sorvete]         |\n",
      "|[Pizza]                  |[Sorvete, Cerveja]|\n",
      "+-------------------------+------------------+\n",
      "\n"
     ]
    }
   ],
   "source": [
    "model_fp.transform(transacoes).show(truncate=False)"
   ]
  }
 ],
 "metadata": {
  "kernelspec": {
   "display_name": "Python 3 (ipykernel)",
   "language": "python",
   "name": "python3"
  },
  "language_info": {
   "codemirror_mode": {
    "name": "ipython",
    "version": 3
   },
   "file_extension": ".py",
   "mimetype": "text/x-python",
   "name": "python",
   "nbconvert_exporter": "python",
   "pygments_lexer": "ipython3",
   "version": "3.10.8"
  }
 },
 "nbformat": 4,
 "nbformat_minor": 5
}
