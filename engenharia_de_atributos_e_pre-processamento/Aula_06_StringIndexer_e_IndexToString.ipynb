{
 "cells": [
  {
   "cell_type": "markdown",
   "id": "d86e46b6",
   "metadata": {},
   "source": [
    "# Indexação de Texto com StringIndexer\n",
    "### Inicializando o PySpark"
   ]
  },
  {
   "cell_type": "code",
   "execution_count": 13,
   "id": "c19921db",
   "metadata": {},
   "outputs": [],
   "source": [
    "import findspark\n",
    "import pyspark\n",
    "from pyspark.sql import SparkSession\n",
    "\n",
    "# Faz a Interafce entre o Spark e o Jupyter Notebook\n",
    "findspark.init()\n",
    "\n",
    "# Inicializando uma Sessão no Spark\n",
    "spark = SparkSession.builder.appName(\"StringIndexer\").getOrCreate()"
   ]
  },
  {
   "cell_type": "code",
   "execution_count": 20,
   "id": "5bb69d89",
   "metadata": {},
   "outputs": [],
   "source": [
    "from pyspark.ml.feature import StringIndexer, IndexToString"
   ]
  },
  {
   "cell_type": "markdown",
   "id": "5f90f19d",
   "metadata": {},
   "source": [
    "### Carregando a Base de Dados usado nesta Aula"
   ]
  },
  {
   "cell_type": "code",
   "execution_count": 21,
   "id": "baeae954",
   "metadata": {},
   "outputs": [
    {
     "name": "stderr",
     "output_type": "stream",
     "text": [
      "\r",
      "[Stage 25:>                                                         (0 + 1) / 1]\r",
      "\r",
      "                                                                                \r"
     ]
    },
    {
     "name": "stdout",
     "output_type": "stream",
     "text": [
      "+-----------+---------+------+---+------+--------+-------------+---------+--------------+---------------+------+\n",
      "|CreditScore|Geography|Gender|Age|Tenure| Balance|NumOfProducts|HasCrCard|IsActiveMember|EstimatedSalary|Exited|\n",
      "+-----------+---------+------+---+------+--------+-------------+---------+--------------+---------------+------+\n",
      "|        619|   France|Female| 42|     2|       0|            1|        1|             1|       10134888|     1|\n",
      "|        608|    Spain|Female| 41|     1| 8380786|            1|        0|             1|       11254258|     0|\n",
      "|        502|   France|Female| 42|     8| 1596608|            3|        1|             0|       11393157|     1|\n",
      "|        699|   France|Female| 39|     1|       0|            2|        0|             0|        9382663|     0|\n",
      "|        850|    Spain|Female| 43|     2|12551082|            1|        1|             1|         790841|     0|\n",
      "+-----------+---------+------+---+------+--------+-------------+---------+--------------+---------------+------+\n",
      "only showing top 5 rows\n",
      "\n"
     ]
    }
   ],
   "source": [
    "churn = spark.read.load(\"Material_do_Curso/Churn.csv\", format=\"csv\",\n",
    "                        sep=\";\", inferSchema=True, header=True)\n",
    "churn.show(5)"
   ]
  },
  {
   "cell_type": "markdown",
   "id": "5f7030c2",
   "metadata": {},
   "source": [
    "### Indexação da Coluna ***Geography***\n",
    "Aplicando a Indexação na coluna ***Geography*** do conjunto de dados ***Churn***"
   ]
  },
  {
   "cell_type": "code",
   "execution_count": 27,
   "id": "73101468",
   "metadata": {},
   "outputs": [
    {
     "name": "stdout",
     "output_type": "stream",
     "text": [
      "+---------+------+\n",
      "|Geography|indice|\n",
      "+---------+------+\n",
      "|   France|   0.0|\n",
      "|    Spain|   2.0|\n",
      "|   France|   0.0|\n",
      "|   France|   0.0|\n",
      "|    Spain|   2.0|\n",
      "|    Spain|   2.0|\n",
      "|   France|   0.0|\n",
      "|  Germany|   1.0|\n",
      "|   France|   0.0|\n",
      "|   France|   0.0|\n",
      "+---------+------+\n",
      "only showing top 10 rows\n",
      "\n"
     ]
    }
   ],
   "source": [
    "# Instanciando um Objeto StringIndexer\n",
    "indece = StringIndexer(inputCol=\"Geography\", outputCol=\"indice\")\n",
    "\n",
    "# Criando um Modelo para obter a indexação da coluna Geography\n",
    "modelo = indece.fit(churn)\n",
    "\n",
    "# Aplicando a Transformação e obtendo os indices para a coluna Geography\n",
    "dados_Geography_indice = modelo.transform(churn)\n",
    "\n",
    "# Mostrando os dados originais da coluna Geography e sua respectiva indexação\n",
    "dados_Geography_indice.select(\"Geography\", \"indice\").show(10)"
   ]
  },
  {
   "cell_type": "markdown",
   "id": "f50c8a1f",
   "metadata": {
    "scrolled": false
   },
   "source": [
    "# Índice para Texto com IndexToString"
   ]
  },
  {
   "cell_type": "code",
   "execution_count": 29,
   "id": "27860e9d",
   "metadata": {},
   "outputs": [
    {
     "name": "stdout",
     "output_type": "stream",
     "text": [
      "+---------+------+-----------------+\n",
      "|Geography|indice|categoriaOriginal|\n",
      "+---------+------+-----------------+\n",
      "|   France|   0.0|           France|\n",
      "|    Spain|   2.0|            Spain|\n",
      "|   France|   0.0|           France|\n",
      "|   France|   0.0|           France|\n",
      "|    Spain|   2.0|            Spain|\n",
      "|    Spain|   2.0|            Spain|\n",
      "|   France|   0.0|           France|\n",
      "|  Germany|   1.0|          Germany|\n",
      "|   France|   0.0|           France|\n",
      "|   France|   0.0|           France|\n",
      "+---------+------+-----------------+\n",
      "only showing top 10 rows\n",
      "\n"
     ]
    }
   ],
   "source": [
    "# Criando uma Instância da Classe IndexToString\n",
    "retorno = IndexToString(inputCol=\"indice\", outputCol=\"categoriaOriginal\")\n",
    "\n",
    "# Converte a coluna indice para categorias \n",
    "convertido = retorno.transform(dados_Geography_indice)\n",
    "\n",
    "# Mostra o resultado.\n",
    "convertido.select(\"Geography\", \"indice\", \"categoriaOriginal\").show(10)"
   ]
  }
 ],
 "metadata": {
  "kernelspec": {
   "display_name": "Python 3 (ipykernel)",
   "language": "python",
   "name": "python3"
  },
  "language_info": {
   "codemirror_mode": {
    "name": "ipython",
    "version": 3
   },
   "file_extension": ".py",
   "mimetype": "text/x-python",
   "name": "python",
   "nbconvert_exporter": "python",
   "pygments_lexer": "ipython3",
   "version": "3.10.8"
  }
 },
 "nbformat": 4,
 "nbformat_minor": 5
}
