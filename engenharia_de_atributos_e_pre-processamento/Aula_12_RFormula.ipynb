{
 "cells": [
  {
   "cell_type": "markdown",
   "id": "d86e46b6",
   "metadata": {},
   "source": [
    "#  Transformação com RFormula\n",
    "### Inicializando o PySpark"
   ]
  },
  {
   "cell_type": "code",
   "execution_count": 3,
   "id": "c19921db",
   "metadata": {},
   "outputs": [],
   "source": [
    "import findspark\n",
    "import pyspark\n",
    "from pyspark.sql import SparkSession\n",
    "\n",
    "# Faz a Interafce entre o Spark e o Jupyter Notebook\n",
    "findspark.init()\n",
    "\n",
    "# Inicializando uma Sessão no Spark\n",
    "spark = SparkSession.builder.appName(\"RFormula\").getOrCreate()"
   ]
  },
  {
   "cell_type": "markdown",
   "id": "5f90f19d",
   "metadata": {},
   "source": [
    "### Carregando a Base de Dados usado nesta Aula"
   ]
  },
  {
   "cell_type": "code",
   "execution_count": 6,
   "id": "baeae954",
   "metadata": {},
   "outputs": [
    {
     "name": "stdout",
     "output_type": "stream",
     "text": [
      "+-------+---------+-----------+---------------+----+-----+---------+-----------+-------+-----------+---+\n",
      "|Consumo|Cilindros|Cilindradas|RelEixoTraseiro|Peso|Tempo|TipoMotor|Transmissao|Marchas|Carburadors| HP|\n",
      "+-------+---------+-----------+---------------+----+-----+---------+-----------+-------+-----------+---+\n",
      "|     21|        6|        160|             39| 262| 1646|        0|          1|      4|          4|110|\n",
      "|     21|        6|        160|             39|2875| 1702|        0|          1|      4|          4|110|\n",
      "|    228|        4|        108|            385| 232| 1861|        1|          1|      4|          1| 93|\n",
      "|    214|        6|        258|            308|3215| 1944|        1|          0|      3|          1|110|\n",
      "|    187|        8|        360|            315| 344| 1702|        0|          0|      3|          2|175|\n",
      "+-------+---------+-----------+---------------+----+-----+---------+-----------+-------+-----------+---+\n",
      "only showing top 5 rows\n",
      "\n"
     ]
    }
   ],
   "source": [
    "carros = spark.read.load(\"Material_do_Curso/Carros.csv\", format=\"csv\",\n",
    "                        sep=\";\", inferSchema=True, header=True)\n",
    "carros.show(5)"
   ]
  },
  {
   "cell_type": "markdown",
   "id": "3f30903c",
   "metadata": {},
   "source": [
    "### Aplicando o RFurmula ao Conjunto de Dados Carros "
   ]
  },
  {
   "cell_type": "code",
   "execution_count": 7,
   "id": "29e9277c",
   "metadata": {},
   "outputs": [],
   "source": [
    "from pyspark.ml.feature import RFormula"
   ]
  },
  {
   "cell_type": "code",
   "execution_count": 8,
   "id": "1847480d",
   "metadata": {},
   "outputs": [
    {
     "name": "stderr",
     "output_type": "stream",
     "text": [
      "\r",
      "[Stage 9:>                                                          (0 + 1) / 1]\r"
     ]
    },
    {
     "name": "stdout",
     "output_type": "stream",
     "text": [
      "+------------------+----------+\n",
      "|      Independente|Dependente|\n",
      "+------------------+----------+\n",
      "|  [21.0,6.0,160.0]|     110.0|\n",
      "|  [21.0,6.0,160.0]|     110.0|\n",
      "| [228.0,4.0,108.0]|      93.0|\n",
      "| [214.0,6.0,258.0]|     110.0|\n",
      "| [187.0,8.0,360.0]|     175.0|\n",
      "| [181.0,6.0,225.0]|     105.0|\n",
      "| [143.0,8.0,360.0]|     245.0|\n",
      "|[244.0,4.0,1467.0]|      62.0|\n",
      "|[228.0,4.0,1408.0]|      95.0|\n",
      "|[192.0,6.0,1676.0]|     123.0|\n",
      "|[178.0,6.0,1676.0]|     123.0|\n",
      "|[164.0,8.0,2758.0]|     180.0|\n",
      "|[173.0,8.0,2758.0]|     180.0|\n",
      "|[152.0,8.0,2758.0]|     180.0|\n",
      "| [104.0,8.0,472.0]|     205.0|\n",
      "| [104.0,8.0,460.0]|     215.0|\n",
      "| [147.0,8.0,440.0]|     230.0|\n",
      "| [324.0,4.0,787.0]|      66.0|\n",
      "| [304.0,4.0,757.0]|      52.0|\n",
      "| [339.0,4.0,711.0]|      65.0|\n",
      "+------------------+----------+\n",
      "only showing top 20 rows\n",
      "\n"
     ]
    },
    {
     "name": "stderr",
     "output_type": "stream",
     "text": [
      "\r",
      "                                                                                \r"
     ]
    }
   ],
   "source": [
    "# Instanciando um Objeto RFormula e aplicando a transformação dos dados\n",
    "rformula = RFormula(formula=\"HP ~ Consumo + Cilindros + Cilindradas\",\n",
    "                    featuresCol=\"Independente\", labelCol=\"Dependente\")\n",
    "carros_rf = rformula.fit(carros).transform(carros)\n",
    "carros_rf.select(\"Independente\", \"Dependente\").show()"
   ]
  }
 ],
 "metadata": {
  "kernelspec": {
   "display_name": "Python 3 (ipykernel)",
   "language": "python",
   "name": "python3"
  },
  "language_info": {
   "codemirror_mode": {
    "name": "ipython",
    "version": 3
   },
   "file_extension": ".py",
   "mimetype": "text/x-python",
   "name": "python",
   "nbconvert_exporter": "python",
   "pygments_lexer": "ipython3",
   "version": "3.10.8"
  }
 },
 "nbformat": 4,
 "nbformat_minor": 5
}
