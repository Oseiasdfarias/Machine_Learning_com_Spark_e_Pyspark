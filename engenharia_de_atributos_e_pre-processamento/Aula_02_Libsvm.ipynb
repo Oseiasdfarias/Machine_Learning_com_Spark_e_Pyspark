{
 "cells": [
  {
   "cell_type": "markdown",
   "id": "d6574764",
   "metadata": {},
   "source": [
    "# Carregando Dados com PySpark \n",
    "### Inicializando o PySpark"
   ]
  },
  {
   "cell_type": "code",
   "execution_count": 5,
   "id": "a0bfcc63",
   "metadata": {},
   "outputs": [],
   "source": [
    "import findspark\n",
    "import pyspark\n",
    "from pyspark.sql import SparkSession\n",
    "\n",
    "# Faz a Interafce entre o Spark e o Jupyter Notebook\n",
    "findspark.init()\n",
    "\n",
    "# Inicializando uma Sessão no Spark\n",
    "spark = SparkSession.builder.appName(\"Libsvm\").getOrCreate()"
   ]
  },
  {
   "cell_type": "markdown",
   "id": "dce0285b",
   "metadata": {},
   "source": [
    "### Carregando os dados Libsvm"
   ]
  },
  {
   "cell_type": "code",
   "execution_count": 8,
   "id": "cbc394cb",
   "metadata": {},
   "outputs": [
    {
     "name": "stdout",
     "output_type": "stream",
     "text": [
      "+-----+-------------------------------+\n",
      "|label|features                       |\n",
      "+-----+-------------------------------+\n",
      "|0.0  |(4,[0,2,3],[5.1,1.4,0.2])      |\n",
      "|0.0  |(4,[0,1,2,3],[4.9,3.0,1.4,0.2])|\n",
      "|0.0  |(4,[0,1,2,3],[4.7,3.2,1.3,0.2])|\n",
      "|0.0  |(4,[1,2,3],[3.1,1.5,0.2])      |\n",
      "|0.0  |(4,[0,1,2,3],[5.0,3.6,1.4,0.2])|\n",
      "|0.0  |(4,[0,1,2,3],[5.4,3.9,1.7,0.4])|\n",
      "|0.0  |(4,[0,1,2,3],[4.6,3.4,1.4,0.3])|\n",
      "|0.0  |(4,[0,1,2,3],[5.0,3.4,1.5,0.2])|\n",
      "|0.0  |(4,[0,1,2,3],[4.4,2.9,1.4,0.2])|\n",
      "|0.0  |(4,[3],[0.1])                  |\n",
      "+-----+-------------------------------+\n",
      "only showing top 10 rows\n",
      "\n"
     ]
    }
   ],
   "source": [
    "dados = spark.read.format(\"libsvm\").option(\"numFeatures\", \"4\").load(\"Material_do_Curso/iris_libsvm.txt\")\n",
    "dados.show(10, truncate=False)"
   ]
  }
 ],
 "metadata": {
  "kernelspec": {
   "display_name": "Python 3 (ipykernel)",
   "language": "python",
   "name": "python3"
  },
  "language_info": {
   "codemirror_mode": {
    "name": "ipython",
    "version": 3
   },
   "file_extension": ".py",
   "mimetype": "text/x-python",
   "name": "python",
   "nbconvert_exporter": "python",
   "pygments_lexer": "ipython3",
   "version": "3.10.8"
  }
 },
 "nbformat": 4,
 "nbformat_minor": 5
}
