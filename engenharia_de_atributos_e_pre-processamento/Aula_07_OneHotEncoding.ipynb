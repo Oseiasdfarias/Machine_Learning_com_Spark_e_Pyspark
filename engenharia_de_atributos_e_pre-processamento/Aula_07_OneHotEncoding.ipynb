{
 "cells": [
  {
   "cell_type": "markdown",
   "id": "d86e46b6",
   "metadata": {},
   "source": [
    "# Categorical Encoding com One Hot Encoding\n",
    "### Inicializando o PySpark"
   ]
  },
  {
   "cell_type": "code",
   "execution_count": 9,
   "id": "c19921db",
   "metadata": {},
   "outputs": [],
   "source": [
    "import findspark\n",
    "import pyspark\n",
    "from pyspark.sql import SparkSession\n",
    "\n",
    "# Faz a Interafce entre o Spark e o Jupyter Notebook\n",
    "findspark.init()\n",
    "\n",
    "# Inicializando uma Sessão no Spark\n",
    "spark = SparkSession.builder.appName(\"One Hot Encoding\").getOrCreate()"
   ]
  },
  {
   "cell_type": "code",
   "execution_count": 10,
   "id": "5bb69d89",
   "metadata": {},
   "outputs": [],
   "source": [
    "from pyspark.ml.feature import StringIndexer, OneHotEncoder"
   ]
  },
  {
   "cell_type": "markdown",
   "id": "5f90f19d",
   "metadata": {},
   "source": [
    "### Carregando a Base de Dados usado nesta Aula"
   ]
  },
  {
   "cell_type": "code",
   "execution_count": 11,
   "id": "baeae954",
   "metadata": {},
   "outputs": [
    {
     "name": "stdout",
     "output_type": "stream",
     "text": [
      "+-----------+---------+------+---+------+--------+-------------+---------+--------------+---------------+------+\n",
      "|CreditScore|Geography|Gender|Age|Tenure| Balance|NumOfProducts|HasCrCard|IsActiveMember|EstimatedSalary|Exited|\n",
      "+-----------+---------+------+---+------+--------+-------------+---------+--------------+---------------+------+\n",
      "|        619|   France|Female| 42|     2|       0|            1|        1|             1|       10134888|     1|\n",
      "|        608|    Spain|Female| 41|     1| 8380786|            1|        0|             1|       11254258|     0|\n",
      "|        502|   France|Female| 42|     8| 1596608|            3|        1|             0|       11393157|     1|\n",
      "|        699|   France|Female| 39|     1|       0|            2|        0|             0|        9382663|     0|\n",
      "|        850|    Spain|Female| 43|     2|12551082|            1|        1|             1|         790841|     0|\n",
      "+-----------+---------+------+---+------+--------+-------------+---------+--------------+---------------+------+\n",
      "only showing top 5 rows\n",
      "\n"
     ]
    }
   ],
   "source": [
    "churn = spark.read.load(\"Material_do_Curso/Churn.csv\", format=\"csv\",\n",
    "                        sep=\";\", inferSchema=True, header=True)\n",
    "churn.show(5)"
   ]
  },
  {
   "cell_type": "markdown",
   "id": "5f7030c2",
   "metadata": {},
   "source": [
    "### Indexação da Coluna ***Geography***\n",
    "Aplicando a Indexação na coluna ***Geography*** do conjunto de dados ***Churn***"
   ]
  },
  {
   "cell_type": "code",
   "execution_count": 25,
   "id": "73101468",
   "metadata": {},
   "outputs": [
    {
     "name": "stdout",
     "output_type": "stream",
     "text": [
      "+---------+----------+------+----------+\n",
      "|Geography|Indexer_c1|Gender|Indexer_c2|\n",
      "+---------+----------+------+----------+\n",
      "|   France|       0.0|Female|       1.0|\n",
      "|    Spain|       2.0|Female|       1.0|\n",
      "|   France|       0.0|Female|       1.0|\n",
      "|   France|       0.0|Female|       1.0|\n",
      "|    Spain|       2.0|Female|       1.0|\n",
      "|    Spain|       2.0|  Male|       0.0|\n",
      "|   France|       0.0|  Male|       0.0|\n",
      "|  Germany|       1.0|Female|       1.0|\n",
      "|   France|       0.0|  Male|       0.0|\n",
      "|   France|       0.0|  Male|       0.0|\n",
      "+---------+----------+------+----------+\n",
      "only showing top 10 rows\n",
      "\n"
     ]
    }
   ],
   "source": [
    "# Instanciando um Objeto StringIndexer\n",
    "indice_onehot_geo = StringIndexer(inputCol=\"Geography\", outputCol=\"Indexer_c1\")\n",
    "indice_onehot_gen = StringIndexer(inputCol=\"Gender\", outputCol=\"Indexer_c2\")\n",
    "\n",
    "# Criando um Modelo e aplica a transformação para obter a indexação\n",
    "# da coluna Geography e Gender\n",
    "indice_transf = indice_onehot_geo.fit(churn).transform(churn)\n",
    "indice_transf = indice_onehot_gen.fit(churn).transform(indice_transf)\n",
    "\n",
    "# Mostrando os dados originais da coluna Geography e sua respectiva indexação\n",
    "indice_transf.select(\"Geography\", \"Indexer_c1\", \"Gender\", \"Indexer_c2\").show(10)"
   ]
  },
  {
   "cell_type": "markdown",
   "id": "f50c8a1f",
   "metadata": {
    "scrolled": false
   },
   "source": [
    "# Aplicando o One Hot Encoding"
   ]
  },
  {
   "cell_type": "code",
   "execution_count": 28,
   "id": "27860e9d",
   "metadata": {},
   "outputs": [
    {
     "name": "stdout",
     "output_type": "stream",
     "text": [
      "+----------+-------------+----------+-------------+\n",
      "|Indexer_c1|onehot_c1    |Indexer_c2|onehot_c2    |\n",
      "+----------+-------------+----------+-------------+\n",
      "|0.0       |(2,[0],[1.0])|1.0       |(1,[],[])    |\n",
      "|2.0       |(2,[],[])    |1.0       |(1,[],[])    |\n",
      "|0.0       |(2,[0],[1.0])|1.0       |(1,[],[])    |\n",
      "|0.0       |(2,[0],[1.0])|1.0       |(1,[],[])    |\n",
      "|2.0       |(2,[],[])    |1.0       |(1,[],[])    |\n",
      "|2.0       |(2,[],[])    |0.0       |(1,[0],[1.0])|\n",
      "|0.0       |(2,[0],[1.0])|0.0       |(1,[0],[1.0])|\n",
      "|1.0       |(2,[1],[1.0])|1.0       |(1,[],[])    |\n",
      "|0.0       |(2,[0],[1.0])|0.0       |(1,[0],[1.0])|\n",
      "|0.0       |(2,[0],[1.0])|0.0       |(1,[0],[1.0])|\n",
      "|0.0       |(2,[0],[1.0])|0.0       |(1,[0],[1.0])|\n",
      "|2.0       |(2,[],[])    |0.0       |(1,[0],[1.0])|\n",
      "|0.0       |(2,[0],[1.0])|1.0       |(1,[],[])    |\n",
      "|0.0       |(2,[0],[1.0])|1.0       |(1,[],[])    |\n",
      "|2.0       |(2,[],[])    |1.0       |(1,[],[])    |\n",
      "|1.0       |(2,[1],[1.0])|0.0       |(1,[0],[1.0])|\n",
      "|1.0       |(2,[1],[1.0])|0.0       |(1,[0],[1.0])|\n",
      "|2.0       |(2,[],[])    |1.0       |(1,[],[])    |\n",
      "|2.0       |(2,[],[])    |0.0       |(1,[0],[1.0])|\n",
      "|0.0       |(2,[0],[1.0])|1.0       |(1,[],[])    |\n",
      "+----------+-------------+----------+-------------+\n",
      "only showing top 20 rows\n",
      "\n"
     ]
    }
   ],
   "source": [
    "# Criando uma Instância da Classe OneHotEncoder\n",
    "onehot = OneHotEncoder(inputCols=[\"Indexer_c1\", \"Indexer_c2\"], outputCols=[\"onehot_c1\", \"onehot_c2\"])\n",
    "\n",
    "# Criando o modelo\n",
    "modelo = onehot.fit(indice_transf)\n",
    "\n",
    "# Aplicando a transformação OneHotEncoder\n",
    "onehot_out = modelo.transform(indice_transf)\n",
    "\n",
    "# Mostra o resultado.\n",
    "onehot_out.select(\"Indexer_c1\", \"onehot_c1\", \"Indexer_c2\", \"onehot_c2\" ).show(truncate=False)"
   ]
  },
  {
   "cell_type": "code",
   "execution_count": null,
   "id": "9de9150f",
   "metadata": {},
   "outputs": [],
   "source": [
    "#"
   ]
  }
 ],
 "metadata": {
  "kernelspec": {
   "display_name": "Python 3 (ipykernel)",
   "language": "python",
   "name": "python3"
  },
  "language_info": {
   "codemirror_mode": {
    "name": "ipython",
    "version": 3
   },
   "file_extension": ".py",
   "mimetype": "text/x-python",
   "name": "python",
   "nbconvert_exporter": "python",
   "pygments_lexer": "ipython3",
   "version": "3.10.8"
  }
 },
 "nbformat": 4,
 "nbformat_minor": 5
}
