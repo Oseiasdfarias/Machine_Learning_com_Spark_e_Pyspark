{
 "cells": [
  {
   "cell_type": "markdown",
   "id": "d86e46b6",
   "metadata": {},
   "source": [
    "# Tratando Valores Ausentes com Imputer\n",
    "### Inicializando o PySpark"
   ]
  },
  {
   "cell_type": "code",
   "execution_count": 3,
   "id": "c19921db",
   "metadata": {},
   "outputs": [],
   "source": [
    "import findspark\n",
    "import pyspark\n",
    "from pyspark.sql import SparkSession\n",
    "\n",
    "# Faz a Interafce entre o Spark e o Jupyter Notebook\n",
    "findspark.init()\n",
    "\n",
    "# Inicializando uma Sessão no Spark\n",
    "spark = SparkSession.builder.appName(\"Imputer\").getOrCreate()"
   ]
  },
  {
   "cell_type": "code",
   "execution_count": 4,
   "id": "5bb69d89",
   "metadata": {},
   "outputs": [],
   "source": [
    "from pyspark.ml.feature import StringIndexer, Imputer"
   ]
  },
  {
   "cell_type": "markdown",
   "id": "5f90f19d",
   "metadata": {},
   "source": [
    "### Carregando a Base de Dados usado nesta Aula"
   ]
  },
  {
   "cell_type": "code",
   "execution_count": 7,
   "id": "baeae954",
   "metadata": {},
   "outputs": [
    {
     "name": "stdout",
     "output_type": "stream",
     "text": [
      "+-------+---------+-----------+---------------+----+-----+---------+-----------+-------+-----------+---+\n",
      "|Consumo|Cilindros|Cilindradas|RelEixoTraseiro|Peso|Tempo|TipoMotor|Transmissao|Marchas|Carburadors| HP|\n",
      "+-------+---------+-----------+---------------+----+-----+---------+-----------+-------+-----------+---+\n",
      "|     21|        6|        160|             39| 262| 1646|        0|          1|      4|          4|110|\n",
      "|     21|        6|       null|             39|2875| null|        0|          1|      4|          4|110|\n",
      "|    228|        0|        108|            385| 232| 1861|        1|          1|      4|          1| 93|\n",
      "|    214|        0|       null|            308|3215| 1944|        1|          0|      3|          1|110|\n",
      "|    187|        0|        360|            315|null| 1702|        0|          0|      3|          2|175|\n",
      "|    181|        6|        225|            276| 346| null|        1|          0|      3|          1|105|\n",
      "|    143|        8|        360|            321| 357| 1584|        0|          0|      3|          4|245|\n",
      "|    244|        4|       1467|            369| 319|   20|        1|          0|      4|          2| 62|\n",
      "|    228|        4|       1408|            392| 315|  229|        1|          0|      4|          2| 95|\n",
      "|    192|        0|       1676|            392| 344|  183|        1|          0|      4|          4|123|\n",
      "|    178|        6|       1676|            392|null|  189|        1|          0|      4|          4|123|\n",
      "|    164|        8|       2758|            307| 407|  174|        0|          0|      3|          3|180|\n",
      "|    173|        8|       2758|            307| 373|  176|        0|          0|      3|          3|180|\n",
      "|    152|        8|       2758|            307| 378|   18|        0|          0|      3|          3|180|\n",
      "|    104|        8|        472|            293| 525| 1798|        0|          0|      3|          4|205|\n",
      "|    104|        8|       null|              3|5424| 1782|        0|          0|      3|          4|215|\n",
      "|    147|        8|        440|            323|5345| 1742|        0|          0|      3|          4|230|\n",
      "|    324|        4|        787|            408|  22| 1947|        1|          1|      4|          1| 66|\n",
      "|    304|        4|        757|            493|1615| 1852|        1|          1|      4|          2| 52|\n",
      "|    339|        4|        711|            422|1835|  199|        1|          1|      4|          1| 65|\n",
      "+-------+---------+-----------+---------------+----+-----+---------+-----------+-------+-----------+---+\n",
      "only showing top 20 rows\n",
      "\n"
     ]
    }
   ],
   "source": [
    "carros = spark.read.load(\"Material_do_Curso/CarrosNAN.csv\", format=\"csv\",\n",
    "                        sep=\";\", inferSchema=True, header=True)\n",
    "carros.show(20)"
   ]
  },
  {
   "cell_type": "markdown",
   "id": "f50c8a1f",
   "metadata": {
    "scrolled": false
   },
   "source": [
    "# Aplicando o Imputer"
   ]
  },
  {
   "cell_type": "code",
   "execution_count": 10,
   "id": "27860e9d",
   "metadata": {
    "scrolled": false
   },
   "outputs": [
    {
     "name": "stdout",
     "output_type": "stream",
     "text": [
      "+-----------+------------+----+-----+\n",
      "|Cilindradas|nCilindradas|Peso|nPeso|\n",
      "+-----------+------------+----+-----+\n",
      "|        160|         160| 262|  262|\n",
      "|       null|         848|2875| 2875|\n",
      "|        108|         108| 232|  232|\n",
      "|       null|         848|3215| 3215|\n",
      "|        360|         360|null| 1318|\n",
      "|        225|         225| 346|  346|\n",
      "|        360|         360| 357|  357|\n",
      "|       1467|        1467| 319|  319|\n",
      "|       1408|        1408| 315|  315|\n",
      "|       1676|        1676| 344|  344|\n",
      "|       1676|        1676|null| 1318|\n",
      "|       2758|        2758| 407|  407|\n",
      "|       2758|        2758| 373|  373|\n",
      "|       2758|        2758| 378|  378|\n",
      "|        472|         472| 525|  525|\n",
      "|       null|         848|5424| 5424|\n",
      "|        440|         440|5345| 5345|\n",
      "|        787|         787|  22|   22|\n",
      "|        757|         757|1615| 1615|\n",
      "|        711|         711|1835| 1835|\n",
      "+-----------+------------+----+-----+\n",
      "only showing top 20 rows\n",
      "\n"
     ]
    }
   ],
   "source": [
    "# INstanciando um Objeto, criando o modelo e aplicando a transformação dos dados\n",
    "imput = Imputer(inputCols=[\"Cilindradas\", \"Peso\"], outputCols=[\"nCilindradas\", \"nPeso\"])\n",
    "modelo = imput.fit(carros)\n",
    "carros = modelo.transform(carros)\n",
    "\n",
    "# Mostrando os dados antes de depois de aplica o Imputer\n",
    "carros.select(\"Cilindradas\", \"nCilindradas\", \"Peso\",\"nPeso\").show(20)"
   ]
  },
  {
   "cell_type": "markdown",
   "id": "60a28cf1",
   "metadata": {},
   "source": [
    "### Substituindo os valores zero pela mediana na coluna ***Cilindros***"
   ]
  },
  {
   "cell_type": "code",
   "execution_count": 12,
   "id": "a9511b5a",
   "metadata": {},
   "outputs": [
    {
     "name": "stdout",
     "output_type": "stream",
     "text": [
      "+---------+----------+\n",
      "|Cilindros|nCilindros|\n",
      "+---------+----------+\n",
      "|        6|         6|\n",
      "|        6|         6|\n",
      "|        0|         6|\n",
      "|        0|         6|\n",
      "|        0|         6|\n",
      "|        6|         6|\n",
      "|        8|         8|\n",
      "|        4|         4|\n",
      "|        4|         4|\n",
      "|        0|         6|\n",
      "|        6|         6|\n",
      "|        8|         8|\n",
      "|        8|         8|\n",
      "|        8|         8|\n",
      "|        8|         8|\n",
      "|        8|         8|\n",
      "|        8|         8|\n",
      "|        4|         4|\n",
      "|        4|         4|\n",
      "|        4|         4|\n",
      "+---------+----------+\n",
      "only showing top 20 rows\n",
      "\n"
     ]
    }
   ],
   "source": [
    "imput = Imputer(inputCols=[\"Cilindros\"], outputCols=[\"nCilindros\"])\n",
    "imput = imput.setStrategy(\"median\").setMissingValue(0).fit(carros)\n",
    "imput.transform(carros).select(\"Cilindros\", \"nCilindros\").show(20)\n"
   ]
  }
 ],
 "metadata": {
  "kernelspec": {
   "display_name": "Python 3 (ipykernel)",
   "language": "python",
   "name": "python3"
  },
  "language_info": {
   "codemirror_mode": {
    "name": "ipython",
    "version": 3
   },
   "file_extension": ".py",
   "mimetype": "text/x-python",
   "name": "python",
   "nbconvert_exporter": "python",
   "pygments_lexer": "ipython3",
   "version": "3.10.8"
  }
 },
 "nbformat": 4,
 "nbformat_minor": 5
}
