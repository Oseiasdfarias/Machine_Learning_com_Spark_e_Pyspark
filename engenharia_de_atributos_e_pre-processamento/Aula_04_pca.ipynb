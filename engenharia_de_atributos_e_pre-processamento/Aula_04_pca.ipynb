{
 "cells": [
  {
   "cell_type": "markdown",
   "id": "d86e46b6",
   "metadata": {},
   "source": [
    "# Geração de Características com PCA (Principal component analysis)\n",
    "### Inicializando o PySpark"
   ]
  },
  {
   "cell_type": "code",
   "execution_count": 19,
   "id": "c19921db",
   "metadata": {},
   "outputs": [],
   "source": [
    "import findspark\n",
    "import pyspark\n",
    "from pyspark.sql import SparkSession\n",
    "\n",
    "# Faz a Interafce entre o Spark e o Jupyter Notebook\n",
    "findspark.init()\n",
    "\n",
    "# Inicializando uma Sessão no Spark\n",
    "spark = SparkSession.builder.appName(\"pca\").getOrCreate()"
   ]
  },
  {
   "cell_type": "code",
   "execution_count": 20,
   "id": "5bb69d89",
   "metadata": {},
   "outputs": [],
   "source": [
    "from pyspark.ml.feature import PCA\n",
    "from pyspark.ml.feature import VectorAssembler"
   ]
  },
  {
   "cell_type": "markdown",
   "id": "5f90f19d",
   "metadata": {},
   "source": [
    "### Carregando a Base de Dados usado nesta Aula"
   ]
  },
  {
   "cell_type": "code",
   "execution_count": 21,
   "id": "fdb8799d",
   "metadata": {},
   "outputs": [
    {
     "name": "stdout",
     "output_type": "stream",
     "text": [
      "+-------+---------+-----------+---------------+----+-----+---------+-----------+-------+-----------+---+\n",
      "|Consumo|Cilindros|Cilindradas|RelEixoTraseiro|Peso|Tempo|TipoMotor|Transmissao|Marchas|Carburadors| HP|\n",
      "+-------+---------+-----------+---------------+----+-----+---------+-----------+-------+-----------+---+\n",
      "|     21|        6|        160|             39| 262| 1646|        0|          1|      4|          4|110|\n",
      "|     21|        6|        160|             39|2875| 1702|        0|          1|      4|          4|110|\n",
      "|    228|        4|        108|            385| 232| 1861|        1|          1|      4|          1| 93|\n",
      "|    214|        6|        258|            308|3215| 1944|        1|          0|      3|          1|110|\n",
      "|    187|        8|        360|            315| 344| 1702|        0|          0|      3|          2|175|\n",
      "+-------+---------+-----------+---------------+----+-----+---------+-----------+-------+-----------+---+\n",
      "only showing top 5 rows\n",
      "\n"
     ]
    }
   ],
   "source": [
    "carros = spark.read.csv(\"Material_do_Curso/Carros.csv\", header=True, inferSchema=True, sep=\";\")\n",
    "carros.show(5)"
   ]
  },
  {
   "cell_type": "markdown",
   "id": "2a43a1cc",
   "metadata": {},
   "source": [
    "# Vetorização de Atributos com VectorAssembler"
   ]
  },
  {
   "cell_type": "code",
   "execution_count": 22,
   "id": "9ec7bbae",
   "metadata": {},
   "outputs": [],
   "source": [
    "vector_assemb = VectorAssembler(inputCols=[\"Consumo\", \"Cilindros\", \"Cilindradas\",\n",
    "                                           \"RelEixoTraseiro\", \"Peso\", \"Tempo\", \"TipoMotor\",\n",
    "                                           \"Transmissao\", \"Marchas\", \"Carburadors\"], outputCol=\"caracteristicas\")\n",
    "carros = vector_assemb.transform(carros)"
   ]
  },
  {
   "cell_type": "code",
   "execution_count": 23,
   "id": "e4336956",
   "metadata": {
    "scrolled": false
   },
   "outputs": [
    {
     "name": "stdout",
     "output_type": "stream",
     "text": [
      "+-----------------------------------------------------+\n",
      "|caracteristicas                                      |\n",
      "+-----------------------------------------------------+\n",
      "|[21.0,6.0,160.0,39.0,262.0,1646.0,0.0,1.0,4.0,4.0]   |\n",
      "|[21.0,6.0,160.0,39.0,2875.0,1702.0,0.0,1.0,4.0,4.0]  |\n",
      "|[228.0,4.0,108.0,385.0,232.0,1861.0,1.0,1.0,4.0,1.0] |\n",
      "|[214.0,6.0,258.0,308.0,3215.0,1944.0,1.0,0.0,3.0,1.0]|\n",
      "|[187.0,8.0,360.0,315.0,344.0,1702.0,0.0,0.0,3.0,2.0] |\n",
      "|[181.0,6.0,225.0,276.0,346.0,2022.0,1.0,0.0,3.0,1.0] |\n",
      "|[143.0,8.0,360.0,321.0,357.0,1584.0,0.0,0.0,3.0,4.0] |\n",
      "|[244.0,4.0,1467.0,369.0,319.0,20.0,1.0,0.0,4.0,2.0]  |\n",
      "|[228.0,4.0,1408.0,392.0,315.0,229.0,1.0,0.0,4.0,2.0] |\n",
      "|[192.0,6.0,1676.0,392.0,344.0,183.0,1.0,0.0,4.0,4.0] |\n",
      "|[178.0,6.0,1676.0,392.0,344.0,189.0,1.0,0.0,4.0,4.0] |\n",
      "|[164.0,8.0,2758.0,307.0,407.0,174.0,0.0,0.0,3.0,3.0] |\n",
      "|[173.0,8.0,2758.0,307.0,373.0,176.0,0.0,0.0,3.0,3.0] |\n",
      "|[152.0,8.0,2758.0,307.0,378.0,18.0,0.0,0.0,3.0,3.0]  |\n",
      "|[104.0,8.0,472.0,293.0,525.0,1798.0,0.0,0.0,3.0,4.0] |\n",
      "|[104.0,8.0,460.0,3.0,5424.0,1782.0,0.0,0.0,3.0,4.0]  |\n",
      "|[147.0,8.0,440.0,323.0,5345.0,1742.0,0.0,0.0,3.0,4.0]|\n",
      "|[324.0,4.0,787.0,408.0,22.0,1947.0,1.0,1.0,4.0,1.0]  |\n",
      "|[304.0,4.0,757.0,493.0,1615.0,1852.0,1.0,1.0,4.0,2.0]|\n",
      "|[339.0,4.0,711.0,422.0,1835.0,199.0,1.0,1.0,4.0,1.0] |\n",
      "+-----------------------------------------------------+\n",
      "only showing top 20 rows\n",
      "\n"
     ]
    }
   ],
   "source": [
    "carros.select(\"caracteristicas\").show(truncate=False)"
   ]
  },
  {
   "cell_type": "markdown",
   "id": "9f707705",
   "metadata": {},
   "source": [
    "### Aplicando o PCA no DataFrame gerado pelo VectorAssembler"
   ]
  },
  {
   "cell_type": "code",
   "execution_count": 24,
   "id": "accf776d",
   "metadata": {},
   "outputs": [],
   "source": [
    "pca = PCA(k=3, inputCol=\"caracteristicas\", outputCol=\"caracteristicas_pca\")\n",
    "modelo = pca.fit(carros)"
   ]
  },
  {
   "cell_type": "code",
   "execution_count": 25,
   "id": "97607432",
   "metadata": {},
   "outputs": [
    {
     "name": "stderr",
     "output_type": "stream",
     "text": [
      "\r",
      "[Stage 26:>                                                         (0 + 1) / 1]\r"
     ]
    },
    {
     "name": "stdout",
     "output_type": "stream",
     "text": [
      "+-----------------------------------------------------------+\n",
      "|caracteristicas_pca                                        |\n",
      "+-----------------------------------------------------------+\n",
      "|[618.7707206779614,-937.712394997354,1231.9633529945509]   |\n",
      "|[3112.9887675342206,-161.05746385491523,1191.861991305438] |\n",
      "|[640.4959007710695,-1120.7188865110418,1320.0756315189049] |\n",
      "|[3466.0956877556678,-149.69421418298342,1401.2041780368531]|\n",
      "|[661.4577445758732,-812.4592128844115,1395.2949328316356]  |\n",
      "|[769.234367178774,-1120.4160559477316,1518.7436632279525]  |\n",
      "|[644.8369503533214,-727.9539376169615,1313.681521097935]   |\n",
      "|[9.101880661709801,1061.295403667789,1045.1710500215693]   |\n",
      "|[67.13360966508397,878.479368204501,1143.9379120496164]    |\n",
      "|[31.390504477140617,1095.3694498285743,1306.0124861906327] |\n",
      "|[32.89165922208959,1091.1521230845228,1310.0881577350906]  |\n",
      "|[-118.37273751675397,1832.771927405815,2088.6955393326043] |\n",
      "|[-150.18148405358022,1820.8730926512776,2091.1033550766124]|\n",
      "|[-184.02684680334363,1930.3231940423877,1982.8031901298746]|\n",
      "|[835.9451693278469,-748.8857628718292,1538.088953784914]   |\n",
      "|[5495.038233422231,777.0454947426246,1390.349383434824]    |\n",
      "|[5402.955892349916,772.4728618077414,1330.0311995807017]   |\n",
      "|[329.12434485652096,-796.2299760858442,1876.6906247404202] |\n",
      "|[1821.0609870602007,-252.89066020520687,1736.5182284793484]|\n",
      "|[1636.9493562944253,914.9927770681531,570.2389907310254]   |\n",
      "+-----------------------------------------------------------+\n",
      "only showing top 20 rows\n",
      "\n"
     ]
    },
    {
     "name": "stderr",
     "output_type": "stream",
     "text": [
      "\r",
      "                                                                                \r"
     ]
    }
   ],
   "source": [
    "resultado = modelo.transform(carros)\n",
    "resultado.select(\"caracteristicas_pca\").show(truncate=False)"
   ]
  }
 ],
 "metadata": {
  "kernelspec": {
   "display_name": "Python 3 (ipykernel)",
   "language": "python",
   "name": "python3"
  },
  "language_info": {
   "codemirror_mode": {
    "name": "ipython",
    "version": 3
   },
   "file_extension": ".py",
   "mimetype": "text/x-python",
   "name": "python",
   "nbconvert_exporter": "python",
   "pygments_lexer": "ipython3",
   "version": "3.10.8"
  }
 },
 "nbformat": 4,
 "nbformat_minor": 5
}
