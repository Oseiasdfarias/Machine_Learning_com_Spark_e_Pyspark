{
 "cells": [
  {
   "cell_type": "markdown",
   "id": "d86e46b6",
   "metadata": {},
   "source": [
    "#  Seleção de Atributos com ChiSqSelector (qui-quadrado)\n",
    "### Inicializando o PySpark"
   ]
  },
  {
   "cell_type": "code",
   "execution_count": 14,
   "id": "c19921db",
   "metadata": {},
   "outputs": [],
   "source": [
    "import findspark\n",
    "import pyspark\n",
    "from pyspark.sql import SparkSession\n",
    "\n",
    "# Faz a Interafce entre o Spark e o Jupyter Notebook\n",
    "findspark.init()\n",
    "\n",
    "# Inicializando uma Sessão no Spark\n",
    "spark = SparkSession.builder.appName(\"ChiSqSelector\").getOrCreate()"
   ]
  },
  {
   "cell_type": "markdown",
   "id": "5f90f19d",
   "metadata": {},
   "source": [
    "### Carregando a Base de Dados usado nesta Aula"
   ]
  },
  {
   "cell_type": "code",
   "execution_count": 15,
   "id": "baeae954",
   "metadata": {},
   "outputs": [
    {
     "name": "stdout",
     "output_type": "stream",
     "text": [
      "+-------+---------+-----------+---------------+----+-----+---------+-----------+-------+-----------+---+\n",
      "|Consumo|Cilindros|Cilindradas|RelEixoTraseiro|Peso|Tempo|TipoMotor|Transmissao|Marchas|Carburadors| HP|\n",
      "+-------+---------+-----------+---------------+----+-----+---------+-----------+-------+-----------+---+\n",
      "|     21|        6|        160|             39| 262| 1646|        0|          1|      4|          4|110|\n",
      "|     21|        6|        160|             39|2875| 1702|        0|          1|      4|          4|110|\n",
      "|    228|        4|        108|            385| 232| 1861|        1|          1|      4|          1| 93|\n",
      "|    214|        6|        258|            308|3215| 1944|        1|          0|      3|          1|110|\n",
      "|    187|        8|        360|            315| 344| 1702|        0|          0|      3|          2|175|\n",
      "+-------+---------+-----------+---------------+----+-----+---------+-----------+-------+-----------+---+\n",
      "only showing top 5 rows\n",
      "\n"
     ]
    }
   ],
   "source": [
    "carros = spark.read.load(\"../Material_do_Curso/Carros.csv\", format=\"csv\",\n",
    "                        sep=\";\", inferSchema=True, header=True)\n",
    "carros.show(5)"
   ]
  },
  {
   "cell_type": "markdown",
   "id": "3f30903c",
   "metadata": {},
   "source": [
    "---\n",
    "\n",
    "### Aplicando o RFurmula ao Conjunto de Dados Carros "
   ]
  },
  {
   "cell_type": "code",
   "execution_count": 16,
   "id": "29e9277c",
   "metadata": {},
   "outputs": [],
   "source": [
    "from pyspark.ml.feature import RFormula"
   ]
  },
  {
   "cell_type": "code",
   "execution_count": 17,
   "id": "1847480d",
   "metadata": {
    "scrolled": false
   },
   "outputs": [
    {
     "name": "stdout",
     "output_type": "stream",
     "text": [
      "+-----------------------------------------------------+----------+\n",
      "|independente                                         |dependente|\n",
      "+-----------------------------------------------------+----------+\n",
      "|[21.0,6.0,160.0,39.0,262.0,1646.0,0.0,1.0,4.0,4.0]   |110.0     |\n",
      "|[21.0,6.0,160.0,39.0,2875.0,1702.0,0.0,1.0,4.0,4.0]  |110.0     |\n",
      "|[228.0,4.0,108.0,385.0,232.0,1861.0,1.0,1.0,4.0,1.0] |93.0      |\n",
      "|[214.0,6.0,258.0,308.0,3215.0,1944.0,1.0,0.0,3.0,1.0]|110.0     |\n",
      "|[187.0,8.0,360.0,315.0,344.0,1702.0,0.0,0.0,3.0,2.0] |175.0     |\n",
      "|[181.0,6.0,225.0,276.0,346.0,2022.0,1.0,0.0,3.0,1.0] |105.0     |\n",
      "|[143.0,8.0,360.0,321.0,357.0,1584.0,0.0,0.0,3.0,4.0] |245.0     |\n",
      "|[244.0,4.0,1467.0,369.0,319.0,20.0,1.0,0.0,4.0,2.0]  |62.0      |\n",
      "|[228.0,4.0,1408.0,392.0,315.0,229.0,1.0,0.0,4.0,2.0] |95.0      |\n",
      "|[192.0,6.0,1676.0,392.0,344.0,183.0,1.0,0.0,4.0,4.0] |123.0     |\n",
      "+-----------------------------------------------------+----------+\n",
      "only showing top 10 rows\n",
      "\n"
     ]
    }
   ],
   "source": [
    "# Instanciando um Objeto RFormula e aplicando a transformação dos dados\n",
    "rformula = RFormula(formula=\"HP ~ .\",\n",
    "                    featuresCol=\"independente\", labelCol=\"dependente\")\n",
    "carros_rf = rformula.fit(carros).transform(carros)\n",
    "carros_rf.select(\"independente\", \"dependente\").show(10, truncate=False)"
   ]
  },
  {
   "cell_type": "markdown",
   "id": "9b3b04f6",
   "metadata": {},
   "source": [
    "---\n",
    "\n",
    "# Realizando a Seleção de Atributos com ChiSqSelector\n",
    "\n",
    "Seleção de atributos: técnica de engenharia de atributos que busca melhorar a performance do modelo através da\n",
    "seleção de um subconjunto de atributos mais relevantes para prever a classe.\n",
    "\n",
    "Usa o teste de independência do qui-quadrado para selecionar os atributos.\n",
    "\n",
    "Recebe uma coluna com um vetor de atributos e produz uma coluna com um vetor de atributos mais relevantes\n",
    "\n",
    "Parâmetros:\n",
    "\n",
    "> + **percentile**: percentual de atributos que devem ser selecionados. Padrão 0.1\n",
    "> + **fpr e fwe**: seleciona atributos que os valores- p estejam abaixo de um parâmetro. Padrão 0.05\n",
    "> + **fdr**: aplica o critério de FDR (False Discovery Rate) . Padrão 0.05\n",
    "\n",
    "\n"
   ]
  },
  {
   "cell_type": "code",
   "execution_count": 18,
   "id": "974506ad",
   "metadata": {},
   "outputs": [],
   "source": [
    "from pyspark.ml.feature import ChiSqSelector"
   ]
  },
  {
   "cell_type": "markdown",
   "id": "cb1e7aae",
   "metadata": {},
   "source": [
    "#### Usando o Parâmetro  ***fdr = 0.01***"
   ]
  },
  {
   "cell_type": "code",
   "execution_count": 24,
   "id": "f20672fe",
   "metadata": {
    "scrolled": true
   },
   "outputs": [
    {
     "name": "stdout",
     "output_type": "stream",
     "text": [
      "+--------------+\n",
      "|selecionados  |\n",
      "+--------------+\n",
      "|[160.0,39.0]  |\n",
      "|[160.0,39.0]  |\n",
      "|[108.0,385.0] |\n",
      "|[258.0,308.0] |\n",
      "|[360.0,315.0] |\n",
      "|[225.0,276.0] |\n",
      "|[360.0,321.0] |\n",
      "|[1467.0,369.0]|\n",
      "|[1408.0,392.0]|\n",
      "|[1676.0,392.0]|\n",
      "+--------------+\n",
      "only showing top 10 rows\n",
      "\n"
     ]
    }
   ],
   "source": [
    "selector = ChiSqSelector(selectorType=\"fdr\", fdr=0.01, featuresCol=\"independente\",\n",
    "                        outputCol=\"selecionados\", labelCol=\"dependente\")\n",
    "carros_cs = selector.fit(carros_rf).transform(carros_rf)\n",
    "carros_cs.select(\"selecionados\").show(10, truncate=False)"
   ]
  },
  {
   "cell_type": "markdown",
   "id": "839ad5ef",
   "metadata": {},
   "source": [
    "#### Usando o Parâmetro  ***numTopFeatures = 2***"
   ]
  },
  {
   "cell_type": "code",
   "execution_count": 23,
   "id": "3c42c20c",
   "metadata": {
    "scrolled": false
   },
   "outputs": [
    {
     "name": "stdout",
     "output_type": "stream",
     "text": [
      "+----------------------+\n",
      "|selecionados          |\n",
      "+----------------------+\n",
      "|[6.0,160.0,39.0,4.0]  |\n",
      "|[6.0,160.0,39.0,4.0]  |\n",
      "|[4.0,108.0,385.0,1.0] |\n",
      "|[6.0,258.0,308.0,1.0] |\n",
      "|[8.0,360.0,315.0,2.0] |\n",
      "|[6.0,225.0,276.0,1.0] |\n",
      "|[8.0,360.0,321.0,4.0] |\n",
      "|[4.0,1467.0,369.0,2.0]|\n",
      "|[4.0,1408.0,392.0,2.0]|\n",
      "|[6.0,1676.0,392.0,4.0]|\n",
      "+----------------------+\n",
      "only showing top 10 rows\n",
      "\n"
     ]
    }
   ],
   "source": [
    "selector = ChiSqSelector(selectorType=\"numTopFeatures\", numTopFeatures=4, featuresCol=\"independente\",\n",
    "                        outputCol=\"selecionados\", labelCol=\"dependente\")\n",
    "carros_cs = selector.fit(carros_rf).transform(carros_rf)\n",
    "carros_cs.select(\"selecionados\").show(10, truncate=False)"
   ]
  },
  {
   "cell_type": "markdown",
   "id": "b68ef571",
   "metadata": {},
   "source": [
    "---\n",
    "\n",
    "# Seleção de Atributos com UnivariateFeatureSelector\n",
    "\n",
    "Seleção de atributos\n",
    "\n",
    "Você pode definir os tipos de atributos das variáveis dependentes e independentes que quer\n",
    "usar (categórico ou contínuo)\n",
    "\n",
    "De acordo com a definição, o Spark usa uma técnica de seleção de atributos\n",
    "\n",
    "**Parâmetros**\n",
    "\n",
    "> + **featureType**: Tipo das características, pode ser categorical ou continuous\n",
    "> + **labelType**: Tipo da classe. pode ser categorical ou continuous\n",
    "> + **selectionThreshold**: Limite máximo de características que serão selecionadas.\n",
    "\n",
    "\n"
   ]
  },
  {
   "cell_type": "code",
   "execution_count": 25,
   "id": "bea75ed3",
   "metadata": {},
   "outputs": [],
   "source": [
    "from pyspark.ml.feature import UnivariateFeatureSelector"
   ]
  },
  {
   "cell_type": "code",
   "execution_count": 27,
   "id": "b17e37ff",
   "metadata": {},
   "outputs": [
    {
     "name": "stderr",
     "output_type": "stream",
     "text": [
      "                                                                                \r"
     ]
    },
    {
     "name": "stdout",
     "output_type": "stream",
     "text": [
      "+-----------------------+\n",
      "|selecionados_uni_var   |\n",
      "+-----------------------+\n",
      "|[21.0,6.0,0.0,1.0,4.0] |\n",
      "|[21.0,6.0,0.0,1.0,4.0] |\n",
      "|[228.0,4.0,1.0,1.0,1.0]|\n",
      "|[214.0,6.0,1.0,0.0,1.0]|\n",
      "|[187.0,8.0,0.0,0.0,2.0]|\n",
      "|[181.0,6.0,1.0,0.0,1.0]|\n",
      "|[143.0,8.0,0.0,0.0,4.0]|\n",
      "|[244.0,4.0,1.0,0.0,2.0]|\n",
      "|[228.0,4.0,1.0,0.0,2.0]|\n",
      "|[192.0,6.0,1.0,0.0,4.0]|\n",
      "+-----------------------+\n",
      "only showing top 10 rows\n",
      "\n"
     ]
    }
   ],
   "source": [
    "selector_uni_var = UnivariateFeatureSelector(featuresCol=\"independente\",\n",
    "                                             outputCol=\"selecionados_uni_var\",\n",
    "                                            labelCol=\"dependente\")\n",
    "selector_uni_var.setFeatureType(\"continuous\").setLabelType(\"continuous\").setSelectionThreshold(5)\n",
    "carros_univar = selector_uni_var.fit(carros_rf).transform(carros_rf)\n",
    "carros_univar.select(\"selecionados_uni_var\").show(10, truncate=False)"
   ]
  }
 ],
 "metadata": {
  "kernelspec": {
   "display_name": "Python 3 (ipykernel)",
   "language": "python",
   "name": "python3"
  },
  "language_info": {
   "codemirror_mode": {
    "name": "ipython",
    "version": 3
   },
   "file_extension": ".py",
   "mimetype": "text/x-python",
   "name": "python",
   "nbconvert_exporter": "python",
   "pygments_lexer": "ipython3",
   "version": "3.10.8"
  }
 },
 "nbformat": 4,
 "nbformat_minor": 5
}
