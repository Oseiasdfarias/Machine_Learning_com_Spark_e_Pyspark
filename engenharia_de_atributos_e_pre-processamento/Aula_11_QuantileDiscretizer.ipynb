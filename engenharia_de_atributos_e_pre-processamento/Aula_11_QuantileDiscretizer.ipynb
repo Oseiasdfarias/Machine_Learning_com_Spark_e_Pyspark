{
 "cells": [
  {
   "cell_type": "markdown",
   "id": "d86e46b6",
   "metadata": {},
   "source": [
    "#  Discretização de Dados com QuantileDiscretizer\n",
    "### Inicializando o PySpark"
   ]
  },
  {
   "cell_type": "code",
   "execution_count": 10,
   "id": "c19921db",
   "metadata": {},
   "outputs": [],
   "source": [
    "import findspark\n",
    "import pyspark\n",
    "from pyspark.sql import SparkSession\n",
    "\n",
    "# Faz a Interafce entre o Spark e o Jupyter Notebook\n",
    "findspark.init()\n",
    "\n",
    "# Inicializando uma Sessão no Spark\n",
    "spark = SparkSession.builder.appName(\"QuantileDiscretizer\").getOrCreate()"
   ]
  },
  {
   "cell_type": "markdown",
   "id": "5f90f19d",
   "metadata": {},
   "source": [
    "### Carregando a Base de Dados usado nesta Aula"
   ]
  },
  {
   "cell_type": "code",
   "execution_count": 13,
   "id": "baeae954",
   "metadata": {},
   "outputs": [
    {
     "name": "stderr",
     "output_type": "stream",
     "text": [
      "\r",
      "[Stage 8:>                                                          (0 + 1) / 1]\r",
      "\r",
      "                                                                                \r"
     ]
    },
    {
     "name": "stdout",
     "output_type": "stream",
     "text": [
      "+-----------+---------+------+---+------+--------+-------------+---------+--------------+---------------+------+\n",
      "|CreditScore|Geography|Gender|Age|Tenure| Balance|NumOfProducts|HasCrCard|IsActiveMember|EstimatedSalary|Exited|\n",
      "+-----------+---------+------+---+------+--------+-------------+---------+--------------+---------------+------+\n",
      "|        619|   France|Female| 42|     2|       0|            1|        1|             1|       10134888|     1|\n",
      "|        608|    Spain|Female| 41|     1| 8380786|            1|        0|             1|       11254258|     0|\n",
      "|        502|   France|Female| 42|     8| 1596608|            3|        1|             0|       11393157|     1|\n",
      "|        699|   France|Female| 39|     1|       0|            2|        0|             0|        9382663|     0|\n",
      "|        850|    Spain|Female| 43|     2|12551082|            1|        1|             1|         790841|     0|\n",
      "+-----------+---------+------+---+------+--------+-------------+---------+--------------+---------------+------+\n",
      "only showing top 5 rows\n",
      "\n"
     ]
    }
   ],
   "source": [
    "churn = spark.read.load(\"Material_do_Curso/Churn.csv\", format=\"csv\",\n",
    "                        sep=\";\", inferSchema=True, header=True)\n",
    "churn.show(5)"
   ]
  },
  {
   "cell_type": "markdown",
   "id": "3f30903c",
   "metadata": {},
   "source": [
    "### Discretizando com QuantileDiscretizer"
   ]
  },
  {
   "cell_type": "code",
   "execution_count": 14,
   "id": "29e9277c",
   "metadata": {},
   "outputs": [],
   "source": [
    "from pyspark.ml.feature import QuantileDiscretizer"
   ]
  },
  {
   "cell_type": "code",
   "execution_count": 15,
   "id": "1847480d",
   "metadata": {},
   "outputs": [
    {
     "name": "stderr",
     "output_type": "stream",
     "text": [
      "                                                                                \r"
     ]
    },
    {
     "name": "stdout",
     "output_type": "stream",
     "text": [
      "+------+-------+\n",
      "|Tenure|discret|\n",
      "+------+-------+\n",
      "|     2|    1.0|\n",
      "|     1|    0.0|\n",
      "|     8|    3.0|\n",
      "|     1|    0.0|\n",
      "|     2|    1.0|\n",
      "|     8|    3.0|\n",
      "|     7|    3.0|\n",
      "|     4|    1.0|\n",
      "|     4|    1.0|\n",
      "|     2|    1.0|\n",
      "|     6|    2.0|\n",
      "|     3|    1.0|\n",
      "|    10|    3.0|\n",
      "|     5|    2.0|\n",
      "|     7|    3.0|\n",
      "|     3|    1.0|\n",
      "|     1|    0.0|\n",
      "|     9|    3.0|\n",
      "|     6|    2.0|\n",
      "|     6|    2.0|\n",
      "+------+-------+\n",
      "only showing top 20 rows\n",
      "\n"
     ]
    }
   ],
   "source": [
    "# Instanciando um Objeto PolynomialExpansion e aplicando a transformação dos dados\n",
    "discret = QuantileDiscretizer(numBuckets=4, inputCol=\"Tenure\", outputCol=\"discret\")\n",
    "despac_disc = discret.fit(churn).transform(churn)\n",
    "despac_disc.select(\"Tenure\", \"discret\").show()"
   ]
  }
 ],
 "metadata": {
  "kernelspec": {
   "display_name": "Python 3 (ipykernel)",
   "language": "python",
   "name": "python3"
  },
  "language_info": {
   "codemirror_mode": {
    "name": "ipython",
    "version": 3
   },
   "file_extension": ".py",
   "mimetype": "text/x-python",
   "name": "python",
   "nbconvert_exporter": "python",
   "pygments_lexer": "ipython3",
   "version": "3.10.8"
  }
 },
 "nbformat": 4,
 "nbformat_minor": 5
}
