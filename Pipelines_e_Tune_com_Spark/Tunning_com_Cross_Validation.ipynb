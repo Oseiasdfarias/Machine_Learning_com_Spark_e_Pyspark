{
 "cells": [
  {
   "cell_type": "markdown",
   "id": "c64e677e",
   "metadata": {},
   "source": [
    "<center> <h1 style=\"background-color:seagreen; color:white\" >Construindo Pipelines e Ajuste com Cross-Validation com Spark</h1></center>  \n",
    "\n",
    "**Ajuste de Hiper Parâmetros:**\n",
    "\n",
    "> + Um classificador pode ter diversos hiper parâmetros\n",
    "> + A configuração dos hiper parâmetros as vezes não é intuitiva e nem “cientifica”\n",
    "> + A combinação de muitos hiper parâmetros pode ser gigantesca\n",
    "> + Inviável testar manualmente todas as combinações\n",
    "\n",
    "> + Spark facilita o teste de diferentes hiper parâmetros\n",
    "> + Você pode testar diferentes configurações para todo o Pipeline\n",
    "> + ParamGridBuilder: você configura quais parâmetros e quais domínios quer testar\n",
    "> + Utiliza Cross-Validation ou Train-Validation Split\n",
    "\n",
    "\n",
    "<center> <h2 style=\"background-color:DarkKhaki; color:white\" >Inicializando o PySpark</h2></center> "
   ]
  },
  {
   "cell_type": "code",
   "execution_count": 3,
   "id": "3ecfeb6e",
   "metadata": {},
   "outputs": [],
   "source": [
    "import findspark\n",
    "import pyspark\n",
    "from pyspark.sql import SparkSession\n",
    "\n",
    "# Faz a Interafce entre o Spark e o Jupyter Notebook\n",
    "findspark.init()\n",
    "\n",
    "# Inicializando uma Sessão no Spark\n",
    "spark = SparkSession.builder.appName(\"Pepilines_tune\").getOrCreate()"
   ]
  },
  {
   "cell_type": "markdown",
   "id": "c2dcc5fc",
   "metadata": {},
   "source": [
    "---\n",
    "\n",
    "<center> <h1 style=\"background-color:seagreen; color:white\" >Construindo Pipelines com Spark com Multi Layers Perceptron usando o DataSet Íris</h1></center>\n",
    "\n"
   ]
  },
  {
   "cell_type": "markdown",
   "id": "85f45af4",
   "metadata": {},
   "source": [
    "\n",
    "<center> <h2 style=\"background-color:DarkKhaki; color:white\" >Carregando o Cunjunto de Dados Íris</h2></center> "
   ]
  },
  {
   "cell_type": "code",
   "execution_count": 4,
   "id": "a673a559",
   "metadata": {
    "scrolled": true
   },
   "outputs": [
    {
     "name": "stdout",
     "output_type": "stream",
     "text": [
      "+-----------+----------+-----------+----------+-----------+\n",
      "|sepallength|sepalwidth|petallength|petalwidth|      class|\n",
      "+-----------+----------+-----------+----------+-----------+\n",
      "|        5.1|       3.5|        1.4|       0.2|Iris-setosa|\n",
      "|        4.9|       3.0|        1.4|       0.2|Iris-setosa|\n",
      "|        4.7|       3.2|        1.3|       0.2|Iris-setosa|\n",
      "|        4.6|       3.1|        1.5|       0.2|Iris-setosa|\n",
      "|        5.0|       3.6|        1.4|       0.2|Iris-setosa|\n",
      "+-----------+----------+-----------+----------+-----------+\n",
      "only showing top 5 rows\n",
      "\n"
     ]
    }
   ],
   "source": [
    "iris = spark.read.csv(\"../Material_do_Curso/iris.csv\", header=True, inferSchema=True, sep=\",\")\n",
    "iris.show(5)"
   ]
  },
  {
   "cell_type": "markdown",
   "id": "3470f072",
   "metadata": {},
   "source": [
    "<center> <h2 style=\"background-color:DarkKhaki; color:white\" >Separando os dados entre conjunto de traino e teste</h2></center> "
   ]
  },
  {
   "cell_type": "code",
   "execution_count": 5,
   "id": "18583eaa",
   "metadata": {},
   "outputs": [],
   "source": [
    "iris_train, iris_test = iris.randomSplit([0.8, 0.2])"
   ]
  },
  {
   "cell_type": "markdown",
   "id": "b063d5b8",
   "metadata": {},
   "source": [
    "\n",
    "<center> <h3 style=\"background-color:#ECF7AE; color:#3F403D\" >Colocando os dados no formato aceito pelo Spark</h3></center>"
   ]
  },
  {
   "cell_type": "code",
   "execution_count": 10,
   "id": "0a9388d6",
   "metadata": {},
   "outputs": [],
   "source": [
    "from pyspark.ml.feature import VectorAssembler"
   ]
  },
  {
   "cell_type": "code",
   "execution_count": 11,
   "id": "06b2cd13",
   "metadata": {},
   "outputs": [],
   "source": [
    "vector = VectorAssembler(inputCols=[\"sepallength\", \"sepalwidth\",\n",
    "                                    \"petallength\", \"petalwidth\"], outputCol=\"independente\")"
   ]
  },
  {
   "cell_type": "markdown",
   "id": "270fd685",
   "metadata": {},
   "source": [
    "\n",
    "<center> <h3 style=\"background-color:#ECF7AE; color:#3F403D\" >Convertendo um tipo categórico em numérico com StringIndexer</center>"
   ]
  },
  {
   "cell_type": "code",
   "execution_count": 12,
   "id": "84302b5d",
   "metadata": {},
   "outputs": [],
   "source": [
    "from pyspark.ml.feature import StringIndexer\n",
    "\n",
    "indexer = StringIndexer(inputCol=\"class\", outputCol=\"label\")"
   ]
  },
  {
   "cell_type": "markdown",
   "id": "7f6b5bf6",
   "metadata": {},
   "source": [
    "---\n",
    "\n",
    "<center> <h2 style=\"background-color:DarkKhaki; color:white\" >Importação do Módulo do PySpark Para Criação do Modelo de Rde Neural Artificial</h2></center>"
   ]
  },
  {
   "cell_type": "code",
   "execution_count": 13,
   "id": "81b15be7",
   "metadata": {},
   "outputs": [],
   "source": [
    "from pyspark.ml.classification import MultilayerPerceptronClassifier\n",
    "\n",
    "mlp = MultilayerPerceptronClassifier(maxIter=100, layers=[4, 5, 4, 3],\n",
    "                                     featuresCol=\"independente\", labelCol=\"label\")"
   ]
  },
  {
   "cell_type": "markdown",
   "id": "01232e6e",
   "metadata": {},
   "source": [
    "---\n",
    "\n",
    "<center> <h1 style=\"background-color:seagreen; color:white\" >Criando o Pipeline e Aplicando Cross-Validation</h1></center> \n",
    "\n",
    " #### Cross-Validation\n",
    "> + Divide os dados de treino em partições (folds) que são usadas para treino (2/3 dos dados) e teste (1/3 dos dados)\n",
    "> + 3 Partições = 3 conjuntos de treino e 3 de teste\n",
    "> + As partições são treinadas e testadas nos domínios do grid de hiper parâmetros fornecido\n",
    "> + Quando encontrar o melhor conjunto de hiper parâmetros, ele novamente cria o modelo usando todos os dados de treino\n",
    "\n",
    "\n",
    "<br>\n",
    "\n"
   ]
  },
  {
   "cell_type": "code",
   "execution_count": 14,
   "id": "c5238a07",
   "metadata": {},
   "outputs": [],
   "source": [
    "from pyspark.ml import Pipeline"
   ]
  },
  {
   "cell_type": "code",
   "execution_count": 15,
   "id": "c00cabd8",
   "metadata": {},
   "outputs": [],
   "source": [
    "pipeline = Pipeline(stages=[vector, indexer, mlp])"
   ]
  },
  {
   "cell_type": "markdown",
   "id": "b683bfa7",
   "metadata": {},
   "source": [
    "\n",
    "<center> <h3 style=\"background-color:#ECF7AE; color:#3F403D\" >Aplicando o Cross-Validation</center>"
   ]
  },
  {
   "cell_type": "code",
   "execution_count": 17,
   "id": "e0597e8b",
   "metadata": {},
   "outputs": [],
   "source": [
    "from pyspark.ml.tuning import CrossValidator, ParamGridBuilder\n",
    "from pyspark.ml.evaluation import MulticlassClassificationEvaluator"
   ]
  },
  {
   "cell_type": "code",
   "execution_count": 18,
   "id": "30a2e94b",
   "metadata": {},
   "outputs": [],
   "source": [
    "performace = MulticlassClassificationEvaluator(labelCol=\"label\", metricName=\"accuracy\")\n",
    "grid = ParamGridBuilder().addGrid(mlp.maxIter, [10, 100, 1000])\n",
    "grid = grid.addGrid(mlp.layers, [[4, 5, 4, 3], [4, 4, 3]])\n",
    "grid = grid.build()\n",
    "\n",
    "crossval = CrossValidator(estimator=pipeline,\n",
    "                          estimatorParamMaps=grid,\n",
    "                          evaluator=performace,\n",
    "                          numFolds=3)"
   ]
  },
  {
   "cell_type": "markdown",
   "id": "d7db3d65",
   "metadata": {},
   "source": [
    "<center> <h3 style=\"background-color:#ECF7AE; color:#3F403D\" >Executando o Pipiline com o Tune do Modelo</center>"
   ]
  },
  {
   "cell_type": "code",
   "execution_count": 19,
   "id": "d1c7c30a",
   "metadata": {
    "collapsed": true
   },
   "outputs": [
    {
     "name": "stderr",
     "output_type": "stream",
     "text": [
      "                                                                                \r"
     ]
    },
    {
     "name": "stdout",
     "output_type": "stream",
     "text": [
      "23/03/05 22:54:44 ERROR StrongWolfeLineSearch: Encountered bad values in function evaluation. Decreasing step size to 0.5\n",
      "23/03/05 22:54:45 ERROR StrongWolfeLineSearch: Encountered bad values in function evaluation. Decreasing step size to 0.5\n",
      "23/03/05 22:54:45 ERROR StrongWolfeLineSearch: Encountered bad values in function evaluation. Decreasing step size to 0.5\n",
      "23/03/05 22:54:45 ERROR StrongWolfeLineSearch: Encountered bad values in function evaluation. Decreasing step size to 0.25\n",
      "23/03/05 22:54:45 ERROR StrongWolfeLineSearch: Encountered bad values in function evaluation. Decreasing step size to 0.125\n",
      "23/03/05 22:54:45 ERROR StrongWolfeLineSearch: Encountered bad values in function evaluation. Decreasing step size to 0.09375\n",
      "23/03/05 22:54:45 ERROR LBFGS: Failure! Resetting history: breeze.optimize.FirstOrderException: Line search zoom failed\n",
      "23/03/05 22:54:55 ERROR StrongWolfeLineSearch: Encountered bad values in function evaluation. Decreasing step size to 0.5\n",
      "23/03/05 22:54:56 ERROR StrongWolfeLineSearch: Encountered bad values in function evaluation. Decreasing step size to 0.5\n",
      "23/03/05 22:54:57 ERROR StrongWolfeLineSearch: Encountered bad values in function evaluation. Decreasing step size to 0.5\n",
      "23/03/05 22:54:57 ERROR StrongWolfeLineSearch: Encountered bad values in function evaluation. Decreasing step size to 0.5\n",
      "23/03/05 22:54:57 ERROR StrongWolfeLineSearch: Encountered bad values in function evaluation. Decreasing step size to 0.25\n",
      "23/03/05 22:54:57 ERROR StrongWolfeLineSearch: Encountered bad values in function evaluation. Decreasing step size to 0.5\n",
      "23/03/05 22:54:57 ERROR StrongWolfeLineSearch: Encountered bad values in function evaluation. Decreasing step size to 0.25\n",
      "23/03/05 22:54:57 ERROR StrongWolfeLineSearch: Encountered bad values in function evaluation. Decreasing step size to 0.125\n",
      "23/03/05 22:54:57 ERROR StrongWolfeLineSearch: Encountered bad values in function evaluation. Decreasing step size to 0.0625\n",
      "23/03/05 22:54:58 ERROR StrongWolfeLineSearch: Encountered bad values in function evaluation. Decreasing step size to 0.03125\n",
      "23/03/05 22:54:58 ERROR StrongWolfeLineSearch: Encountered bad values in function evaluation. Decreasing step size to 0.015625\n",
      "23/03/05 22:54:58 ERROR StrongWolfeLineSearch: Encountered bad values in function evaluation. Decreasing step size to 0.01171875\n",
      "23/03/05 22:54:59 ERROR LBFGS: Failure! Resetting history: breeze.optimize.FirstOrderException: Line search zoom failed\n",
      "23/03/05 22:55:00 ERROR LBFGS: Failure again! Giving up and returning. Maybe the objective is just poorly behaved?\n",
      "23/03/05 22:55:09 ERROR StrongWolfeLineSearch: Encountered bad values in function evaluation. Decreasing step size to 0.5\n",
      "23/03/05 22:55:11 ERROR StrongWolfeLineSearch: Encountered bad values in function evaluation. Decreasing step size to 0.5\n",
      "23/03/05 22:55:11 ERROR StrongWolfeLineSearch: Encountered bad values in function evaluation. Decreasing step size to 0.5\n",
      "23/03/05 22:55:11 ERROR StrongWolfeLineSearch: Encountered bad values in function evaluation. Decreasing step size to 0.25\n",
      "23/03/05 22:55:11 ERROR StrongWolfeLineSearch: Encountered bad values in function evaluation. Decreasing step size to 0.5\n",
      "23/03/05 22:55:11 ERROR StrongWolfeLineSearch: Encountered bad values in function evaluation. Decreasing step size to 0.25\n",
      "23/03/05 22:55:11 ERROR StrongWolfeLineSearch: Encountered bad values in function evaluation. Decreasing step size to 0.125\n",
      "23/03/05 22:55:11 ERROR StrongWolfeLineSearch: Encountered bad values in function evaluation. Decreasing step size to 0.0625\n",
      "23/03/05 22:55:12 ERROR StrongWolfeLineSearch: Encountered bad values in function evaluation. Decreasing step size to 0.03125\n",
      "23/03/05 22:55:12 ERROR StrongWolfeLineSearch: Encountered bad values in function evaluation. Decreasing step size to 0.03515625\n",
      "23/03/05 22:55:12 ERROR LBFGS: Failure! Resetting history: breeze.optimize.FirstOrderException: Line search zoom failed\n",
      "23/03/05 22:55:16 ERROR StrongWolfeLineSearch: Encountered bad values in function evaluation. Decreasing step size to 0.5\n",
      "23/03/05 22:55:16 ERROR StrongWolfeLineSearch: Encountered bad values in function evaluation. Decreasing step size to 0.5\n",
      "23/03/05 22:55:16 ERROR StrongWolfeLineSearch: Encountered bad values in function evaluation. Decreasing step size to 0.5\n",
      "23/03/05 22:55:16 ERROR StrongWolfeLineSearch: Encountered bad values in function evaluation. Decreasing step size to 0.5\n",
      "23/03/05 22:55:16 ERROR StrongWolfeLineSearch: Encountered bad values in function evaluation. Decreasing step size to 0.25\n",
      "23/03/05 22:55:17 ERROR StrongWolfeLineSearch: Encountered bad values in function evaluation. Decreasing step size to 0.5\n",
      "23/03/05 22:55:17 ERROR StrongWolfeLineSearch: Encountered bad values in function evaluation. Decreasing step size to 0.25\n",
      "23/03/05 22:55:17 ERROR StrongWolfeLineSearch: Encountered bad values in function evaluation. Decreasing step size to 0.125\n",
      "23/03/05 22:55:17 ERROR StrongWolfeLineSearch: Encountered bad values in function evaluation. Decreasing step size to 0.0625\n",
      "23/03/05 22:55:17 ERROR StrongWolfeLineSearch: Encountered bad values in function evaluation. Decreasing step size to 0.03125\n",
      "23/03/05 22:55:17 ERROR StrongWolfeLineSearch: Encountered bad values in function evaluation. Decreasing step size to 0.015625\n",
      "23/03/05 22:55:17 ERROR StrongWolfeLineSearch: Encountered bad values in function evaluation. Decreasing step size to 0.01171875\n",
      "23/03/05 22:55:17 ERROR LBFGS: Failure! Resetting history: breeze.optimize.FirstOrderException: Line search zoom failed\n",
      "23/03/05 22:55:17 ERROR LBFGS: Failure again! Giving up and returning. Maybe the objective is just poorly behaved?\n",
      "23/03/05 22:55:23 ERROR StrongWolfeLineSearch: Encountered bad values in function evaluation. Decreasing step size to 0.5\n",
      "23/03/05 22:55:25 ERROR StrongWolfeLineSearch: Encountered bad values in function evaluation. Decreasing step size to 0.5\n",
      "23/03/05 22:55:25 ERROR StrongWolfeLineSearch: Encountered bad values in function evaluation. Decreasing step size to 0.5\n",
      "23/03/05 22:55:25 ERROR StrongWolfeLineSearch: Encountered bad values in function evaluation. Decreasing step size to 0.25\n",
      "23/03/05 22:55:25 ERROR StrongWolfeLineSearch: Encountered bad values in function evaluation. Decreasing step size to 0.5\n",
      "23/03/05 22:55:25 ERROR StrongWolfeLineSearch: Encountered bad values in function evaluation. Decreasing step size to 0.25\n",
      "23/03/05 22:55:25 ERROR StrongWolfeLineSearch: Encountered bad values in function evaluation. Decreasing step size to 0.125\n",
      "23/03/05 22:55:25 ERROR StrongWolfeLineSearch: Encountered bad values in function evaluation. Decreasing step size to 0.0625\n",
      "23/03/05 22:55:25 ERROR StrongWolfeLineSearch: Encountered bad values in function evaluation. Decreasing step size to 0.03125\n",
      "23/03/05 22:55:25 ERROR StrongWolfeLineSearch: Encountered bad values in function evaluation. Decreasing step size to 0.03515625\n",
      "23/03/05 22:55:26 ERROR LBFGS: Failure! Resetting history: breeze.optimize.FirstOrderException: Line search zoom failed\n",
      "23/03/05 22:55:29 ERROR LBFGS: Failure! Resetting history: breeze.optimize.FirstOrderException: Line search failed\n",
      "23/03/05 22:55:36 ERROR StrongWolfeLineSearch: Encountered bad values in function evaluation. Decreasing step size to 0.5\n",
      "23/03/05 22:55:36 ERROR StrongWolfeLineSearch: Encountered bad values in function evaluation. Decreasing step size to 0.25\n",
      "23/03/05 22:55:37 ERROR StrongWolfeLineSearch: Encountered bad values in function evaluation. Decreasing step size to 0.5\n",
      "23/03/05 22:55:37 ERROR StrongWolfeLineSearch: Encountered bad values in function evaluation. Decreasing step size to 0.25\n",
      "23/03/05 22:55:37 ERROR StrongWolfeLineSearch: Encountered bad values in function evaluation. Decreasing step size to 0.125\n",
      "23/03/05 22:55:37 ERROR StrongWolfeLineSearch: Encountered bad values in function evaluation. Decreasing step size to 0.0625\n",
      "23/03/05 22:55:37 ERROR StrongWolfeLineSearch: Encountered bad values in function evaluation. Decreasing step size to 0.03125\n",
      "23/03/05 22:55:37 ERROR StrongWolfeLineSearch: Encountered bad values in function evaluation. Decreasing step size to 0.015625\n",
      "23/03/05 22:55:38 ERROR StrongWolfeLineSearch: Encountered bad values in function evaluation. Decreasing step size to 0.01171875\n"
     ]
    },
    {
     "name": "stdout",
     "output_type": "stream",
     "text": [
      "23/03/05 22:55:38 ERROR LBFGS: Failure! Resetting history: breeze.optimize.FirstOrderException: Line search zoom failed\n",
      "23/03/05 22:55:40 ERROR LBFGS: Failure! Resetting history: breeze.optimize.FirstOrderException: Line search failed\n",
      "23/03/05 22:55:58 ERROR StrongWolfeLineSearch: Encountered bad values in function evaluation. Decreasing step size to 0.5\n",
      "23/03/05 22:55:58 ERROR StrongWolfeLineSearch: Encountered bad values in function evaluation. Decreasing step size to 0.25\n",
      "23/03/05 22:55:58 ERROR StrongWolfeLineSearch: Encountered bad values in function evaluation. Decreasing step size to 0.125\n",
      "23/03/05 22:55:59 ERROR StrongWolfeLineSearch: Encountered bad values in function evaluation. Decreasing step size to 0.09375\n",
      "23/03/05 22:55:59 ERROR LBFGS: Failure! Resetting history: breeze.optimize.FirstOrderException: Line search zoom failed\n"
     ]
    }
   ],
   "source": [
    "modelo = crossval.fit(iris_train)"
   ]
  },
  {
   "cell_type": "markdown",
   "id": "78a39121",
   "metadata": {},
   "source": [
    "<center> <h3 style=\"background-color:#ECF7AE; color:#3F403D\" >Teste do Modelo usando o conjunto teste</center>"
   ]
  },
  {
   "cell_type": "code",
   "execution_count": 20,
   "id": "5087c67f",
   "metadata": {},
   "outputs": [],
   "source": [
    "previsao = modelo.transform(iris_test)"
   ]
  },
  {
   "cell_type": "code",
   "execution_count": 21,
   "id": "51129dd5",
   "metadata": {},
   "outputs": [
    {
     "name": "stdout",
     "output_type": "stream",
     "text": [
      "+-----------------+-----+----------+--------------------+--------------------+\n",
      "|     independente|label|prediction|       rawprediction|         probability|\n",
      "+-----------------+-----+----------+--------------------+--------------------+\n",
      "|[4.4,3.2,1.3,0.2]|  2.0|       2.0|[91.117568027615,...|[5.37926516385694...|\n",
      "|[4.6,3.2,1.4,0.2]|  2.0|       2.0|[91.117568027615,...|[5.37926516385694...|\n",
      "|[4.6,3.4,1.4,0.3]|  2.0|       2.0|[91.117568027615,...|[5.37926516385694...|\n",
      "|[4.8,3.4,1.6,0.2]|  2.0|       2.0|[91.117568027615,...|[5.37926516385694...|\n",
      "|[4.9,2.4,3.3,1.0]|  0.0|       0.0|[256.361767431977...|[1.0,6.6073272808...|\n",
      "|[4.9,3.1,1.5,0.1]|  2.0|       2.0|[91.117568027615,...|[5.37926516385694...|\n",
      "|[4.9,3.1,1.5,0.1]|  2.0|       2.0|[91.117568027615,...|[5.37926516385694...|\n",
      "|[5.0,2.0,3.5,1.0]|  0.0|       0.0|[256.361767431977...|[1.0,6.6073272808...|\n",
      "|[5.0,2.3,3.3,1.0]|  0.0|       0.0|[256.361767431977...|[1.0,6.6073272808...|\n",
      "|[5.0,3.2,1.2,0.2]|  2.0|       2.0|[91.117568027615,...|[5.37926516385694...|\n",
      "+-----------------+-----+----------+--------------------+--------------------+\n",
      "only showing top 10 rows\n",
      "\n"
     ]
    }
   ],
   "source": [
    "previsao.select(\"independente\", \"label\",\n",
    "                \"prediction\", \"rawprediction\",\n",
    "                \"probability\").show(10)"
   ]
  },
  {
   "cell_type": "markdown",
   "id": "779f1627",
   "metadata": {},
   "source": [
    "\n",
    "---\n",
    "\n",
    "<center> <h1 style=\"background-color:seagreen; color:white\" >Avaliação do Modelo usando PySpark</h1></center> \n",
    "<br>\n"
   ]
  },
  {
   "cell_type": "code",
   "execution_count": 24,
   "id": "9b36650f",
   "metadata": {},
   "outputs": [
    {
     "name": "stdout",
     "output_type": "stream",
     "text": [
      "Acurácia do Modelo: 100.0%\n"
     ]
    }
   ],
   "source": [
    "performace = MulticlassClassificationEvaluator(labelCol=\"label\",\n",
    "                                               predictionCol=\"prediction\",\n",
    "                                               metricName=\"accuracy\")\n",
    "acuracia = performace.evaluate(previsao)\n",
    "print(f\"Acurácia do Modelo: {acuracia*100}%\")"
   ]
  },
  {
   "cell_type": "code",
   "execution_count": null,
   "id": "dacc0242",
   "metadata": {},
   "outputs": [],
   "source": []
  }
 ],
 "metadata": {
  "kernelspec": {
   "display_name": "Python 3 (ipykernel)",
   "language": "python",
   "name": "python3"
  },
  "language_info": {
   "codemirror_mode": {
    "name": "ipython",
    "version": 3
   },
   "file_extension": ".py",
   "mimetype": "text/x-python",
   "name": "python",
   "nbconvert_exporter": "python",
   "pygments_lexer": "ipython3",
   "version": "3.10.8"
  }
 },
 "nbformat": 4,
 "nbformat_minor": 5
}
