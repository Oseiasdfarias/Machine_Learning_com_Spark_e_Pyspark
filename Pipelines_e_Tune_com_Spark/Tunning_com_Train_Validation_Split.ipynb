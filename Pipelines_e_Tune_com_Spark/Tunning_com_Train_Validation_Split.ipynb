{
 "cells": [
  {
   "cell_type": "markdown",
   "id": "c64e677e",
   "metadata": {},
   "source": [
    "<center> <h1 style=\"background-color:seagreen; color:white\" >Construindo Pipelines e Ajuste com Train-Validation Split com Spark</h1></center>  \n",
    "\n",
    "**Ajuste de Hiper Parâmetros:**\n",
    "\n",
    "> + Um classificador pode ter diversos hiper parâmetros\n",
    "> + A configuração dos hiper parâmetros as vezes não é intuitiva e nem “cientifica”\n",
    "> + A combinação de muitos hiper parâmetros pode ser gigantesca\n",
    "> + Inviável testar manualmente todas as combinações\n",
    "\n",
    "> + Spark facilita o teste de diferentes hiper parâmetros\n",
    "> + Você pode testar diferentes configurações para todo o Pipeline\n",
    "> + ParamGridBuilder: você configura quais parâmetros e quais domínios quer testar\n",
    "> + Utiliza Cross-Validation ou Train-Validation Split\n",
    "\n",
    "\n",
    "<center> <h2 style=\"background-color:DarkKhaki; color:white\" >Inicializando o PySpark</h2></center> "
   ]
  },
  {
   "cell_type": "code",
   "execution_count": 1,
   "id": "3ecfeb6e",
   "metadata": {},
   "outputs": [
    {
     "name": "stdout",
     "output_type": "stream",
     "text": [
      "23/03/05 23:00:34 WARN Utils: Your hostname, 01bits resolves to a loopback address: 127.0.1.1; using 192.168.0.109 instead (on interface wlp6s0)\n",
      "23/03/05 23:00:34 WARN Utils: Set SPARK_LOCAL_IP if you need to bind to another address\n"
     ]
    },
    {
     "name": "stderr",
     "output_type": "stream",
     "text": [
      "Setting default log level to \"WARN\".\n",
      "To adjust logging level use sc.setLogLevel(newLevel). For SparkR, use setLogLevel(newLevel).\n"
     ]
    },
    {
     "name": "stdout",
     "output_type": "stream",
     "text": [
      "23/03/05 23:00:35 WARN NativeCodeLoader: Unable to load native-hadoop library for your platform... using builtin-java classes where applicable\n"
     ]
    }
   ],
   "source": [
    "import findspark\n",
    "import pyspark\n",
    "from pyspark.sql import SparkSession\n",
    "\n",
    "# Faz a Interafce entre o Spark e o Jupyter Notebook\n",
    "findspark.init()\n",
    "\n",
    "# Inicializando uma Sessão no Spark\n",
    "spark = SparkSession.builder.appName(\"Pepilines_tune\").getOrCreate()"
   ]
  },
  {
   "cell_type": "markdown",
   "id": "c2dcc5fc",
   "metadata": {},
   "source": [
    "---\n",
    "\n",
    "<center> <h1 style=\"background-color:seagreen; color:white\" >Construindo Pipelines com Spark com Multi Layers Perceptron usando o DataSet Íris</h1></center>\n",
    "\n"
   ]
  },
  {
   "cell_type": "markdown",
   "id": "85f45af4",
   "metadata": {},
   "source": [
    "\n",
    "<center> <h2 style=\"background-color:DarkKhaki; color:white\" >Carregando o Cunjunto de Dados Íris</h2></center> "
   ]
  },
  {
   "cell_type": "code",
   "execution_count": 2,
   "id": "a673a559",
   "metadata": {
    "scrolled": true
   },
   "outputs": [
    {
     "name": "stderr",
     "output_type": "stream",
     "text": [
      "                                                                                \r"
     ]
    },
    {
     "name": "stdout",
     "output_type": "stream",
     "text": [
      "+-----------+----------+-----------+----------+-----------+\n",
      "|sepallength|sepalwidth|petallength|petalwidth|      class|\n",
      "+-----------+----------+-----------+----------+-----------+\n",
      "|        5.1|       3.5|        1.4|       0.2|Iris-setosa|\n",
      "|        4.9|       3.0|        1.4|       0.2|Iris-setosa|\n",
      "|        4.7|       3.2|        1.3|       0.2|Iris-setosa|\n",
      "|        4.6|       3.1|        1.5|       0.2|Iris-setosa|\n",
      "|        5.0|       3.6|        1.4|       0.2|Iris-setosa|\n",
      "+-----------+----------+-----------+----------+-----------+\n",
      "only showing top 5 rows\n",
      "\n"
     ]
    }
   ],
   "source": [
    "iris = spark.read.csv(\"../Material_do_Curso/iris.csv\", header=True, inferSchema=True, sep=\",\")\n",
    "iris.show(5)"
   ]
  },
  {
   "cell_type": "markdown",
   "id": "3470f072",
   "metadata": {},
   "source": [
    "<center> <h2 style=\"background-color:DarkKhaki; color:white\" >Separando os dados entre conjunto de traino e teste</h2></center> "
   ]
  },
  {
   "cell_type": "code",
   "execution_count": 3,
   "id": "18583eaa",
   "metadata": {},
   "outputs": [],
   "source": [
    "iris_train, iris_test = iris.randomSplit([0.8, 0.2])"
   ]
  },
  {
   "cell_type": "markdown",
   "id": "b063d5b8",
   "metadata": {},
   "source": [
    "\n",
    "<center> <h3 style=\"background-color:#ECF7AE; color:#3F403D\" >Colocando os dados no formato aceito pelo Spark</h3></center>"
   ]
  },
  {
   "cell_type": "code",
   "execution_count": 4,
   "id": "0a9388d6",
   "metadata": {},
   "outputs": [],
   "source": [
    "from pyspark.ml.feature import VectorAssembler"
   ]
  },
  {
   "cell_type": "code",
   "execution_count": 5,
   "id": "06b2cd13",
   "metadata": {},
   "outputs": [],
   "source": [
    "vector = VectorAssembler(inputCols=[\"sepallength\", \"sepalwidth\",\n",
    "                                    \"petallength\", \"petalwidth\"], outputCol=\"independente\")"
   ]
  },
  {
   "cell_type": "markdown",
   "id": "270fd685",
   "metadata": {},
   "source": [
    "\n",
    "<center> <h3 style=\"background-color:#ECF7AE; color:#3F403D\" >Convertendo um tipo categórico em numérico com StringIndexer</center>"
   ]
  },
  {
   "cell_type": "code",
   "execution_count": 6,
   "id": "84302b5d",
   "metadata": {},
   "outputs": [],
   "source": [
    "from pyspark.ml.feature import StringIndexer\n",
    "\n",
    "indexer = StringIndexer(inputCol=\"class\", outputCol=\"label\")"
   ]
  },
  {
   "cell_type": "markdown",
   "id": "7f6b5bf6",
   "metadata": {},
   "source": [
    "---\n",
    "\n",
    "<center> <h2 style=\"background-color:DarkKhaki; color:white\" >Importação do Módulo do PySpark Para Criação do Modelo de Rde Neural Artificial</h2></center>"
   ]
  },
  {
   "cell_type": "code",
   "execution_count": 7,
   "id": "81b15be7",
   "metadata": {},
   "outputs": [],
   "source": [
    "from pyspark.ml.classification import MultilayerPerceptronClassifier\n",
    "\n",
    "mlp = MultilayerPerceptronClassifier(maxIter=100, layers=[4, 5, 4, 3],\n",
    "                                     featuresCol=\"independente\", labelCol=\"label\")"
   ]
  },
  {
   "cell_type": "markdown",
   "id": "01232e6e",
   "metadata": {},
   "source": [
    "---\n",
    "\n",
    "<center> <h1 style=\"background-color:seagreen; color:white\" >Criando o Pipeline e Aplicando Train-Validation Split</h1></center> \n",
    "\n",
    " #### Train-Validation Split\n",
    "\n",
    "> + Testa cada configuração do grid de hiper parâmetros uma única vez \n",
    "> + trainingratio define a proporção usada para treino\n",
    "> + Quando encontrar o melhor conjunto de hiper parâmetros, ele novamente cria o modelo usando todos os dados de treino\n",
    "\n",
    "\n",
    "<br>\n",
    "\n"
   ]
  },
  {
   "cell_type": "code",
   "execution_count": 8,
   "id": "c5238a07",
   "metadata": {},
   "outputs": [],
   "source": [
    "from pyspark.ml import Pipeline"
   ]
  },
  {
   "cell_type": "code",
   "execution_count": 9,
   "id": "c00cabd8",
   "metadata": {},
   "outputs": [],
   "source": [
    "pipeline = Pipeline(stages=[vector, indexer, mlp])"
   ]
  },
  {
   "cell_type": "markdown",
   "id": "b683bfa7",
   "metadata": {},
   "source": [
    "\n",
    "<center> <h3 style=\"background-color:#ECF7AE; color:#3F403D\" >Aplicando o Train-Validation Split</center>"
   ]
  },
  {
   "cell_type": "code",
   "execution_count": 10,
   "id": "e0597e8b",
   "metadata": {},
   "outputs": [],
   "source": [
    "from pyspark.ml.tuning import TrainValidationSplit, ParamGridBuilder\n",
    "from pyspark.ml.evaluation import MulticlassClassificationEvaluator"
   ]
  },
  {
   "cell_type": "code",
   "execution_count": 11,
   "id": "30a2e94b",
   "metadata": {},
   "outputs": [],
   "source": [
    "performace = MulticlassClassificationEvaluator(labelCol=\"label\", metricName=\"accuracy\")\n",
    "grid = ParamGridBuilder().addGrid(mlp.maxIter, [10, 100, 1000])\n",
    "grid = grid.addGrid(mlp.layers, [[4, 5, 4, 3], [4, 4, 3]])\n",
    "grid = grid.build()\n",
    "\n",
    "train_val_split = TrainValidationSplit(estimator=pipeline,\n",
    "                                       estimatorParamMaps=grid,\n",
    "                                       evaluator=performace,\n",
    "                                       trainRatio=0.8)"
   ]
  },
  {
   "cell_type": "markdown",
   "id": "d7db3d65",
   "metadata": {},
   "source": [
    "<center> <h3 style=\"background-color:#ECF7AE; color:#3F403D\" >Executando o Pipiline com o Tune do Modelo</center>"
   ]
  },
  {
   "cell_type": "code",
   "execution_count": 12,
   "id": "d1c7c30a",
   "metadata": {
    "collapsed": true
   },
   "outputs": [
    {
     "name": "stderr",
     "output_type": "stream",
     "text": [
      "                                                                                \r"
     ]
    },
    {
     "name": "stdout",
     "output_type": "stream",
     "text": [
      "23/03/05 23:05:57 ERROR StrongWolfeLineSearch: Encountered bad values in function evaluation. Decreasing step size to 0.5\n",
      "23/03/05 23:05:59 ERROR StrongWolfeLineSearch: Encountered bad values in function evaluation. Decreasing step size to 0.5\n",
      "23/03/05 23:05:59 ERROR StrongWolfeLineSearch: Encountered bad values in function evaluation. Decreasing step size to 0.5\n",
      "23/03/05 23:06:00 ERROR StrongWolfeLineSearch: Encountered bad values in function evaluation. Decreasing step size to 0.25\n",
      "23/03/05 23:06:00 ERROR StrongWolfeLineSearch: Encountered bad values in function evaluation. Decreasing step size to 0.125\n",
      "23/03/05 23:06:00 ERROR StrongWolfeLineSearch: Encountered bad values in function evaluation. Decreasing step size to 0.0625\n",
      "23/03/05 23:06:00 ERROR StrongWolfeLineSearch: Encountered bad values in function evaluation. Decreasing step size to 0.03125\n",
      "23/03/05 23:06:00 ERROR StrongWolfeLineSearch: Encountered bad values in function evaluation. Decreasing step size to 0.015625\n",
      "23/03/05 23:06:01 ERROR StrongWolfeLineSearch: Encountered bad values in function evaluation. Decreasing step size to 0.0078125\n",
      "23/03/05 23:06:01 ERROR StrongWolfeLineSearch: Encountered bad values in function evaluation. Decreasing step size to 0.00390625\n",
      "23/03/05 23:06:01 ERROR StrongWolfeLineSearch: Encountered bad values in function evaluation. Decreasing step size to 0.0029296875\n",
      "23/03/05 23:06:01 ERROR LBFGS: Failure! Resetting history: breeze.optimize.FirstOrderException: Line search failed\n",
      "23/03/05 23:06:19 ERROR StrongWolfeLineSearch: Encountered bad values in function evaluation. Decreasing step size to 0.5\n",
      "23/03/05 23:06:20 ERROR StrongWolfeLineSearch: Encountered bad values in function evaluation. Decreasing step size to 0.5\n",
      "23/03/05 23:06:20 ERROR StrongWolfeLineSearch: Encountered bad values in function evaluation. Decreasing step size to 0.25\n",
      "23/03/05 23:06:20 ERROR StrongWolfeLineSearch: Encountered bad values in function evaluation. Decreasing step size to 0.125\n",
      "23/03/05 23:06:21 ERROR StrongWolfeLineSearch: Encountered bad values in function evaluation. Decreasing step size to 0.5\n",
      "23/03/05 23:06:21 ERROR StrongWolfeLineSearch: Encountered bad values in function evaluation. Decreasing step size to 0.25\n",
      "23/03/05 23:06:21 ERROR StrongWolfeLineSearch: Encountered bad values in function evaluation. Decreasing step size to 0.125\n",
      "23/03/05 23:06:21 ERROR StrongWolfeLineSearch: Encountered bad values in function evaluation. Decreasing step size to 0.0625\n",
      "23/03/05 23:06:21 ERROR StrongWolfeLineSearch: Encountered bad values in function evaluation. Decreasing step size to 0.03125\n",
      "23/03/05 23:06:22 ERROR StrongWolfeLineSearch: Encountered bad values in function evaluation. Decreasing step size to 0.015625\n",
      "23/03/05 23:06:22 ERROR StrongWolfeLineSearch: Encountered bad values in function evaluation. Decreasing step size to 0.0078125\n",
      "23/03/05 23:06:22 ERROR StrongWolfeLineSearch: Encountered bad values in function evaluation. Decreasing step size to 0.005859375\n",
      "23/03/05 23:06:22 ERROR LBFGS: Failure! Resetting history: breeze.optimize.FirstOrderException: Line search zoom failed\n",
      "23/03/05 23:06:54 ERROR StrongWolfeLineSearch: Encountered bad values in function evaluation. Decreasing step size to 0.5\n",
      "23/03/05 23:06:55 ERROR StrongWolfeLineSearch: Encountered bad values in function evaluation. Decreasing step size to 0.5\n",
      "23/03/05 23:06:55 ERROR StrongWolfeLineSearch: Encountered bad values in function evaluation. Decreasing step size to 0.5\n",
      "23/03/05 23:06:55 ERROR StrongWolfeLineSearch: Encountered bad values in function evaluation. Decreasing step size to 0.25\n",
      "23/03/05 23:06:55 ERROR StrongWolfeLineSearch: Encountered bad values in function evaluation. Decreasing step size to 0.125\n",
      "23/03/05 23:06:55 ERROR StrongWolfeLineSearch: Encountered bad values in function evaluation. Decreasing step size to 0.0625\n",
      "23/03/05 23:06:56 ERROR StrongWolfeLineSearch: Encountered bad values in function evaluation. Decreasing step size to 0.03125\n",
      "23/03/05 23:06:56 ERROR StrongWolfeLineSearch: Encountered bad values in function evaluation. Decreasing step size to 0.015625\n",
      "23/03/05 23:06:56 ERROR StrongWolfeLineSearch: Encountered bad values in function evaluation. Decreasing step size to 0.0078125\n",
      "23/03/05 23:06:56 ERROR StrongWolfeLineSearch: Encountered bad values in function evaluation. Decreasing step size to 0.00390625\n",
      "23/03/05 23:06:57 ERROR StrongWolfeLineSearch: Encountered bad values in function evaluation. Decreasing step size to 0.0029296875\n",
      "23/03/05 23:06:57 ERROR LBFGS: Failure! Resetting history: breeze.optimize.FirstOrderException: Line search failed\n",
      "23/03/05 23:07:16 ERROR StrongWolfeLineSearch: Encountered bad values in function evaluation. Decreasing step size to 0.5\n",
      "23/03/05 23:07:16 ERROR StrongWolfeLineSearch: Encountered bad values in function evaluation. Decreasing step size to 0.5\n",
      "23/03/05 23:07:16 ERROR StrongWolfeLineSearch: Encountered bad values in function evaluation. Decreasing step size to 0.25\n",
      "23/03/05 23:07:16 ERROR StrongWolfeLineSearch: Encountered bad values in function evaluation. Decreasing step size to 0.125\n",
      "23/03/05 23:07:17 ERROR StrongWolfeLineSearch: Encountered bad values in function evaluation. Decreasing step size to 0.5\n",
      "23/03/05 23:07:17 ERROR StrongWolfeLineSearch: Encountered bad values in function evaluation. Decreasing step size to 0.25\n",
      "23/03/05 23:07:17 ERROR StrongWolfeLineSearch: Encountered bad values in function evaluation. Decreasing step size to 0.125\n",
      "23/03/05 23:07:17 ERROR StrongWolfeLineSearch: Encountered bad values in function evaluation. Decreasing step size to 0.0625\n",
      "23/03/05 23:07:17 ERROR StrongWolfeLineSearch: Encountered bad values in function evaluation. Decreasing step size to 0.03125\n",
      "23/03/05 23:07:18 ERROR StrongWolfeLineSearch: Encountered bad values in function evaluation. Decreasing step size to 0.015625\n",
      "23/03/05 23:07:18 ERROR StrongWolfeLineSearch: Encountered bad values in function evaluation. Decreasing step size to 0.0078125\n",
      "23/03/05 23:07:18 ERROR StrongWolfeLineSearch: Encountered bad values in function evaluation. Decreasing step size to 0.005859375\n",
      "23/03/05 23:07:18 ERROR LBFGS: Failure! Resetting history: breeze.optimize.FirstOrderException: Line search zoom failed\n",
      "23/03/05 23:07:41 ERROR StrongWolfeLineSearch: Encountered bad values in function evaluation. Decreasing step size to 0.5\n",
      "23/03/05 23:07:41 ERROR StrongWolfeLineSearch: Encountered bad values in function evaluation. Decreasing step size to 0.5\n",
      "23/03/05 23:07:41 ERROR StrongWolfeLineSearch: Encountered bad values in function evaluation. Decreasing step size to 0.25\n",
      "23/03/05 23:07:41 ERROR StrongWolfeLineSearch: Encountered bad values in function evaluation. Decreasing step size to 0.125\n",
      "23/03/05 23:07:41 ERROR StrongWolfeLineSearch: Encountered bad values in function evaluation. Decreasing step size to 0.0625\n",
      "23/03/05 23:07:41 ERROR StrongWolfeLineSearch: Encountered bad values in function evaluation. Decreasing step size to 0.03125\n",
      "23/03/05 23:07:41 ERROR StrongWolfeLineSearch: Encountered bad values in function evaluation. Decreasing step size to 0.015625\n",
      "23/03/05 23:07:41 ERROR StrongWolfeLineSearch: Encountered bad values in function evaluation. Decreasing step size to 0.017578125\n",
      "23/03/05 23:07:42 ERROR LBFGS: Failure! Resetting history: breeze.optimize.FirstOrderException: Line search zoom failed\n"
     ]
    }
   ],
   "source": [
    "modelo = train_val_split.fit(iris_train)"
   ]
  },
  {
   "cell_type": "markdown",
   "id": "78a39121",
   "metadata": {},
   "source": [
    "<center> <h3 style=\"background-color:#ECF7AE; color:#3F403D\" >Teste do Modelo usando o conjunto teste</center>"
   ]
  },
  {
   "cell_type": "code",
   "execution_count": 13,
   "id": "5087c67f",
   "metadata": {},
   "outputs": [],
   "source": [
    "previsao = modelo.transform(iris_test)"
   ]
  },
  {
   "cell_type": "code",
   "execution_count": 14,
   "id": "51129dd5",
   "metadata": {},
   "outputs": [
    {
     "name": "stdout",
     "output_type": "stream",
     "text": [
      "+-----------------+-----+----------+--------------------+--------------------+\n",
      "|     independente|label|prediction|       rawprediction|         probability|\n",
      "+-----------------+-----+----------+--------------------+--------------------+\n",
      "|[4.4,3.0,1.3,0.2]|  0.0|       0.0|[392.835663012028...|[1.0,9.9888295566...|\n",
      "|[4.8,3.4,1.6,0.2]|  0.0|       0.0|[392.835758371839...|[1.0,9.9877640959...|\n",
      "|[5.0,2.0,3.5,1.0]|  1.0|       1.0|[-214.59208852910...|[1.32631399252216...|\n",
      "|[5.0,3.2,1.2,0.2]|  0.0|       0.0|[392.835754889314...|[1.0,9.9878030044...|\n",
      "|[5.0,3.3,1.4,0.2]|  0.0|       0.0|[392.835761894589...|[1.0,9.9877247382...|\n",
      "|[5.0,3.4,1.6,0.4]|  0.0|       0.0|[392.835768349100...|[1.0,9.9876526260...|\n",
      "|[5.0,3.5,1.6,0.6]|  0.0|       0.0|[392.835771581009...|[1.0,9.9876165181...|\n",
      "|[5.6,3.0,4.1,1.3]|  1.0|       1.0|[-28.235279879965...|[6.73848717495993...|\n",
      "|[5.8,2.7,5.1,1.9]|  2.0|       2.0|[-255.25856942550...|[8.55699068064350...|\n",
      "|[5.8,2.8,5.1,2.4]|  2.0|       2.0|[-255.25856915176...|[8.55699503660321...|\n",
      "+-----------------+-----+----------+--------------------+--------------------+\n",
      "only showing top 10 rows\n",
      "\n"
     ]
    }
   ],
   "source": [
    "previsao.select(\"independente\", \"label\",\n",
    "                \"prediction\", \"rawprediction\",\n",
    "                \"probability\").show(10)"
   ]
  },
  {
   "cell_type": "markdown",
   "id": "779f1627",
   "metadata": {},
   "source": [
    "\n",
    "---\n",
    "\n",
    "<center> <h1 style=\"background-color:seagreen; color:white\" >Avaliação do Modelo usando PySpark</h1></center> \n",
    "<br>\n"
   ]
  },
  {
   "cell_type": "code",
   "execution_count": 15,
   "id": "9b36650f",
   "metadata": {},
   "outputs": [
    {
     "name": "stdout",
     "output_type": "stream",
     "text": [
      "Acurácia do Modelo: 100.0%\n"
     ]
    }
   ],
   "source": [
    "performace = MulticlassClassificationEvaluator(labelCol=\"label\",\n",
    "                                               predictionCol=\"prediction\",\n",
    "                                               metricName=\"accuracy\")\n",
    "acuracia = performace.evaluate(previsao)\n",
    "print(f\"Acurácia do Modelo: {acuracia*100}%\")"
   ]
  }
 ],
 "metadata": {
  "kernelspec": {
   "display_name": "Python 3 (ipykernel)",
   "language": "python",
   "name": "python3"
  },
  "language_info": {
   "codemirror_mode": {
    "name": "ipython",
    "version": 3
   },
   "file_extension": ".py",
   "mimetype": "text/x-python",
   "name": "python",
   "nbconvert_exporter": "python",
   "pygments_lexer": "ipython3",
   "version": "3.10.8"
  }
 },
 "nbformat": 4,
 "nbformat_minor": 5
}
