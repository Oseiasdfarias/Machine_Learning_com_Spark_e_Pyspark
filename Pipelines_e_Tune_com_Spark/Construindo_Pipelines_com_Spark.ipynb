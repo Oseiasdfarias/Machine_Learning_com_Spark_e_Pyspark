{
 "cells": [
  {
   "cell_type": "markdown",
   "id": "c64e677e",
   "metadata": {},
   "source": [
    "<center> <h1 style=\"background-color:seagreen; color:white\" >Construindo Pipelines com Spark</h1></center>  \n",
    "\n",
    "> + Sequencia de fases executadas em ordem, que podem ser Transformers ou Estimators\n",
    "> +  Instância os objetos, mas não executa (fit e transform)\n",
    "> +  Você constrói o Pipeline com a Sequencia de etapas\n",
    "> + E chama o método fit do pipeline para execução\n",
    "\n",
    "\n",
    "<center> <h2 style=\"background-color:DarkKhaki; color:white\" >Inicializando o PySpark</h2></center> "
   ]
  },
  {
   "cell_type": "code",
   "execution_count": 2,
   "id": "3ecfeb6e",
   "metadata": {},
   "outputs": [],
   "source": [
    "import findspark\n",
    "import pyspark\n",
    "from pyspark.sql import SparkSession\n",
    "\n",
    "# Faz a Interafce entre o Spark e o Jupyter Notebook\n",
    "findspark.init()\n",
    "\n",
    "# Inicializando uma Sessão no Spark\n",
    "spark = SparkSession.builder.appName(\"Pepilines\").getOrCreate()"
   ]
  },
  {
   "cell_type": "markdown",
   "id": "c2dcc5fc",
   "metadata": {},
   "source": [
    "---\n",
    "\n",
    "<center> <h1 style=\"background-color:seagreen; color:white\" >Construindo Pipelines com Spark com Multi Layers Perceptron usando o DataSet Íris</h1></center>\n",
    "\n"
   ]
  },
  {
   "cell_type": "markdown",
   "id": "85f45af4",
   "metadata": {},
   "source": [
    "\n",
    "<center> <h2 style=\"background-color:DarkKhaki; color:white\" >Carregando o Cunjunto de Dados Íris</h2></center> "
   ]
  },
  {
   "cell_type": "code",
   "execution_count": 3,
   "id": "a673a559",
   "metadata": {
    "scrolled": true
   },
   "outputs": [
    {
     "name": "stderr",
     "output_type": "stream",
     "text": [
      "                                                                                \r"
     ]
    },
    {
     "name": "stdout",
     "output_type": "stream",
     "text": [
      "+-----------+----------+-----------+----------+-----------+\n",
      "|sepallength|sepalwidth|petallength|petalwidth|      class|\n",
      "+-----------+----------+-----------+----------+-----------+\n",
      "|        5.1|       3.5|        1.4|       0.2|Iris-setosa|\n",
      "|        4.9|       3.0|        1.4|       0.2|Iris-setosa|\n",
      "|        4.7|       3.2|        1.3|       0.2|Iris-setosa|\n",
      "|        4.6|       3.1|        1.5|       0.2|Iris-setosa|\n",
      "|        5.0|       3.6|        1.4|       0.2|Iris-setosa|\n",
      "+-----------+----------+-----------+----------+-----------+\n",
      "only showing top 5 rows\n",
      "\n"
     ]
    }
   ],
   "source": [
    "iris = spark.read.csv(\"../Material_do_Curso/iris.csv\", header=True, inferSchema=True, sep=\",\")\n",
    "iris.show(5)"
   ]
  },
  {
   "cell_type": "markdown",
   "id": "3470f072",
   "metadata": {},
   "source": [
    "<center> <h2 style=\"background-color:DarkKhaki; color:white\" >Separando os dados entre conjunto de traino e teste</h2></center> "
   ]
  },
  {
   "cell_type": "code",
   "execution_count": 4,
   "id": "18583eaa",
   "metadata": {},
   "outputs": [],
   "source": [
    "iris_train, iris_test = iris.randomSplit([0.8, 0.2])"
   ]
  },
  {
   "cell_type": "markdown",
   "id": "b063d5b8",
   "metadata": {},
   "source": [
    "\n",
    "<center> <h3 style=\"background-color:#ECF7AE; color:#3F403D\" >Colocando os dados no formato aceito pelo Spark</h3></center>"
   ]
  },
  {
   "cell_type": "code",
   "execution_count": 5,
   "id": "0a9388d6",
   "metadata": {},
   "outputs": [],
   "source": [
    "from pyspark.ml.feature import VectorAssembler"
   ]
  },
  {
   "cell_type": "code",
   "execution_count": 6,
   "id": "06b2cd13",
   "metadata": {},
   "outputs": [],
   "source": [
    "vector = VectorAssembler(inputCols=[\"sepallength\", \"sepalwidth\",\n",
    "                                    \"petallength\", \"petalwidth\"], outputCol=\"independente\")"
   ]
  },
  {
   "cell_type": "markdown",
   "id": "270fd685",
   "metadata": {},
   "source": [
    "\n",
    "<center> <h3 style=\"background-color:#ECF7AE; color:#3F403D\" >Convertendo um tipo categórico em numérico com StringIndexer</center>"
   ]
  },
  {
   "cell_type": "code",
   "execution_count": 7,
   "id": "84302b5d",
   "metadata": {},
   "outputs": [],
   "source": [
    "from pyspark.ml.feature import StringIndexer\n",
    "\n",
    "indexer = StringIndexer(inputCol=\"class\", outputCol=\"dependente\")"
   ]
  },
  {
   "cell_type": "markdown",
   "id": "7f6b5bf6",
   "metadata": {},
   "source": [
    "---\n",
    "\n",
    "<center> <h2 style=\"background-color:DarkKhaki; color:white\" >Importação do Módulo do PySpark Para Criação do Modelo de Rde Neural Artificial</h2></center>"
   ]
  },
  {
   "cell_type": "code",
   "execution_count": 8,
   "id": "81b15be7",
   "metadata": {},
   "outputs": [],
   "source": [
    "from pyspark.ml.classification import MultilayerPerceptronClassifier\n",
    "\n",
    "mlp = MultilayerPerceptronClassifier(maxIter=100, layers=[4, 5, 4, 3],\n",
    "                                     featuresCol=\"independente\", labelCol=\"dependente\")"
   ]
  },
  {
   "cell_type": "markdown",
   "id": "01232e6e",
   "metadata": {},
   "source": [
    "---\n",
    "\n",
    "<center> <h1 style=\"background-color:seagreen; color:white\" >Criando o Pipeline</h1></center> \n",
    "<br>\n"
   ]
  },
  {
   "cell_type": "code",
   "execution_count": 9,
   "id": "c5238a07",
   "metadata": {},
   "outputs": [],
   "source": [
    "from pyspark.ml import Pipeline"
   ]
  },
  {
   "cell_type": "code",
   "execution_count": 10,
   "id": "c00cabd8",
   "metadata": {
    "collapsed": true
   },
   "outputs": [
    {
     "name": "stderr",
     "output_type": "stream",
     "text": [
      "                                                                                \r"
     ]
    },
    {
     "name": "stdout",
     "output_type": "stream",
     "text": [
      "23/03/05 22:22:55 ERROR StrongWolfeLineSearch: Encountered bad values in function evaluation. Decreasing step size to 0.5\n",
      "23/03/05 22:22:56 ERROR StrongWolfeLineSearch: Encountered bad values in function evaluation. Decreasing step size to 0.5\n",
      "23/03/05 22:22:56 ERROR StrongWolfeLineSearch: Encountered bad values in function evaluation. Decreasing step size to 0.25\n",
      "23/03/05 22:22:56 ERROR StrongWolfeLineSearch: Encountered bad values in function evaluation. Decreasing step size to 0.125\n",
      "23/03/05 22:22:56 ERROR StrongWolfeLineSearch: Encountered bad values in function evaluation. Decreasing step size to 0.5\n",
      "23/03/05 22:22:56 ERROR StrongWolfeLineSearch: Encountered bad values in function evaluation. Decreasing step size to 0.25\n",
      "23/03/05 22:22:56 ERROR StrongWolfeLineSearch: Encountered bad values in function evaluation. Decreasing step size to 0.125\n",
      "23/03/05 22:22:56 ERROR StrongWolfeLineSearch: Encountered bad values in function evaluation. Decreasing step size to 0.0625\n",
      "23/03/05 22:22:56 ERROR StrongWolfeLineSearch: Encountered bad values in function evaluation. Decreasing step size to 0.03125\n",
      "23/03/05 22:22:56 ERROR StrongWolfeLineSearch: Encountered bad values in function evaluation. Decreasing step size to 0.03515625\n",
      "23/03/05 22:22:57 ERROR LBFGS: Failure! Resetting history: breeze.optimize.FirstOrderException: Line search zoom failed\n"
     ]
    }
   ],
   "source": [
    "pipeline = Pipeline(stages=[vector, indexer, mlp])\n",
    "modelo = pipeline.fit(iris_train)"
   ]
  },
  {
   "cell_type": "markdown",
   "id": "78a39121",
   "metadata": {},
   "source": [
    "<center> <h3 style=\"background-color:#ECF7AE; color:#3F403D\" >Teste do Modelo usando o conjunto teste</center>"
   ]
  },
  {
   "cell_type": "code",
   "execution_count": 11,
   "id": "5087c67f",
   "metadata": {},
   "outputs": [],
   "source": [
    "previsao = modelo.transform(iris_test)"
   ]
  },
  {
   "cell_type": "code",
   "execution_count": 14,
   "id": "51129dd5",
   "metadata": {},
   "outputs": [
    {
     "name": "stdout",
     "output_type": "stream",
     "text": [
      "+-----------------+----------+----------+--------------------+--------------------+\n",
      "|     independente|dependente|prediction|       rawprediction|         probability|\n",
      "+-----------------+----------+----------+--------------------+--------------------+\n",
      "|[4.4,3.0,1.3,0.2]|       2.0|       2.0|[-97.150225521020...|[3.019226014798E-...|\n",
      "|[4.7,3.2,1.3,0.2]|       2.0|       2.0|[-97.150225521020...|[3.019226014798E-...|\n",
      "|[4.8,3.0,1.4,0.1]|       2.0|       2.0|[-97.150225521020...|[3.019226014798E-...|\n",
      "|[4.8,3.4,1.9,0.2]|       2.0|       2.0|[-97.150225521020...|[3.019226014798E-...|\n",
      "|[4.9,3.0,1.4,0.2]|       2.0|       2.0|[-97.150225521020...|[3.019226014798E-...|\n",
      "|[5.0,2.3,3.3,1.0]|       1.0|       1.0|[188.319857930421...|[2.65873594407671...|\n",
      "|[5.0,3.4,1.5,0.2]|       2.0|       2.0|[-97.150225521020...|[3.019226014798E-...|\n",
      "|[5.1,3.4,1.5,0.2]|       2.0|       2.0|[-97.150225521020...|[3.019226014798E-...|\n",
      "|[5.1,3.5,1.4,0.2]|       2.0|       2.0|[-97.150225521020...|[3.019226014798E-...|\n",
      "|[5.1,3.5,1.4,0.3]|       2.0|       2.0|[-97.150225521020...|[3.019226014798E-...|\n",
      "+-----------------+----------+----------+--------------------+--------------------+\n",
      "only showing top 10 rows\n",
      "\n"
     ]
    }
   ],
   "source": [
    "previsao.select(\"independente\", \"dependente\",  \"prediction\", \"rawprediction\", \"probability\").show(10)"
   ]
  },
  {
   "cell_type": "markdown",
   "id": "779f1627",
   "metadata": {},
   "source": [
    "\n",
    "---\n",
    "\n",
    "<center> <h1 style=\"background-color:seagreen; color:white\" >Avaliação do Modelo usando PySpark</h1></center> \n",
    "<br>\n"
   ]
  },
  {
   "cell_type": "code",
   "execution_count": 18,
   "id": "c973e6e6",
   "metadata": {},
   "outputs": [],
   "source": [
    "from pyspark.ml.evaluation import MulticlassClassificationEvaluator"
   ]
  },
  {
   "cell_type": "code",
   "execution_count": 20,
   "id": "9b36650f",
   "metadata": {},
   "outputs": [
    {
     "name": "stdout",
     "output_type": "stream",
     "text": [
      "Acurácia do MOdelo: 0.9705882352941176\n"
     ]
    }
   ],
   "source": [
    "performace = MulticlassClassificationEvaluator(labelCol=\"dependente\",\n",
    "                                               predictionCol=\"prediction\",\n",
    "                                               metricName=\"accuracy\")\n",
    "acuracia = performace.evaluate(previsao)\n",
    "print(f\"Acurácia do MOdelo: {acuracia}\")"
   ]
  },
  {
   "cell_type": "code",
   "execution_count": null,
   "id": "dacc0242",
   "metadata": {},
   "outputs": [],
   "source": []
  }
 ],
 "metadata": {
  "kernelspec": {
   "display_name": "Python 3 (ipykernel)",
   "language": "python",
   "name": "python3"
  },
  "language_info": {
   "codemirror_mode": {
    "name": "ipython",
    "version": 3
   },
   "file_extension": ".py",
   "mimetype": "text/x-python",
   "name": "python",
   "nbconvert_exporter": "python",
   "pygments_lexer": "ipython3",
   "version": "3.10.8"
  }
 },
 "nbformat": 4,
 "nbformat_minor": 5
}
