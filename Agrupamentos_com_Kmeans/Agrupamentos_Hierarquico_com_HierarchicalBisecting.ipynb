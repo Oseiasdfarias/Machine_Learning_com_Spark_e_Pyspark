{
 "cells": [
  {
   "cell_type": "markdown",
   "id": "c64e677e",
   "metadata": {},
   "source": [
    "<center> <h1 style=\"background-color:seagreen; color:white\" >Agrupamento Hierárquico com HierarchicalBisecting com Spark usando PySpark</h1></center>  \n",
    "\n",
    "> + **Aglomerativa**: começa com pontos em grupos individuais e a cada etapa funde os pares mais próximos. Requer uma noção de proximidade. Mais comuns. \n",
    "> + **Divisiva**: Começa incluindo todos, e a cada etapa divide até que reste apenas grupos únicos\n",
    "\n",
    "<img src=\"diagrama.png\" alt=\"Cluster Hierárquico\" width=\"500\" height=\"300\">\n",
    "\n",
    "<center> <h2 style=\"background-color:DarkKhaki; color:white\" >Inicializando o PySpark</h2></center> "
   ]
  },
  {
   "cell_type": "code",
   "execution_count": 2,
   "id": "3ecfeb6e",
   "metadata": {},
   "outputs": [],
   "source": [
    "import findspark\n",
    "import pyspark\n",
    "from pyspark.sql import SparkSession\n",
    "\n",
    "# Faz a Interafce entre o Spark e o Jupyter Notebook\n",
    "findspark.init()\n",
    "\n",
    "# Inicializando uma Sessão no Spark\n",
    "spark = SparkSession.builder.appName(\"HierarchicalBisecting\").getOrCreate()"
   ]
  },
  {
   "cell_type": "markdown",
   "id": "d09d23be",
   "metadata": {},
   "source": [
    "<center> <h3 style=\"background-color:#ECF7AE; color:#3F403D\" >Hiper Parâmetros</h3></center> \n",
    "\n",
    "\n",
    "> + **distanceMeasure**: Medida de distância: Opções: “euclidean” e “cosine”. (padrão: euclidean)\n",
    "> + **k**: Número de clusters. (padrão: 4)\n",
    "> + **maxIter**: número máximo de iteração. (padrão: 20)\n",
    "> + **minDivisibleClusterSize**: o número minimo de divisões se >=1 ou a proporção minima se <1 (padrão: 1)\n",
    "\n",
    "\n"
   ]
  },
  {
   "cell_type": "markdown",
   "id": "c2dcc5fc",
   "metadata": {},
   "source": [
    "---\n",
    "\n",
    "<center> <h1 style=\"background-color:seagreen; color:white\" >Aplicando Agrupamento Hierárquico com HierarchicalBisecting  no DataSet Íris</h1></center>\n",
    "\n"
   ]
  },
  {
   "cell_type": "markdown",
   "id": "85f45af4",
   "metadata": {},
   "source": [
    "<center> <h3 style=\"background-color:#ECF7AE; color:#3F403D\" >Carregando o Cunjunto de Dados Íris</h3></center> "
   ]
  },
  {
   "cell_type": "code",
   "execution_count": 7,
   "id": "a673a559",
   "metadata": {
    "scrolled": true
   },
   "outputs": [
    {
     "name": "stdout",
     "output_type": "stream",
     "text": [
      "Quantidade de Registros do Dataset: 150\n",
      "+-----------+----------+-----------+----------+-----------+\n",
      "|sepallength|sepalwidth|petallength|petalwidth|      class|\n",
      "+-----------+----------+-----------+----------+-----------+\n",
      "|        5.1|       3.5|        1.4|       0.2|Iris-setosa|\n",
      "|        4.9|       3.0|        1.4|       0.2|Iris-setosa|\n",
      "|        4.7|       3.2|        1.3|       0.2|Iris-setosa|\n",
      "|        4.6|       3.1|        1.5|       0.2|Iris-setosa|\n",
      "|        5.0|       3.6|        1.4|       0.2|Iris-setosa|\n",
      "+-----------+----------+-----------+----------+-----------+\n",
      "only showing top 5 rows\n",
      "\n"
     ]
    }
   ],
   "source": [
    "iris = spark.read.csv(\"../Material_do_Curso/iris.csv\",\n",
    "                             header=True, inferSchema=True, sep=\",\")\n",
    "print(f\"Quantidade de Registros do Dataset: {iris.count()}\")\n",
    "iris.show(5, truncate=True)"
   ]
  },
  {
   "cell_type": "markdown",
   "id": "4a006167",
   "metadata": {},
   "source": [
    "<center> <h2 style=\"background-color:DarkKhaki; color:white\" >Escolha das Variáveis Independentes e Dependente para treinamento do Modelo</h2></center> \n"
   ]
  },
  {
   "cell_type": "markdown",
   "id": "b3925284",
   "metadata": {},
   "source": [
    "<center> <h3 style=\"background-color:#ECF7AE; color:#3F403D\" >Importação do Módulo do PySpark Para o Pré-Processamento dos Dados</h3></center> "
   ]
  },
  {
   "cell_type": "code",
   "execution_count": 8,
   "id": "5bfe6db4",
   "metadata": {},
   "outputs": [],
   "source": [
    "from pyspark.ml.feature import VectorAssembler"
   ]
  },
  {
   "cell_type": "code",
   "execution_count": 9,
   "id": "fba2d42f",
   "metadata": {},
   "outputs": [
    {
     "name": "stderr",
     "output_type": "stream",
     "text": [
      "\r",
      "[Stage 18:>                                                         (0 + 1) / 1]\r"
     ]
    },
    {
     "name": "stdout",
     "output_type": "stream",
     "text": [
      "+-----------+----------+-----------+----------+-----------+-----------------+\n",
      "|sepallength|sepalwidth|petallength|petalwidth|class      |features         |\n",
      "+-----------+----------+-----------+----------+-----------+-----------------+\n",
      "|5.1        |3.5       |1.4        |0.2       |Iris-setosa|[5.1,3.5,1.4,0.2]|\n",
      "|4.9        |3.0       |1.4        |0.2       |Iris-setosa|[4.9,3.0,1.4,0.2]|\n",
      "|4.7        |3.2       |1.3        |0.2       |Iris-setosa|[4.7,3.2,1.3,0.2]|\n",
      "|4.6        |3.1       |1.5        |0.2       |Iris-setosa|[4.6,3.1,1.5,0.2]|\n",
      "|5.0        |3.6       |1.4        |0.2       |Iris-setosa|[5.0,3.6,1.4,0.2]|\n",
      "+-----------+----------+-----------+----------+-----------+-----------------+\n",
      "only showing top 5 rows\n",
      "\n"
     ]
    },
    {
     "name": "stderr",
     "output_type": "stream",
     "text": [
      "\r",
      "                                                                                \r"
     ]
    }
   ],
   "source": [
    "# Colocando os dados no Formato de dataframe do Spark usando o VectorAssembler\n",
    "asb = VectorAssembler(inputCols=[\"sepallength\", \"sepalwidth\",\n",
    "                                      \"petallength\", \"petalwidth\"],\n",
    "                      outputCol=\"features\")\n",
    "iris_rf = asb.transform(iris)\n",
    "iris_rf.show(5, truncate=False)"
   ]
  },
  {
   "cell_type": "code",
   "execution_count": 12,
   "id": "80a9352c",
   "metadata": {},
   "outputs": [],
   "source": [
    "from pyspark.ml.feature import StringIndexer"
   ]
  },
  {
   "cell_type": "code",
   "execution_count": 13,
   "id": "a29c7273",
   "metadata": {
    "scrolled": false
   },
   "outputs": [
    {
     "name": "stdout",
     "output_type": "stream",
     "text": [
      "+-----------+----------+-----------+----------+-----------+-----------------+------+\n",
      "|sepallength|sepalwidth|petallength|petalwidth|class      |features         |grupos|\n",
      "+-----------+----------+-----------+----------+-----------+-----------------+------+\n",
      "|5.1        |3.5       |1.4        |0.2       |Iris-setosa|[5.1,3.5,1.4,0.2]|0.0   |\n",
      "|4.9        |3.0       |1.4        |0.2       |Iris-setosa|[4.9,3.0,1.4,0.2]|0.0   |\n",
      "|4.7        |3.2       |1.3        |0.2       |Iris-setosa|[4.7,3.2,1.3,0.2]|0.0   |\n",
      "|4.6        |3.1       |1.5        |0.2       |Iris-setosa|[4.6,3.1,1.5,0.2]|0.0   |\n",
      "|5.0        |3.6       |1.4        |0.2       |Iris-setosa|[5.0,3.6,1.4,0.2]|0.0   |\n",
      "+-----------+----------+-----------+----------+-----------+-----------------+------+\n",
      "only showing top 5 rows\n",
      "\n"
     ]
    }
   ],
   "source": [
    "idx = StringIndexer(inputCol=\"class\", outputCol=\"grupos\")\n",
    "iris_rfsi = idx.fit(iris_rf).transform(iris_rf)\n",
    "iris_rfsi.show(5, truncate=False)"
   ]
  },
  {
   "cell_type": "markdown",
   "id": "82ea0f9c",
   "metadata": {},
   "source": [
    "<center> <h3 style=\"background-color:#ECF7AE; color:#3F403D\" >Convertendo os valores float da coluna grupos para inteiro</h3></center> "
   ]
  },
  {
   "cell_type": "code",
   "execution_count": 14,
   "id": "c51f3861",
   "metadata": {},
   "outputs": [
    {
     "name": "stdout",
     "output_type": "stream",
     "text": [
      "+-----------+----------+-----------+----------+-----------+-----------------+------+\n",
      "|sepallength|sepalwidth|petallength|petalwidth|      class|         features|grupos|\n",
      "+-----------+----------+-----------+----------+-----------+-----------------+------+\n",
      "|        5.1|       3.5|        1.4|       0.2|Iris-setosa|[5.1,3.5,1.4,0.2]|     0|\n",
      "|        4.9|       3.0|        1.4|       0.2|Iris-setosa|[4.9,3.0,1.4,0.2]|     0|\n",
      "|        4.7|       3.2|        1.3|       0.2|Iris-setosa|[4.7,3.2,1.3,0.2]|     0|\n",
      "|        4.6|       3.1|        1.5|       0.2|Iris-setosa|[4.6,3.1,1.5,0.2]|     0|\n",
      "|        5.0|       3.6|        1.4|       0.2|Iris-setosa|[5.0,3.6,1.4,0.2]|     0|\n",
      "+-----------+----------+-----------+----------+-----------+-----------------+------+\n",
      "only showing top 5 rows\n",
      "\n"
     ]
    }
   ],
   "source": [
    "from pyspark.sql.functions import col\n",
    "from pyspark.sql.types import IntegerType\n",
    "\n",
    "iris_rfsi = iris_rfsi.withColumn(\"grupos\", iris_rfsi[\"grupos\"].cast(IntegerType()))\n",
    "iris_rfsi.show(5)"
   ]
  },
  {
   "cell_type": "markdown",
   "id": "7f6b5bf6",
   "metadata": {},
   "source": [
    "---\n",
    "\n",
    "\n",
    "<center> <h3 style=\"background-color:#ECF7AE; color:#3F403D\" > Importação do Módulo do PySpark Para Criação do Modelo de Agrupamentos com Kmeans</h3></center> \n"
   ]
  },
  {
   "cell_type": "code",
   "execution_count": 15,
   "id": "81b15be7",
   "metadata": {},
   "outputs": [],
   "source": [
    "from pyspark.ml.clustering import BisectingKMeans"
   ]
  },
  {
   "cell_type": "markdown",
   "id": "01232e6e",
   "metadata": {},
   "source": [
    "#### Instanciando Objeto e criando o Modelo"
   ]
  },
  {
   "cell_type": "code",
   "execution_count": 16,
   "id": "96d8cdae",
   "metadata": {
    "scrolled": false
   },
   "outputs": [
    {
     "name": "stderr",
     "output_type": "stream",
     "text": [
      "                                                                                \r"
     ]
    }
   ],
   "source": [
    "# Instanciando o objeto BisectingKMeans\n",
    "obj_bkm = BisectingKMeans(featuresCol=\"features\", predictionCol=\"pre_grupo\", maxIter=100, k=3)\n",
    "\n",
    "# Criando o Modelo\n",
    "model_bkm = obj_bkm.fit(iris_rfsi)"
   ]
  },
  {
   "cell_type": "code",
   "execution_count": 17,
   "id": "2de91b5d",
   "metadata": {},
   "outputs": [],
   "source": [
    "grupos = model_bkm.transform(iris_rfsi)"
   ]
  },
  {
   "cell_type": "code",
   "execution_count": 18,
   "id": "1709c4a0",
   "metadata": {},
   "outputs": [
    {
     "name": "stdout",
     "output_type": "stream",
     "text": [
      "+-----------+----------+-----------+----------+---------------+-----------------+------+---------+\n",
      "|sepallength|sepalwidth|petallength|petalwidth|          class|         features|grupos|pre_grupo|\n",
      "+-----------+----------+-----------+----------+---------------+-----------------+------+---------+\n",
      "|        5.1|       3.5|        1.4|       0.2|    Iris-setosa|[5.1,3.5,1.4,0.2]|     0|        0|\n",
      "|        4.9|       3.0|        1.4|       0.2|    Iris-setosa|[4.9,3.0,1.4,0.2]|     0|        0|\n",
      "|        4.7|       3.2|        1.3|       0.2|    Iris-setosa|[4.7,3.2,1.3,0.2]|     0|        0|\n",
      "|        4.6|       3.1|        1.5|       0.2|    Iris-setosa|[4.6,3.1,1.5,0.2]|     0|        0|\n",
      "|        5.0|       3.6|        1.4|       0.2|    Iris-setosa|[5.0,3.6,1.4,0.2]|     0|        0|\n",
      "|        5.4|       3.9|        1.7|       0.4|    Iris-setosa|[5.4,3.9,1.7,0.4]|     0|        0|\n",
      "|        4.6|       3.4|        1.4|       0.3|    Iris-setosa|[4.6,3.4,1.4,0.3]|     0|        0|\n",
      "|        5.0|       3.4|        1.5|       0.2|    Iris-setosa|[5.0,3.4,1.5,0.2]|     0|        0|\n",
      "|        4.4|       2.9|        1.4|       0.2|    Iris-setosa|[4.4,2.9,1.4,0.2]|     0|        0|\n",
      "|        4.9|       3.1|        1.5|       0.1|    Iris-setosa|[4.9,3.1,1.5,0.1]|     0|        0|\n",
      "|        5.4|       3.7|        1.5|       0.2|    Iris-setosa|[5.4,3.7,1.5,0.2]|     0|        0|\n",
      "|        4.8|       3.4|        1.6|       0.2|    Iris-setosa|[4.8,3.4,1.6,0.2]|     0|        0|\n",
      "|        4.8|       3.0|        1.4|       0.1|    Iris-setosa|[4.8,3.0,1.4,0.1]|     0|        0|\n",
      "|        4.3|       3.0|        1.1|       0.1|    Iris-setosa|[4.3,3.0,1.1,0.1]|     0|        0|\n",
      "|        5.8|       4.0|        1.2|       0.2|    Iris-setosa|[5.8,4.0,1.2,0.2]|     0|        0|\n",
      "|        5.7|       4.4|        1.5|       0.4|    Iris-setosa|[5.7,4.4,1.5,0.4]|     0|        0|\n",
      "|        5.4|       3.9|        1.3|       0.4|    Iris-setosa|[5.4,3.9,1.3,0.4]|     0|        0|\n",
      "|        5.1|       3.5|        1.4|       0.3|    Iris-setosa|[5.1,3.5,1.4,0.3]|     0|        0|\n",
      "|        5.7|       3.8|        1.7|       0.3|    Iris-setosa|[5.7,3.8,1.7,0.3]|     0|        0|\n",
      "|        5.1|       3.8|        1.5|       0.3|    Iris-setosa|[5.1,3.8,1.5,0.3]|     0|        0|\n",
      "|        5.4|       3.4|        1.7|       0.2|    Iris-setosa|[5.4,3.4,1.7,0.2]|     0|        0|\n",
      "|        5.1|       3.7|        1.5|       0.4|    Iris-setosa|[5.1,3.7,1.5,0.4]|     0|        0|\n",
      "|        4.6|       3.6|        1.0|       0.2|    Iris-setosa|[4.6,3.6,1.0,0.2]|     0|        0|\n",
      "|        5.1|       3.3|        1.7|       0.5|    Iris-setosa|[5.1,3.3,1.7,0.5]|     0|        0|\n",
      "|        4.8|       3.4|        1.9|       0.2|    Iris-setosa|[4.8,3.4,1.9,0.2]|     0|        0|\n",
      "|        5.0|       3.0|        1.6|       0.2|    Iris-setosa|[5.0,3.0,1.6,0.2]|     0|        0|\n",
      "|        5.0|       3.4|        1.6|       0.4|    Iris-setosa|[5.0,3.4,1.6,0.4]|     0|        0|\n",
      "|        5.2|       3.5|        1.5|       0.2|    Iris-setosa|[5.2,3.5,1.5,0.2]|     0|        0|\n",
      "|        5.2|       3.4|        1.4|       0.2|    Iris-setosa|[5.2,3.4,1.4,0.2]|     0|        0|\n",
      "|        4.7|       3.2|        1.6|       0.2|    Iris-setosa|[4.7,3.2,1.6,0.2]|     0|        0|\n",
      "|        4.8|       3.1|        1.6|       0.2|    Iris-setosa|[4.8,3.1,1.6,0.2]|     0|        0|\n",
      "|        5.4|       3.4|        1.5|       0.4|    Iris-setosa|[5.4,3.4,1.5,0.4]|     0|        0|\n",
      "|        5.2|       4.1|        1.5|       0.1|    Iris-setosa|[5.2,4.1,1.5,0.1]|     0|        0|\n",
      "|        5.5|       4.2|        1.4|       0.2|    Iris-setosa|[5.5,4.2,1.4,0.2]|     0|        0|\n",
      "|        4.9|       3.1|        1.5|       0.1|    Iris-setosa|[4.9,3.1,1.5,0.1]|     0|        0|\n",
      "|        5.0|       3.2|        1.2|       0.2|    Iris-setosa|[5.0,3.2,1.2,0.2]|     0|        0|\n",
      "|        5.5|       3.5|        1.3|       0.2|    Iris-setosa|[5.5,3.5,1.3,0.2]|     0|        0|\n",
      "|        4.9|       3.1|        1.5|       0.1|    Iris-setosa|[4.9,3.1,1.5,0.1]|     0|        0|\n",
      "|        4.4|       3.0|        1.3|       0.2|    Iris-setosa|[4.4,3.0,1.3,0.2]|     0|        0|\n",
      "|        5.1|       3.4|        1.5|       0.2|    Iris-setosa|[5.1,3.4,1.5,0.2]|     0|        0|\n",
      "|        5.0|       3.5|        1.3|       0.3|    Iris-setosa|[5.0,3.5,1.3,0.3]|     0|        0|\n",
      "|        4.5|       2.3|        1.3|       0.3|    Iris-setosa|[4.5,2.3,1.3,0.3]|     0|        0|\n",
      "|        4.4|       3.2|        1.3|       0.2|    Iris-setosa|[4.4,3.2,1.3,0.2]|     0|        0|\n",
      "|        5.0|       3.5|        1.6|       0.6|    Iris-setosa|[5.0,3.5,1.6,0.6]|     0|        0|\n",
      "|        5.1|       3.8|        1.9|       0.4|    Iris-setosa|[5.1,3.8,1.9,0.4]|     0|        0|\n",
      "|        4.8|       3.0|        1.4|       0.3|    Iris-setosa|[4.8,3.0,1.4,0.3]|     0|        0|\n",
      "|        5.1|       3.8|        1.6|       0.2|    Iris-setosa|[5.1,3.8,1.6,0.2]|     0|        0|\n",
      "|        4.6|       3.2|        1.4|       0.2|    Iris-setosa|[4.6,3.2,1.4,0.2]|     0|        0|\n",
      "|        5.3|       3.7|        1.5|       0.2|    Iris-setosa|[5.3,3.7,1.5,0.2]|     0|        0|\n",
      "|        5.0|       3.3|        1.4|       0.2|    Iris-setosa|[5.0,3.3,1.4,0.2]|     0|        0|\n",
      "|        7.0|       3.2|        4.7|       1.4|Iris-versicolor|[7.0,3.2,4.7,1.4]|     1|        1|\n",
      "|        6.4|       3.2|        4.5|       1.5|Iris-versicolor|[6.4,3.2,4.5,1.5]|     1|        1|\n",
      "|        6.9|       3.1|        4.9|       1.5|Iris-versicolor|[6.9,3.1,4.9,1.5]|     1|        2|\n",
      "|        5.5|       2.3|        4.0|       1.3|Iris-versicolor|[5.5,2.3,4.0,1.3]|     1|        1|\n",
      "|        6.5|       2.8|        4.6|       1.5|Iris-versicolor|[6.5,2.8,4.6,1.5]|     1|        1|\n",
      "|        5.7|       2.8|        4.5|       1.3|Iris-versicolor|[5.7,2.8,4.5,1.3]|     1|        1|\n",
      "|        6.3|       3.3|        4.7|       1.6|Iris-versicolor|[6.3,3.3,4.7,1.6]|     1|        1|\n",
      "|        4.9|       2.4|        3.3|       1.0|Iris-versicolor|[4.9,2.4,3.3,1.0]|     1|        0|\n",
      "|        6.6|       2.9|        4.6|       1.3|Iris-versicolor|[6.6,2.9,4.6,1.3]|     1|        1|\n",
      "|        5.2|       2.7|        3.9|       1.4|Iris-versicolor|[5.2,2.7,3.9,1.4]|     1|        1|\n",
      "|        5.0|       2.0|        3.5|       1.0|Iris-versicolor|[5.0,2.0,3.5,1.0]|     1|        1|\n",
      "|        5.9|       3.0|        4.2|       1.5|Iris-versicolor|[5.9,3.0,4.2,1.5]|     1|        1|\n",
      "|        6.0|       2.2|        4.0|       1.0|Iris-versicolor|[6.0,2.2,4.0,1.0]|     1|        1|\n",
      "|        6.1|       2.9|        4.7|       1.4|Iris-versicolor|[6.1,2.9,4.7,1.4]|     1|        1|\n",
      "|        5.6|       2.9|        3.6|       1.3|Iris-versicolor|[5.6,2.9,3.6,1.3]|     1|        1|\n",
      "|        6.7|       3.1|        4.4|       1.4|Iris-versicolor|[6.7,3.1,4.4,1.4]|     1|        1|\n",
      "|        5.6|       3.0|        4.5|       1.5|Iris-versicolor|[5.6,3.0,4.5,1.5]|     1|        1|\n",
      "|        5.8|       2.7|        4.1|       1.0|Iris-versicolor|[5.8,2.7,4.1,1.0]|     1|        1|\n",
      "|        6.2|       2.2|        4.5|       1.5|Iris-versicolor|[6.2,2.2,4.5,1.5]|     1|        1|\n",
      "|        5.6|       2.5|        3.9|       1.1|Iris-versicolor|[5.6,2.5,3.9,1.1]|     1|        1|\n",
      "|        5.9|       3.2|        4.8|       1.8|Iris-versicolor|[5.9,3.2,4.8,1.8]|     1|        1|\n",
      "|        6.1|       2.8|        4.0|       1.3|Iris-versicolor|[6.1,2.8,4.0,1.3]|     1|        1|\n",
      "|        6.3|       2.5|        4.9|       1.5|Iris-versicolor|[6.3,2.5,4.9,1.5]|     1|        1|\n",
      "|        6.1|       2.8|        4.7|       1.2|Iris-versicolor|[6.1,2.8,4.7,1.2]|     1|        1|\n",
      "|        6.4|       2.9|        4.3|       1.3|Iris-versicolor|[6.4,2.9,4.3,1.3]|     1|        1|\n",
      "|        6.6|       3.0|        4.4|       1.4|Iris-versicolor|[6.6,3.0,4.4,1.4]|     1|        1|\n",
      "|        6.8|       2.8|        4.8|       1.4|Iris-versicolor|[6.8,2.8,4.8,1.4]|     1|        1|\n",
      "|        6.7|       3.0|        5.0|       1.7|Iris-versicolor|[6.7,3.0,5.0,1.7]|     1|        2|\n",
      "|        6.0|       2.9|        4.5|       1.5|Iris-versicolor|[6.0,2.9,4.5,1.5]|     1|        1|\n",
      "|        5.7|       2.6|        3.5|       1.0|Iris-versicolor|[5.7,2.6,3.5,1.0]|     1|        1|\n",
      "|        5.5|       2.4|        3.8|       1.1|Iris-versicolor|[5.5,2.4,3.8,1.1]|     1|        1|\n",
      "|        5.5|       2.4|        3.7|       1.0|Iris-versicolor|[5.5,2.4,3.7,1.0]|     1|        1|\n",
      "|        5.8|       2.7|        3.9|       1.2|Iris-versicolor|[5.8,2.7,3.9,1.2]|     1|        1|\n",
      "|        6.0|       2.7|        5.1|       1.6|Iris-versicolor|[6.0,2.7,5.1,1.6]|     1|        1|\n",
      "|        5.4|       3.0|        4.5|       1.5|Iris-versicolor|[5.4,3.0,4.5,1.5]|     1|        1|\n",
      "|        6.0|       3.4|        4.5|       1.6|Iris-versicolor|[6.0,3.4,4.5,1.6]|     1|        1|\n",
      "|        6.7|       3.1|        4.7|       1.5|Iris-versicolor|[6.7,3.1,4.7,1.5]|     1|        1|\n",
      "|        6.3|       2.3|        4.4|       1.3|Iris-versicolor|[6.3,2.3,4.4,1.3]|     1|        1|\n",
      "|        5.6|       3.0|        4.1|       1.3|Iris-versicolor|[5.6,3.0,4.1,1.3]|     1|        1|\n",
      "|        5.5|       2.5|        4.0|       1.3|Iris-versicolor|[5.5,2.5,4.0,1.3]|     1|        1|\n",
      "|        5.5|       2.6|        4.4|       1.2|Iris-versicolor|[5.5,2.6,4.4,1.2]|     1|        1|\n",
      "|        6.1|       3.0|        4.6|       1.4|Iris-versicolor|[6.1,3.0,4.6,1.4]|     1|        1|\n",
      "|        5.8|       2.6|        4.0|       1.2|Iris-versicolor|[5.8,2.6,4.0,1.2]|     1|        1|\n",
      "|        5.0|       2.3|        3.3|       1.0|Iris-versicolor|[5.0,2.3,3.3,1.0]|     1|        0|\n",
      "|        5.6|       2.7|        4.2|       1.3|Iris-versicolor|[5.6,2.7,4.2,1.3]|     1|        1|\n",
      "|        5.7|       3.0|        4.2|       1.2|Iris-versicolor|[5.7,3.0,4.2,1.2]|     1|        1|\n",
      "|        5.7|       2.9|        4.2|       1.3|Iris-versicolor|[5.7,2.9,4.2,1.3]|     1|        1|\n",
      "|        6.2|       2.9|        4.3|       1.3|Iris-versicolor|[6.2,2.9,4.3,1.3]|     1|        1|\n",
      "|        5.1|       2.5|        3.0|       1.1|Iris-versicolor|[5.1,2.5,3.0,1.1]|     1|        0|\n",
      "|        5.7|       2.8|        4.1|       1.3|Iris-versicolor|[5.7,2.8,4.1,1.3]|     1|        1|\n",
      "|        6.3|       3.3|        6.0|       2.5| Iris-virginica|[6.3,3.3,6.0,2.5]|     2|        2|\n",
      "|        5.8|       2.7|        5.1|       1.9| Iris-virginica|[5.8,2.7,5.1,1.9]|     2|        1|\n",
      "|        7.1|       3.0|        5.9|       2.1| Iris-virginica|[7.1,3.0,5.9,2.1]|     2|        2|\n",
      "|        6.3|       2.9|        5.6|       1.8| Iris-virginica|[6.3,2.9,5.6,1.8]|     2|        2|\n",
      "|        6.5|       3.0|        5.8|       2.2| Iris-virginica|[6.5,3.0,5.8,2.2]|     2|        2|\n",
      "|        7.6|       3.0|        6.6|       2.1| Iris-virginica|[7.6,3.0,6.6,2.1]|     2|        2|\n",
      "|        4.9|       2.5|        4.5|       1.7| Iris-virginica|[4.9,2.5,4.5,1.7]|     2|        1|\n",
      "|        7.3|       2.9|        6.3|       1.8| Iris-virginica|[7.3,2.9,6.3,1.8]|     2|        2|\n",
      "|        6.7|       2.5|        5.8|       1.8| Iris-virginica|[6.7,2.5,5.8,1.8]|     2|        2|\n",
      "|        7.2|       3.6|        6.1|       2.5| Iris-virginica|[7.2,3.6,6.1,2.5]|     2|        2|\n",
      "|        6.5|       3.2|        5.1|       2.0| Iris-virginica|[6.5,3.2,5.1,2.0]|     2|        2|\n",
      "|        6.4|       2.7|        5.3|       1.9| Iris-virginica|[6.4,2.7,5.3,1.9]|     2|        2|\n",
      "|        6.8|       3.0|        5.5|       2.1| Iris-virginica|[6.8,3.0,5.5,2.1]|     2|        2|\n",
      "|        5.7|       2.5|        5.0|       2.0| Iris-virginica|[5.7,2.5,5.0,2.0]|     2|        1|\n",
      "|        5.8|       2.8|        5.1|       2.4| Iris-virginica|[5.8,2.8,5.1,2.4]|     2|        1|\n",
      "|        6.4|       3.2|        5.3|       2.3| Iris-virginica|[6.4,3.2,5.3,2.3]|     2|        2|\n",
      "|        6.5|       3.0|        5.5|       1.8| Iris-virginica|[6.5,3.0,5.5,1.8]|     2|        2|\n",
      "|        7.7|       3.8|        6.7|       2.2| Iris-virginica|[7.7,3.8,6.7,2.2]|     2|        2|\n",
      "|        7.7|       2.6|        6.9|       2.3| Iris-virginica|[7.7,2.6,6.9,2.3]|     2|        2|\n",
      "|        6.0|       2.2|        5.0|       1.5| Iris-virginica|[6.0,2.2,5.0,1.5]|     2|        1|\n",
      "|        6.9|       3.2|        5.7|       2.3| Iris-virginica|[6.9,3.2,5.7,2.3]|     2|        2|\n",
      "|        5.6|       2.8|        4.9|       2.0| Iris-virginica|[5.6,2.8,4.9,2.0]|     2|        1|\n",
      "|        7.7|       2.8|        6.7|       2.0| Iris-virginica|[7.7,2.8,6.7,2.0]|     2|        2|\n",
      "|        6.3|       2.7|        4.9|       1.8| Iris-virginica|[6.3,2.7,4.9,1.8]|     2|        1|\n",
      "|        6.7|       3.3|        5.7|       2.1| Iris-virginica|[6.7,3.3,5.7,2.1]|     2|        2|\n",
      "|        7.2|       3.2|        6.0|       1.8| Iris-virginica|[7.2,3.2,6.0,1.8]|     2|        2|\n",
      "|        6.2|       2.8|        4.8|       1.8| Iris-virginica|[6.2,2.8,4.8,1.8]|     2|        1|\n",
      "|        6.1|       3.0|        4.9|       1.8| Iris-virginica|[6.1,3.0,4.9,1.8]|     2|        1|\n",
      "|        6.4|       2.8|        5.6|       2.1| Iris-virginica|[6.4,2.8,5.6,2.1]|     2|        2|\n",
      "|        7.2|       3.0|        5.8|       1.6| Iris-virginica|[7.2,3.0,5.8,1.6]|     2|        2|\n",
      "|        7.4|       2.8|        6.1|       1.9| Iris-virginica|[7.4,2.8,6.1,1.9]|     2|        2|\n",
      "|        7.9|       3.8|        6.4|       2.0| Iris-virginica|[7.9,3.8,6.4,2.0]|     2|        2|\n",
      "|        6.4|       2.8|        5.6|       2.2| Iris-virginica|[6.4,2.8,5.6,2.2]|     2|        2|\n",
      "|        6.3|       2.8|        5.1|       1.5| Iris-virginica|[6.3,2.8,5.1,1.5]|     2|        1|\n",
      "|        6.1|       2.6|        5.6|       1.4| Iris-virginica|[6.1,2.6,5.6,1.4]|     2|        2|\n",
      "|        7.7|       3.0|        6.1|       2.3| Iris-virginica|[7.7,3.0,6.1,2.3]|     2|        2|\n",
      "|        6.3|       3.4|        5.6|       2.4| Iris-virginica|[6.3,3.4,5.6,2.4]|     2|        2|\n",
      "|        6.4|       3.1|        5.5|       1.8| Iris-virginica|[6.4,3.1,5.5,1.8]|     2|        2|\n",
      "|        6.0|       3.0|        4.8|       1.8| Iris-virginica|[6.0,3.0,4.8,1.8]|     2|        1|\n",
      "|        6.9|       3.1|        5.4|       2.1| Iris-virginica|[6.9,3.1,5.4,2.1]|     2|        2|\n",
      "|        6.7|       3.1|        5.6|       2.4| Iris-virginica|[6.7,3.1,5.6,2.4]|     2|        2|\n",
      "|        6.9|       3.1|        5.1|       2.3| Iris-virginica|[6.9,3.1,5.1,2.3]|     2|        2|\n",
      "|        5.8|       2.7|        5.1|       1.9| Iris-virginica|[5.8,2.7,5.1,1.9]|     2|        1|\n",
      "|        6.8|       3.2|        5.9|       2.3| Iris-virginica|[6.8,3.2,5.9,2.3]|     2|        2|\n",
      "|        6.7|       3.3|        5.7|       2.5| Iris-virginica|[6.7,3.3,5.7,2.5]|     2|        2|\n",
      "|        6.7|       3.0|        5.2|       2.3| Iris-virginica|[6.7,3.0,5.2,2.3]|     2|        2|\n",
      "|        6.3|       2.5|        5.0|       1.9| Iris-virginica|[6.3,2.5,5.0,1.9]|     2|        1|\n",
      "|        6.5|       3.0|        5.2|       2.0| Iris-virginica|[6.5,3.0,5.2,2.0]|     2|        2|\n",
      "|        6.2|       3.4|        5.4|       2.3| Iris-virginica|[6.2,3.4,5.4,2.3]|     2|        2|\n",
      "|        5.9|       3.0|        5.1|       1.8| Iris-virginica|[5.9,3.0,5.1,1.8]|     2|        1|\n",
      "+-----------+----------+-----------+----------+---------------+-----------------+------+---------+\n",
      "\n"
     ]
    }
   ],
   "source": [
    "grupos.show(150)"
   ]
  },
  {
   "cell_type": "markdown",
   "id": "c24c55a3",
   "metadata": {},
   "source": [
    "---\n",
    "\n",
    "<center> <h1 style=\"background-color:seagreen; color:white\" >Avaliando o Modelo</h1></center> \n",
    "<br>\n",
    "\n"
   ]
  },
  {
   "cell_type": "markdown",
   "id": "502306b8",
   "metadata": {},
   "source": [
    "<center> <h3 style=\"background-color:#ECF7AE; color:#3F403D\" >Avaliação usando a Confusion Matrix e Accuracy Score</h3></center> "
   ]
  },
  {
   "cell_type": "code",
   "execution_count": 20,
   "id": "68feac88",
   "metadata": {
    "scrolled": false
   },
   "outputs": [
    {
     "name": "stdout",
     "output_type": "stream",
     "text": [
      "[[50  0  0]\n",
      " [ 3 45  2]\n",
      " [ 0 14 36]]\n"
     ]
    }
   ],
   "source": [
    "classe = grupos.select(\"grupos\").collect()\n",
    "agrupado = grupos.select(\"pre_grupo\").collect()\n",
    "\n",
    "from sklearn.metrics import confusion_matrix, accuracy_score\n",
    "\n",
    "cm = confusion_matrix(classe, agrupado)\n",
    "print(cm)"
   ]
  },
  {
   "cell_type": "code",
   "execution_count": 24,
   "id": "80516abf",
   "metadata": {},
   "outputs": [
    {
     "name": "stdout",
     "output_type": "stream",
     "text": [
      "Acurácia: 0.8733333333333333\n"
     ]
    }
   ],
   "source": [
    "acuracia = accuracy_score(classe, agrupado)\n",
    "print(f\"Acurácia: {acuracia}\")"
   ]
  },
  {
   "cell_type": "code",
   "execution_count": 22,
   "id": "74771040",
   "metadata": {},
   "outputs": [
    {
     "name": "stdout",
     "output_type": "stream",
     "text": [
      "Acurácia: 0.8733333333333333\n"
     ]
    }
   ],
   "source": [
    "acuracia = (cm[0, 0] + cm[1, 1] + cm[2, 2])/150\n",
    "print(f\"Acurácia: {acuracia}\")"
   ]
  },
  {
   "cell_type": "markdown",
   "id": "d4c664e5",
   "metadata": {},
   "source": [
    "<center> <h3 style=\"background-color:#ECF7AE; color:#3F403D\" >Avaliação usando a Confusion Matrix e Accuracy Score</h3></center> \n",
    "\n",
    "\n",
    "> + Coeficiente Silhouette\n",
    "> + Medida do quanto cada ponto em um cluster está próximo do cluster vizinho\n",
    "> + Valor entre -1 e 1\n",
    "> + Próximo a 0 indica que os pontos estão próximos do limite\n",
    "> + Próximo a 1 indica que os pontos estão distantes do cluster vizinho\n",
    "> + Próximo a -1 indica que os pontos estão no cluster errado"
   ]
  },
  {
   "cell_type": "code",
   "execution_count": 25,
   "id": "860a1c12",
   "metadata": {},
   "outputs": [],
   "source": [
    "from pyspark.ml.evaluation import ClusteringEvaluator"
   ]
  },
  {
   "cell_type": "code",
   "execution_count": 26,
   "id": "0ccf8900",
   "metadata": {},
   "outputs": [
    {
     "name": "stdout",
     "output_type": "stream",
     "text": [
      "silhouette: 0.65646792310419\n"
     ]
    }
   ],
   "source": [
    "metrica = ClusteringEvaluator(predictionCol=\"grupos\")\n",
    "silhouette = metrica.evaluate(grupos)\n",
    "\n",
    "print(f\"silhouette: {silhouette}\")"
   ]
  },
  {
   "cell_type": "markdown",
   "id": "28bd6503",
   "metadata": {},
   "source": [
    "A métrica ***silhouette*** mostra que o modelo conseguir agrupar corretamente as classes, já que seu valor está mais próximo de 1."
   ]
  }
 ],
 "metadata": {
  "kernelspec": {
   "display_name": "Python 3 (ipykernel)",
   "language": "python",
   "name": "python3"
  },
  "language_info": {
   "codemirror_mode": {
    "name": "ipython",
    "version": 3
   },
   "file_extension": ".py",
   "mimetype": "text/x-python",
   "name": "python",
   "nbconvert_exporter": "python",
   "pygments_lexer": "ipython3",
   "version": "3.10.8"
  }
 },
 "nbformat": 4,
 "nbformat_minor": 5
}
