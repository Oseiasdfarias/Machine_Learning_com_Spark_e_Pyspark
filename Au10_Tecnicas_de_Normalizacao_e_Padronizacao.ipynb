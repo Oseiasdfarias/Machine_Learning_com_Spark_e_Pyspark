{
 "cells": [
  {
   "cell_type": "markdown",
   "id": "d86e46b6",
   "metadata": {},
   "source": [
    "# Normalização de Dados com Normalizer\n",
    "### Inicializando o PySpark"
   ]
  },
  {
   "cell_type": "code",
   "execution_count": 3,
   "id": "c19921db",
   "metadata": {},
   "outputs": [],
   "source": [
    "import findspark\n",
    "import pyspark\n",
    "from pyspark.sql import SparkSession\n",
    "\n",
    "# Faz a Interafce entre o Spark e o Jupyter Notebook\n",
    "findspark.init()\n",
    "\n",
    "# Inicializando uma Sessão no Spark\n",
    "spark = SparkSession.builder.appName(\"Normalizer\").getOrCreate()"
   ]
  },
  {
   "cell_type": "code",
   "execution_count": 19,
   "id": "5bb69d89",
   "metadata": {},
   "outputs": [],
   "source": [
    "from pyspark.ml.feature import VectorAssembler"
   ]
  },
  {
   "cell_type": "markdown",
   "id": "5f90f19d",
   "metadata": {},
   "source": [
    "### Carregando a Base de Dados usado nesta Aula"
   ]
  },
  {
   "cell_type": "code",
   "execution_count": 9,
   "id": "baeae954",
   "metadata": {},
   "outputs": [
    {
     "name": "stdout",
     "output_type": "stream",
     "text": [
      "+-------+---------+-----------+---------------+----+-----+---------+-----------+-------+-----------+---+\n",
      "|Consumo|Cilindros|Cilindradas|RelEixoTraseiro|Peso|Tempo|TipoMotor|Transmissao|Marchas|Carburadors| HP|\n",
      "+-------+---------+-----------+---------------+----+-----+---------+-----------+-------+-----------+---+\n",
      "|     21|        6|        160|             39| 262| 1646|        0|          1|      4|          4|110|\n",
      "|     21|        6|        160|             39|2875| 1702|        0|          1|      4|          4|110|\n",
      "|    228|        4|        108|            385| 232| 1861|        1|          1|      4|          1| 93|\n",
      "|    214|        6|        258|            308|3215| 1944|        1|          0|      3|          1|110|\n",
      "|    187|        8|        360|            315| 344| 1702|        0|          0|      3|          2|175|\n",
      "+-------+---------+-----------+---------------+----+-----+---------+-----------+-------+-----------+---+\n",
      "only showing top 5 rows\n",
      "\n"
     ]
    }
   ],
   "source": [
    "carros = spark.read.load(\"Material_do_Curso/Carros.csv\", format=\"csv\",\n",
    "                        sep=\";\", inferSchema=True, header=True)\n",
    "carros.show(5)"
   ]
  },
  {
   "cell_type": "markdown",
   "id": "f50c8a1f",
   "metadata": {
    "scrolled": false
   },
   "source": [
    "### Crianda DataFrame usando VectorAssembler"
   ]
  },
  {
   "cell_type": "code",
   "execution_count": 12,
   "id": "27860e9d",
   "metadata": {
    "scrolled": false
   },
   "outputs": [
    {
     "name": "stdout",
     "output_type": "stream",
     "text": [
      "+-------+---------+-----------+-----------------+\n",
      "|Consumo|Cilindros|Cilindradas|           Matriz|\n",
      "+-------+---------+-----------+-----------------+\n",
      "|     21|        6|        160| [21.0,6.0,160.0]|\n",
      "|     21|        6|        160| [21.0,6.0,160.0]|\n",
      "|    228|        4|        108|[228.0,4.0,108.0]|\n",
      "|    214|        6|        258|[214.0,6.0,258.0]|\n",
      "|    187|        8|        360|[187.0,8.0,360.0]|\n",
      "+-------+---------+-----------+-----------------+\n",
      "only showing top 5 rows\n",
      "\n"
     ]
    }
   ],
   "source": [
    "# Instanciando um Objeto VectorAssembler e aplicando a transformação dos dados\n",
    "vecassembler = VectorAssembler(inputCols=[\"Consumo\", \"Cilindros\", \"Cilindradas\"], outputCol=\"Matriz\")\n",
    "carros_vetor = vecassembler.transform(carros)\n",
    "carros_vetor.select(\"Consumo\", \"Cilindros\", \"Cilindradas\", \"Matriz\").show(5)"
   ]
  },
  {
   "cell_type": "markdown",
   "id": "3f30903c",
   "metadata": {},
   "source": [
    "### Normalizando os dados usando o método Normalizer"
   ]
  },
  {
   "cell_type": "code",
   "execution_count": 17,
   "id": "1158dfde",
   "metadata": {},
   "outputs": [],
   "source": [
    "from pyspark.ml.feature import Normalizer"
   ]
  },
  {
   "cell_type": "code",
   "execution_count": 13,
   "id": "1847480d",
   "metadata": {
    "scrolled": false
   },
   "outputs": [
    {
     "name": "stdout",
     "output_type": "stream",
     "text": [
      "+------------------+--------------------------------------------------------------+\n",
      "|Matriz            |Matriznorm                                                    |\n",
      "+------------------+--------------------------------------------------------------+\n",
      "|[21.0,6.0,160.0]  |[0.11229946524064172,0.03208556149732621,0.8556149732620321]  |\n",
      "|[21.0,6.0,160.0]  |[0.11229946524064172,0.03208556149732621,0.8556149732620321]  |\n",
      "|[228.0,4.0,108.0] |[0.6705882352941176,0.011764705882352941,0.3176470588235294]  |\n",
      "|[214.0,6.0,258.0] |[0.4476987447698745,0.012552301255230125,0.5397489539748954]  |\n",
      "|[187.0,8.0,360.0] |[0.33693693693693694,0.014414414414414415,0.6486486486486487] |\n",
      "|[181.0,6.0,225.0] |[0.4393203883495146,0.014563106796116505,0.5461165048543689]  |\n",
      "|[143.0,8.0,360.0] |[0.27984344422700586,0.015655577299412915,0.7045009784735812] |\n",
      "|[244.0,4.0,1467.0]|[0.1422740524781341,0.0023323615160349854,0.8553935860058309] |\n",
      "|[228.0,4.0,1408.0]|[0.13902439024390245,0.0024390243902439024,0.8585365853658536]|\n",
      "|[192.0,6.0,1676.0]|[0.10245464247598719,0.0032017075773745998,0.8943436499466382]|\n",
      "|[178.0,6.0,1676.0]|[0.0956989247311828,0.0032258064516129032,0.9010752688172043] |\n",
      "|[164.0,8.0,2758.0]|[0.05597269624573379,0.0027303754266211604,0.941296928327645] |\n",
      "|[173.0,8.0,2758.0]|[0.058863559033684926,0.0027220142905750254,0.93841442667574] |\n",
      "|[152.0,8.0,2758.0]|[0.0520904729266621,0.0027416038382453737,0.9451679232350926] |\n",
      "|[104.0,8.0,472.0] |[0.1780821917808219,0.0136986301369863,0.8082191780821918]    |\n",
      "|[104.0,8.0,460.0] |[0.18181818181818182,0.013986013986013986,0.8041958041958042] |\n",
      "|[147.0,8.0,440.0] |[0.24705882352941178,0.013445378151260505,0.7394957983193278] |\n",
      "|[324.0,4.0,787.0] |[0.2905829596412556,0.003587443946188341,0.705829596412556]   |\n",
      "|[304.0,4.0,757.0] |[0.28544600938967135,0.003755868544600939,0.7107981220657277] |\n",
      "|[339.0,4.0,711.0] |[0.3216318785578748,0.003795066413662239,0.674573055028463]   |\n",
      "+------------------+--------------------------------------------------------------+\n",
      "only showing top 20 rows\n",
      "\n"
     ]
    }
   ],
   "source": [
    "# Instanciando um Objeto Normalizer e aplicando a transformação dos dados\n",
    "normalizador = Normalizer(inputCol=\"Matriz\", outputCol=\"Matriznorm\", p=1.0)\n",
    "carrrosnorn = normalizador.transform(carros_vetor)\n",
    "carrrosnorn.select(\"Matriz\", \"Matriznorm\").show(truncate=False)"
   ]
  },
  {
   "cell_type": "markdown",
   "id": "93bc4af4",
   "metadata": {},
   "source": [
    "---\n",
    " \n",
    "# Padronização de Dados com StandardScaler\n",
    " \n",
    "### Características\n",
    "Normaliza os atribultos para o desvio padrão ou média zero;\n",
    "\n",
    "Parâmetros:\n",
    "> + **withStd**: Transforma os dados para o desvio padrão da unidade, Padrão: True;\n",
    "> + **withMean**: Antes de realizar a transformação, centraliza os dados pela média. Padrão: False."
   ]
  },
  {
   "cell_type": "code",
   "execution_count": 18,
   "id": "2adfa151",
   "metadata": {},
   "outputs": [],
   "source": [
    "from pyspark.ml.feature import StandardScaler"
   ]
  },
  {
   "cell_type": "code",
   "execution_count": 15,
   "id": "c7c31824",
   "metadata": {
    "scrolled": false
   },
   "outputs": [
    {
     "name": "stderr",
     "output_type": "stream",
     "text": [
      "                                                                                \r"
     ]
    },
    {
     "name": "stdout",
     "output_type": "stream",
     "text": [
      "+------------------+-----------------------------------------------------------+\n",
      "|Matriz            |AtandardMatriz                                             |\n",
      "+------------------+-----------------------------------------------------------+\n",
      "|[21.0,6.0,160.0]  |[0.24996122082808128,3.359609874407659,0.20137542427273997]|\n",
      "|[21.0,6.0,160.0]  |[0.24996122082808128,3.359609874407659,0.20137542427273997]|\n",
      "|[228.0,4.0,108.0] |[2.713864683276311,2.239739916271773,0.13592841138409947]  |\n",
      "|[214.0,6.0,258.0] |[2.5472238693909235,3.359609874407659,0.32471787163979315] |\n",
      "|[187.0,8.0,360.0] |[2.2258451568976763,4.479479832543546,0.4530947046136649]  |\n",
      "|[181.0,6.0,225.0] |[2.15442766523251,3.359609874407659,0.28318419038354053]   |\n",
      "|[143.0,8.0,360.0] |[1.7021168846864583,4.479479832543546,0.4530947046136649]  |\n",
      "|[244.0,4.0,1467.0]|[2.904311327716754,2.239739916271773,1.8463609213006844]   |\n",
      "|[228.0,4.0,1408.0]|[2.713864683276311,2.239739916271773,1.7721037336001115]   |\n",
      "|[192.0,6.0,1676.0]|[2.2853597332853144,3.359609874407659,2.109407569256951]   |\n",
      "|[178.0,6.0,1676.0]|[2.118718919399927,3.359609874407659,2.109407569256951]    |\n",
      "|[164.0,8.0,2758.0]|[1.9520781055145395,4.479479832543546,3.471208875901355]   |\n",
      "|[173.0,8.0,2758.0]|[2.0592043430122886,4.479479832543546,3.471208875901355]   |\n",
      "|[152.0,8.0,2758.0]|[1.8092431221842074,4.479479832543546,3.471208875901355]   |\n",
      "|[104.0,8.0,472.0] |[1.2379031888628786,4.479479832543546,0.5940575016045828]  |\n",
      "|[104.0,8.0,460.0] |[1.2379031888628786,4.479479832543546,0.5789543447841273]  |\n",
      "|[147.0,8.0,440.0] |[1.749728545796569,4.479479832543546,0.5537824167500349]   |\n",
      "|[324.0,4.0,787.0] |[3.856544549918968,2.239739916271773,0.9905153681415396]   |\n",
      "|[304.0,4.0,757.0] |[3.6184862443684147,2.239739916271773,0.952757476090401]   |\n",
      "|[339.0,4.0,711.0] |[4.035088279081884,2.239739916271773,0.8948620416119881]   |\n",
      "+------------------+-----------------------------------------------------------+\n",
      "only showing top 20 rows\n",
      "\n"
     ]
    }
   ],
   "source": [
    "# Instanciando um Objeto StandardScaler e aplicando a transformação dos dados\n",
    "standartscaler = StandardScaler(inputCol=\"Matriz\", outputCol=\"AtandardMatriz\", withStd=True, withMean=False)\n",
    "modelo = standartscaler.fit(carros_vetor)\n",
    "carrrosstandard = modelo.transform(carros_vetor)\n",
    "carrrosstandard.select(\"Matriz\", \"AtandardMatriz\").show(truncate=False)"
   ]
  },
  {
   "cell_type": "markdown",
   "id": "c71e25b2",
   "metadata": {},
   "source": [
    "# Padronização de Dados com RobustScaler\n",
    "\n",
    "Faz a padronização dos dados levando em consideração o Quantil.\n",
    "\n",
    "Sua aplicação ajuda a padronizar dados com ***outliers*** se comparado com o StandardScaler.\n",
    "\n",
    "Parâmetros:\n",
    "> + **lower**: Quantil inferior usado para o cálculo dos intervalos, possui valor padrão: 0,25 \n",
    "> + **upper**: Quantil superior usado para o cálculo dos intervalos, possui valor padrão: 0,0.75\n",
    "> + **withScaling**: Dimensiona os dados para o Quantil, valor booleano, possui valor padrão: True\n",
    "> + **withCentering**: Centraliza os dados com a mediana antes de aplicar a transformação, valor booleano, possui valor padrão: False"
   ]
  },
  {
   "cell_type": "code",
   "execution_count": 22,
   "id": "9b835211",
   "metadata": {},
   "outputs": [],
   "source": [
    "from pyspark.ml.feature import RobustScaler"
   ]
  },
  {
   "cell_type": "code",
   "execution_count": 21,
   "id": "6fa344c2",
   "metadata": {},
   "outputs": [
    {
     "name": "stderr",
     "output_type": "stream",
     "text": [
      "                                                                                \r"
     ]
    },
    {
     "name": "stdout",
     "output_type": "stream",
     "text": [
      "+------------------+---------------------------------------------+\n",
      "|Matriz            |RobustMatriz                                 |\n",
      "+------------------+---------------------------------------------+\n",
      "|[21.0,6.0,160.0]  |[0.29166666666666663,1.5,0.16967126193001061]|\n",
      "|[21.0,6.0,160.0]  |[0.29166666666666663,1.5,0.16967126193001061]|\n",
      "|[228.0,4.0,108.0] |[3.1666666666666665,1.0,0.11452810180275717] |\n",
      "|[214.0,6.0,258.0] |[2.972222222222222,1.5,0.27359490986214213]  |\n",
      "|[187.0,8.0,360.0] |[2.597222222222222,2.0,0.3817603393425239]   |\n",
      "|[181.0,6.0,225.0] |[2.513888888888889,1.5,0.23860021208907745]  |\n",
      "|[143.0,8.0,360.0] |[1.986111111111111,2.0,0.3817603393425239]   |\n",
      "|[244.0,4.0,1467.0]|[3.388888888888889,1.0,1.555673382820785]    |\n",
      "|[228.0,4.0,1408.0]|[3.1666666666666665,1.0,1.4931071049840934]  |\n",
      "|[192.0,6.0,1676.0]|[2.6666666666666665,1.5,1.7773064687168612]  |\n",
      "|[178.0,6.0,1676.0]|[2.472222222222222,1.5,1.7773064687168612]   |\n",
      "|[164.0,8.0,2758.0]|[2.2777777777777777,2.0,2.924708377518558]   |\n",
      "|[173.0,8.0,2758.0]|[2.4027777777777777,2.0,2.924708377518558]   |\n",
      "|[152.0,8.0,2758.0]|[2.111111111111111,2.0,2.924708377518558]    |\n",
      "|[104.0,8.0,472.0] |[1.4444444444444444,2.0,0.5005302226935313]  |\n",
      "|[104.0,8.0,460.0] |[1.4444444444444444,2.0,0.48780487804878053] |\n",
      "|[147.0,8.0,440.0] |[2.0416666666666665,2.0,0.4665959703075292]  |\n",
      "|[324.0,4.0,787.0] |[4.5,1.0,0.8345705196182397]                 |\n",
      "|[304.0,4.0,757.0] |[4.222222222222222,1.0,0.8027571580063627]   |\n",
      "|[339.0,4.0,711.0] |[4.708333333333333,1.0,0.7539766702014847]   |\n",
      "+------------------+---------------------------------------------+\n",
      "only showing top 20 rows\n",
      "\n"
     ]
    }
   ],
   "source": [
    "# Instanciando um Objeto RobustScaler e aplicando a transformação dos dados\n",
    "robustscaler = RobustScaler(inputCol=\"Matriz\", outputCol=\"RobustMatriz\",\n",
    "                            withScaling=True, withCentering=False,\n",
    "                            lower=0.25, upper=0.75)\n",
    "modelo = robustscaler.fit(carros_vetor)\n",
    "carrrosrobust = modelo.transform(carros_vetor)\n",
    "carrrosrobust.select(\"Matriz\", \"RobustMatriz\").show(truncate=False)"
   ]
  }
 ],
 "metadata": {
  "kernelspec": {
   "display_name": "Python 3 (ipykernel)",
   "language": "python",
   "name": "python3"
  },
  "language_info": {
   "codemirror_mode": {
    "name": "ipython",
    "version": 3
   },
   "file_extension": ".py",
   "mimetype": "text/x-python",
   "name": "python",
   "nbconvert_exporter": "python",
   "pygments_lexer": "ipython3",
   "version": "3.10.8"
  }
 },
 "nbformat": 4,
 "nbformat_minor": 5
}
